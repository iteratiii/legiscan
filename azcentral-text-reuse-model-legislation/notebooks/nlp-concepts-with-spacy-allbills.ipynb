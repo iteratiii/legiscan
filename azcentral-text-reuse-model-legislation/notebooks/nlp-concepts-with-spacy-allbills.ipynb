{
 "cells": [
  {
   "cell_type": "markdown",
   "metadata": {},
   "source": [
    "# Natural language processing concepts with spaCy\n",
    "\n",
    "By [Allison Parrish](http://www.decontextualize.com/)\n",
    "\n",
    "“Natural Language Processing” is a field at the intersection of computer science, linguistics and artificial intelligence which aims to make the underlying structure of language available to computer programs for analysis and manipulation. It’s a vast and vibrant field with a long history! New research and techniques are being developed constantly.\n",
    "\n",
    "The aim of this notebook is to introduce a few simple concepts and techniques from NLP—just the stuff that’ll help you do creative things quickly, and maybe open the door for you to understand more sophisticated NLP concepts that you might encounter elsewhere. We'll start with simple extraction tasks: isolating words, sentences, and parts of speech. By the end, we'll have a few working systems for creating sophisticated text generators that function by remixing texts based on their constituent linguistic units. This tutorial is written for Python 3.6+.\n",
    "\n",
    "There are a number of libraries for performing natural language processing tasks in Python, including:\n",
    "\n",
    "* [NLTK](http://www.nltk.org/): a workhorse of a library, still widely used, but somewhat dated in terms of capabilities\n",
    "* [Stanza](https://stanfordnlp.github.io/stanza/index.html) is a newish natural language processing library for Python, developed by the storied [Stanford NLP Group](https://nlp.stanford.edu/). It includes a client library for Stanford NLP's [CoreNLP library](https://stanfordnlp.github.io/CoreNLP/) for functionality not yet natively available in Python.\n",
    "* [AllenNLP](https://allennlp.org/) is a library for developing and deploying natural language processing machine learning models, including models for [sentiment analysis](https://demo.allennlp.org/sentiment-analysis), [constituency parsing](https://demo.allennlp.org/constituency-parsing) and [co-reference resolution](https://demo.allennlp.org/coreference-resolution).\n",
    "\n",
    "But we'll be using a library called [spaCy](https://spacy.io/), which very powerful and easy for newcomers to understand. It's been among the most important tools in my text processing toolbox for many years!\n",
    "\n",
    "\n",
    "## Natural language\n",
    "\n",
    "“Natural language” is a loaded phrase: what makes one stretch of language “natural” while another stretch is not? NLP techniques are opinionated about what language is and how it works; as a consequence, you’ll sometimes find yourself having to conceptualize your text with uncomfortable abstractions in order to make it work with NLP. (This is especially true of poetry, which almost by definition breaks most “conventional” definitions of how language behaves and how it’s structured.)\n",
    "\n",
    "Of course, a computer can never really fully “understand” human language. Even when the text you’re using fits the abstractions of NLP perfectly, the results of NLP analysis are always going to be at least a little bit inaccurate. But often even inaccurate results can be “good enough”—and in any case, inaccurate output from NLP procedures can be an excellent source of the sublime and absurd juxtapositions that we (as poets) are constantly in search of.\n",
    "\n",
    "## Language support\n",
    "\n",
    "Historically, most NLP researchers have focused their efforts on English specifically. But many natural language processing libraries now support a wide range of languages. You can find the full [list of supported languages](https://spacy.io/usage/models#languages) on their website, though the robustness of these models varies from one language to the next, as does the specifics of how the model works. (For example, different languages have different ideas about what a \"part of speech\" is.) The examples in this notebook are primarily in English. If you're having trouble applying these techniques to other languages, send me an e-mail—I'd be happy to help you figure out how to get things working for languages other than English!\n",
    "\n",
    "## English grammar: a crash course\n",
    "\n",
    "The only thing I believe about English grammar is [this](http://www.writing.upenn.edu/~afilreis/88v/creeley-on-sentence.html):\n",
    "\n",
    "> \"Oh yes, the sentence,\" Creeley once told the critic Burton Hatlen, \"that's\n",
    "> what we call it when we put someone in jail.\"\n",
    "\n",
    "There is no such thing as a sentence, or a phrase, or a part of speech, or even\n",
    "a \"word\"---these are all pareidolic fantasies occasioned by glints of sunlight\n",
    "we see on reflected on the surface of the ocean of language; fantasies that we\n",
    "comfort ourselves with when faced with language's infinite and unknowable\n",
    "variability.\n",
    "\n",
    "Regardless, we may find it occasionally helpful to think about language using\n",
    "these abstractions. The following is a gross oversimplification of both how\n",
    "English grammar works, and how theories of English grammar work in the context\n",
    "of NLP. But it should be enough to get us going!\n",
    "\n",
    "### Sentences and parts of speech\n",
    "\n",
    "English texts can roughly be divided into \"sentences.\" Sentences are themselves\n",
    "composed of individual words, each of which has a function in expressing the\n",
    "meaning of the sentence. The function of a word in a sentence is called its\n",
    "\"part of speech\"—i.e., a word functions as a noun, a verb, an adjective, etc.\n",
    "Here's a sentence, with words marked for their part of speech:\n",
    "\n",
    "    I       really love entrees       from        the        new       cafeteria.\n",
    "    pronoun adverb verb noun (plural) preposition determiner adjective noun\n",
    "\n",
    "Of course, the \"part of speech\" of a word isn't a property of the word itself.\n",
    "We know this because a single \"word\" can function as two different parts of speech:\n",
    "\n",
    "> I love cheese.\n",
    "\n",
    "The word \"love\" here is a verb. But here:\n",
    "\n",
    "> Love is a battlefield.\n",
    "\n",
    "... it's a noun. For this reason (and others), it's difficult for computers to\n",
    "accurately determine the part of speech for a word in a sentence. (It's\n",
    "difficult sometimes even for humans to do this.) But NLP procedures do their\n",
    "best!\n",
    "\n",
    "### Phrases and larger syntactic structures\n",
    "\n",
    "There are several different ways for talking about larger syntactic structures in sentences. The scheme used by spaCy is called a \"dependency grammar.\" We'll talk about the details of this below."
   ]
  },
  {
   "cell_type": "markdown",
   "metadata": {},
   "source": [
    "## Installing spaCy\n",
    "\n",
    "There are [instructions for installing spaCy](https://spacy.io/usage) on the spaCy web page. You can also install it by running the following cell in this notebook:"
   ]
  },
  {
   "cell_type": "code",
   "execution_count": null,
   "metadata": {},
   "outputs": [],
   "source": [
    "import sys\n",
    "!conda install -c conda-forge -y --prefix {sys.prefix} spacy"
   ]
  },
  {
   "cell_type": "markdown",
   "metadata": {},
   "source": [
    "You'll also need to download a language model. You can download the default language model for English by running the cell below:"
   ]
  },
  {
   "cell_type": "code",
   "execution_count": null,
   "metadata": {},
   "outputs": [],
   "source": [
    "import sys\n",
    "!{sys.executable} -m spacy download en_core_web_md"
   ]
  },
  {
   "cell_type": "markdown",
   "metadata": {},
   "source": [
    "Replace `en_core_web_md` with the name of the model you want to install. [The spaCy documentation explains the difference between the various models](https://spacy.io/models).\n",
    "\n",
    "The language model contains machine learning models for splitting texts into sentences and words, tagging words with their parts of speech, identifying entities, and discovering the syntactic structure of sentences."
   ]
  },
  {
   "cell_type": "markdown",
   "metadata": {},
   "source": [
    "## Basic usage\n",
    "\n",
    "Import `spacy` like any other Python module:"
   ]
  },
  {
   "cell_type": "code",
   "execution_count": 280,
   "metadata": {},
   "outputs": [],
   "source": [
    "import spacy"
   ]
  },
  {
   "cell_type": "markdown",
   "metadata": {},
   "source": [
    "Create a new spaCy object using `spacy.load(...)`. The name in the parentheses is the same as the name of the model you downloaded above. If you downloaded a different model, you can put its name here instead."
   ]
  },
  {
   "cell_type": "code",
   "execution_count": 281,
   "metadata": {},
   "outputs": [],
   "source": [
    "nlp = spacy.load('en_core_web_md')"
   ]
  },
  {
   "cell_type": "markdown",
   "metadata": {},
   "source": [
    "It's more fun doing natural language processing on text that you're interested in. I recommend grabbing a something from [Project Gutenberg](http://www.gutenberg.org/). Download a plain text file and put it in the same directory as this notebook, taking care to replace the filename in the cell below with the name of the file you downloaded."
   ]
  },
  {
   "cell_type": "code",
   "execution_count": 282,
   "metadata": {},
   "outputs": [],
   "source": [
    "# replace \"84-0.txt\" with the name of your own text file\n",
    "text = open(\"allbillsnostopwords.txt\").read()"
   ]
  },
  {
   "cell_type": "markdown",
   "metadata": {},
   "source": [
    "Now, use spaCy to parse it. (This might take a while, depending on the size of your text.)"
   ]
  },
  {
   "cell_type": "code",
   "execution_count": 283,
   "metadata": {
    "scrolled": true
   },
   "outputs": [],
   "source": [
    "nlp.max_length = 5000000 #or any large value, as long as you don't run out of RAM\n",
    "doc = nlp(text)"
   ]
  },
  {
   "cell_type": "markdown",
   "metadata": {},
   "source": [
    "Right off the bat, the spaCy library gives us access to a number of interesting units of text:\n",
    "\n",
    "* All of the sentences (`doc.sents`)\n",
    "* All of the words (`doc`)\n",
    "* All of the \"named entities,\" like names of places, people, #brands, etc. (`doc.ents`)\n",
    "* All of the \"noun chunks,\" i.e., nouns in the text plus surrounding matter like adjectives and articles\n",
    "\n",
    "The cell below, we extract these into variables so we can play around with them a little bit."
   ]
  },
  {
   "cell_type": "code",
   "execution_count": 284,
   "metadata": {},
   "outputs": [
    {
     "data": {
      "text/plain": [
       "<spacy.pipeline.sentencizer.Sentencizer at 0x7fbc9068da80>"
      ]
     },
     "execution_count": 284,
     "metadata": {},
     "output_type": "execute_result"
    }
   ],
   "source": [
    "nlp.add_pipe('sentencizer')"
   ]
  },
  {
   "cell_type": "code",
   "execution_count": 285,
   "metadata": {},
   "outputs": [],
   "source": [
    "sentences = list(doc.sents)\n",
    "words = [w for w in list(doc) if w.is_alpha]\n",
    "noun_chunks = list(doc.noun_chunks)\n",
    "entities = list(doc.ents)"
   ]
  },
  {
   "cell_type": "markdown",
   "metadata": {},
   "source": [
    "### Counting and sampling\n",
    "\n",
    "With this information in hand, we can answer interesting questions like: how many sentences are in the text?"
   ]
  },
  {
   "cell_type": "code",
   "execution_count": 286,
   "metadata": {},
   "outputs": [
    {
     "data": {
      "text/plain": [
       "18949"
      ]
     },
     "execution_count": 286,
     "metadata": {},
     "output_type": "execute_result"
    }
   ],
   "source": [
    "len(sentences)"
   ]
  },
  {
   "cell_type": "markdown",
   "metadata": {},
   "source": [
    "Using `random.sample()`, we can get a small, randomly-selected sample from these lists. Here are five random sentences:"
   ]
  },
  {
   "cell_type": "code",
   "execution_count": 287,
   "metadata": {
    "scrolled": true
   },
   "outputs": [
    {
     "name": "stdout",
     "output_type": "stream",
     "text": [
      "SECTION 4.\n",
      "\n",
      "5 SEC.\n",
      "\n",
      "enacted General Assembly State Missouri, follows: Section A. Chapter 170, RSMo, amended adding thereto one new section, known section 170.385, read follows:3 170.385.\n",
      "\n",
      "damages shall cumulative way limited remedies may available federal, state, municipal law.\n",
      "\n",
      "event hearing hearings officials receiving state, governing law shall sending state record hearing hearings prescribed sending state shall made.\n",
      "\n"
     ]
    }
   ],
   "source": [
    "import random\n",
    "for item in random.sample(sentences, 5):\n",
    "    print(item.text.strip().replace(\"\\n\", \" \"))\n",
    "    print()"
   ]
  },
  {
   "cell_type": "markdown",
   "metadata": {},
   "source": [
    "Ten random words:"
   ]
  },
  {
   "cell_type": "code",
   "execution_count": 288,
   "metadata": {},
   "outputs": [
    {
     "name": "stdout",
     "output_type": "stream",
     "text": [
      "otherwise\n",
      "administrative\n",
      "monetary\n",
      "Sex\n",
      "school\n",
      "circumstances\n",
      "verifiable\n",
      "STUDENTS\n",
      "cartilage\n",
      "relating\n"
     ]
    }
   ],
   "source": [
    "for item in random.sample(words, 10):\n",
    "    print(item.text)"
   ]
  },
  {
   "cell_type": "markdown",
   "metadata": {},
   "source": [
    "Ten random noun chunks:"
   ]
  },
  {
   "cell_type": "code",
   "execution_count": 289,
   "metadata": {},
   "outputs": [
    {
     "name": "stdout",
     "output_type": "stream",
     "text": [
      "power school district board directors\n",
      "parents\n",
      "student's sex\n",
      "Violation(s\n",
      "17 interest child\n",
      "physiological differences\n",
      "person\n",
      "foster parents\n",
      "another person\n",
      ".\n"
     ]
    }
   ],
   "source": [
    "for item in random.sample(noun_chunks, 10):\n",
    "    print(item.text)"
   ]
  },
  {
   "cell_type": "markdown",
   "metadata": {},
   "source": [
    "Ten random entities:"
   ]
  },
  {
   "cell_type": "code",
   "execution_count": 290,
   "metadata": {},
   "outputs": [],
   "source": [
    "import re"
   ]
  },
  {
   "cell_type": "code",
   "execution_count": 291,
   "metadata": {},
   "outputs": [
    {
     "name": "stdout",
     "output_type": "stream",
     "text": [
      "4:09:50 PM\n",
      "two\n",
      "37\n",
      "27\n",
      "annually\n",
      "5\n",
      "3\n",
      "1\n",
      "Idaho\n",
      "1\n"
     ]
    }
   ],
   "source": [
    "for item in random.sample(entities, 10):\n",
    "    print(item.text)"
   ]
  },
  {
   "cell_type": "markdown",
   "metadata": {},
   "source": [
    "### spaCy data types\n",
    "\n",
    "Note that the values that spaCy returns belong to specific spaCy data types. You can read more about [these data types](https://spacy.io/api) in the spaCy documentation, in particular [spans](https://spacy.io/api/span/) and [tokens](https://spacy.io/api/token). (Spans represent sequences of tokens; a sentence in spaCy is a span, and a word is a token.) If you want a list of strings instead of a list of spaCy objects, use the `.text` attribute, which works for spans and tokens alike. For example:"
   ]
  },
  {
   "cell_type": "code",
   "execution_count": 292,
   "metadata": {},
   "outputs": [],
   "source": [
    "sentence_strs = [item.text for item in doc.sents]"
   ]
  },
  {
   "cell_type": "code",
   "execution_count": 293,
   "metadata": {},
   "outputs": [
    {
     "data": {
      "text/plain": [
       "['(2) person shall knowingly engage conduct aids abets gender reassignment surgery services performed provided minor.',\n",
       " '6 act would take effect January 1, 2024.',\n",
       " '33 1. public fund shall following: 34 a. Grant proxy voting authority person 35 -3- LSB 1119YH (6) 90 ec/rn 3/ 10 H.F. 2 part public fund adopt practice following 1 recommendations proxy advisor unless person 2 advisor practice of, writing commits to, 3 following guidelines act solely financial interest 4 participants beneficiaries public fund based 5 upon improper financial factors.',\n",
       " \"(c) school district adopts policy allows separation multi-occupancy bathrooms changing facilities according criterion person's biological sex assigned birth, policy must: (1) include: (A) description of: (i) multi-occupancy bathrooms changing facilities separated biological sex assigned birth; (ii) multi-occupancy bathroom changing facility separated biological sex assigned birth, method students supervised facility manner method supervision ensures safety privacy students; (B) accommodations modifications students wish use multi-occupancy bathroom changing facility separated biological sex assigned birth; (2) be: (A) posted district's Internet website; (B) provided beginning school year mail parent student enrolled district.\",\n",
       " '5 2. provisions section shall apply speech protected 6 First Amendment United States Constitution.',\n",
       " '(a) attorney general may investigate bring 2 action enforce compliance chapter.',\n",
       " 'bill makes conforming changes 6 Code sections 256.11 (educational standards) 279.50 (human 7 growth development instruction) provide human 8 growth development instruction provided students 9 kindergarten grade eight shall include program, 10 curriculum, material, test, survey, questionnaire, activity, 11 announcement, promotion, instruction kind relating 12 gender identity sexual orientation.',\n",
       " '(2) \"Gender\" means psychological, behavioral, social, cultural aspects male female.',\n",
       " '17 bill relates public contracts, public fund 18 investing, lending practices certain companies 19 engage economic boycotts based environmental, social, 20 governance criteria.',\n",
       " 'Notwithstanding provision law, action section may 39 commenced, relief may granted, judicial proceeding without regard 40 whether individual commencing action sought exhausted available 41 administrative remedies.']"
      ]
     },
     "execution_count": 293,
     "metadata": {},
     "output_type": "execute_result"
    }
   ],
   "source": [
    "random.sample(sentence_strs, 10)"
   ]
  },
  {
   "cell_type": "markdown",
   "metadata": {},
   "source": [
    "### Parts of speech\n",
    "\n",
    "The spaCy parser allows us to check what part of speech a word belongs to. In the cell below, we create four different lists—`nouns`, `verbs`, `adjs` and `advs`—that contain only words of the specified parts of speech. ([There's a full list of part of speech tags here](https://spacy.io/docs/usage/pos-tagging#pos-tagging-english))."
   ]
  },
  {
   "cell_type": "code",
   "execution_count": 294,
   "metadata": {},
   "outputs": [],
   "source": [
    "nouns = [w for w in words if w.pos_ == \"NOUN\"]\n",
    "verbs = [w for w in words if w.pos_ == \"VERB\"]\n",
    "adjs = [w for w in words if w.pos_ == \"ADJ\"]\n",
    "advs = [w for w in words if w.pos_ == \"ADV\"]"
   ]
  },
  {
   "cell_type": "markdown",
   "metadata": {},
   "source": [
    "And now we can print out a random sample of any of these:"
   ]
  },
  {
   "cell_type": "code",
   "execution_count": 295,
   "metadata": {},
   "outputs": [
    {
     "name": "stdout",
     "output_type": "stream",
     "text": [
      "otherwise\n",
      "explicitly\n",
      "right\n",
      "normally\n",
      "accurately\n",
      "directly\n",
      "physically\n",
      "otherwise\n",
      "immediately\n",
      "also\n",
      "Sexually\n",
      "irresolvably\n",
      "also\n",
      "Whereas\n",
      "immediately\n",
      "commercially\n",
      "naturally\n",
      "hereby\n",
      "generally\n",
      "sincerely\n"
     ]
    }
   ],
   "source": [
    "for item in random.sample(advs, 20): # change \"nouns\" to \"verbs\" or \"adjs\" or \"advs\" to sample from those lists!\n",
    "    print(item.text)"
   ]
  },
  {
   "cell_type": "markdown",
   "metadata": {},
   "source": [
    "### Entity types\n",
    "\n",
    "The parser in spaCy not only identifies \"entities\" but also assigns them to a particular type. [See a full list of entity types here.](https://spacy.io/docs/usage/entity-recognition#entity-types) Using this information, the following cell builds lists of the people, locations, and times mentioned in the text:"
   ]
  },
  {
   "cell_type": "code",
   "execution_count": 296,
   "metadata": {},
   "outputs": [],
   "source": [
    "people = [e for e in entities if e.label_ == \"PERSON\"]\n",
    "locations = [e for e in entities if e.label_ == \"LOC\"]\n",
    "times = [e for e in entities if e.label_ == \"TIME\"]\n",
    "GPE = [e for e in entities if e.label_ == \"GPE\"]"
   ]
  },
  {
   "cell_type": "markdown",
   "metadata": {},
   "source": [
    "And then you can print out a random sample:"
   ]
  },
  {
   "cell_type": "code",
   "execution_count": 297,
   "metadata": {
    "scrolled": true
   },
   "outputs": [
    {
     "name": "stdout",
     "output_type": "stream",
     "text": [
      "Hawaii\n",
      "R.I.\n",
      "Kansas\n",
      "U.S.\n",
      "Harbin\n",
      "United States\n",
      "Dist 9\n",
      "New York\n",
      "Arkansas\n",
      "Arkansas\n",
      "county\n",
      "Minnesota\n",
      "LB810\n",
      "F.S.\n",
      "county\n",
      "Hawaii\n",
      "United States\n",
      "LUCERO\n",
      "Arkansas\n",
      "Kentucky\n"
     ]
    }
   ],
   "source": [
    "for item in random.sample(GPE, 20): # change \"times\" to \"people\" or \"locations\" to sample those lists\n",
    "    print(item.text.strip())"
   ]
  },
  {
   "cell_type": "markdown",
   "metadata": {},
   "source": [
    "## Finding the most common\n",
    "\n",
    "After we've parsed the text out into meaningful units, it might be interesting to see which examples of those units are the most common in a text.\n",
    "\n",
    "One of the most common tasks in text analysis is counting how many times things occur in a text. The easiest way to do this in Python is with the [`Counter` object, contained in the `collections` module](https://docs.python.org/3/library/collections.html#collections.Counter). Run the following cell to create a `Counter` object to count your words."
   ]
  },
  {
   "cell_type": "code",
   "execution_count": 298,
   "metadata": {},
   "outputs": [],
   "source": [
    "from collections import Counter\n",
    "word_count = Counter([w.text for w in words])"
   ]
  },
  {
   "cell_type": "markdown",
   "metadata": {},
   "source": [
    "Once you've created the counter, you can check to see how many times any word occurs like so:"
   ]
  },
  {
   "cell_type": "code",
   "execution_count": 299,
   "metadata": {},
   "outputs": [
    {
     "data": {
      "text/plain": [
       "65"
      ]
     },
     "execution_count": 299,
     "metadata": {},
     "output_type": "execute_result"
    }
   ],
   "source": [
    "word_count['subjective']"
   ]
  },
  {
   "cell_type": "markdown",
   "metadata": {},
   "source": [
    "The `Counter` object's `.most_common()` method gives you access to a list of tuples with words and their counts, sorted in reverse order by count:"
   ]
  },
  {
   "cell_type": "code",
   "execution_count": 300,
   "metadata": {},
   "outputs": [
    {
     "data": {
      "text/plain": [
       "[('shall', 5194),\n",
       " ('school', 4537),\n",
       " ('section', 3027),\n",
       " ('sex', 2982),\n",
       " ('health', 2702),\n",
       " ('person', 2662),\n",
       " ('child', 2541),\n",
       " ('state', 2367),\n",
       " ('may', 2359),\n",
       " ('care', 2250)]"
      ]
     },
     "execution_count": 300,
     "metadata": {},
     "output_type": "execute_result"
    }
   ],
   "source": [
    "word_count.most_common(10)"
   ]
  },
  {
   "cell_type": "markdown",
   "metadata": {},
   "source": [
    "The code in the following cell prints this out nicely:"
   ]
  },
  {
   "cell_type": "code",
   "execution_count": 301,
   "metadata": {},
   "outputs": [
    {
     "name": "stdout",
     "output_type": "stream",
     "text": [
      "shall 5194\n",
      "school 4537\n",
      "section 3027\n",
      "sex 2982\n",
      "health 2702\n",
      "person 2662\n",
      "child 2541\n",
      "state 2367\n",
      "may 2359\n",
      "care 2250\n",
      "public 2088\n",
      "gender 2075\n",
      "means 2025\n",
      "student 1810\n",
      "Section 1647\n",
      "medical 1607\n",
      "individual 1605\n",
      "parent 1587\n",
      "SECTION 1511\n",
      "action 1458\n",
      "district 1415\n",
      "a 1397\n",
      "including 1394\n",
      "b 1356\n",
      "law 1290\n",
      "board 1256\n",
      "biological 1240\n",
      "act 1167\n",
      "provided 1149\n",
      "subsection 1062\n",
      "minor 1046\n",
      "services 1037\n",
      "Code 1036\n",
      "violation 1019\n",
      "education 965\n",
      "years 960\n",
      "c 926\n",
      "sexual 924\n",
      "Act 921\n",
      "institution 908\n"
     ]
    }
   ],
   "source": [
    "for word, count in word_count.most_common(40):\n",
    "    print(word, count)"
   ]
  },
  {
   "cell_type": "markdown",
   "metadata": {},
   "source": [
    "You'll note that the list of most frequent words here likely reflects the overall frequency of words in English. Consult my [Quick and dirty keywords](quick-and-dirty-keywords.ipynb) tutorial for some simple strategies for extracting words that are most unique to a text (rather than simply the most frequent words). You may also consider [removing stop words](https://stackabuse.com/removing-stop-words-from-strings-in-python/) from the list."
   ]
  },
  {
   "cell_type": "code",
   "execution_count": 302,
   "metadata": {},
   "outputs": [],
   "source": [
    "from math import e\n",
    "def expected(nlp, word, assumed_total=1e7):\n",
    "    guess = (e**nlp.vocab[word].prob) * assumed_total\n",
    "    return (guess, assumed_total)"
   ]
  },
  {
   "cell_type": "code",
   "execution_count": 303,
   "metadata": {},
   "outputs": [],
   "source": [
    "observed = Counter([item.text for item in doc])\n",
    "observed_total = sum(observed.values())"
   ]
  },
  {
   "cell_type": "code",
   "execution_count": 304,
   "metadata": {},
   "outputs": [
    {
     "data": {
      "text/plain": [
       "12015.826627279788"
      ]
     },
     "execution_count": 304,
     "metadata": {},
     "output_type": "execute_result"
    }
   ],
   "source": [
    "from scipy.stats import chi2_contingency\n",
    "chi2_contingency([(observed[\"gender\"], observed_total), expected(nlp, \"gender\")], lambda_=0)\n",
    "def spacygtest(nlp, ob_counts, ob_total, word, assumed_total=1e7):\n",
    "    g = chi2_contingency([[ob_counts[word], ob_total], expected(nlp, word)], lambda_=0)\n",
    "    return g[0]\n",
    "spacygtest(nlp, observed, observed_total, \"gender\")"
   ]
  },
  {
   "cell_type": "code",
   "execution_count": 305,
   "metadata": {
    "scrolled": true
   },
   "outputs": [
    {
     "data": {
      "text/plain": [
       "45.37968197668325"
      ]
     },
     "execution_count": 305,
     "metadata": {},
     "output_type": "execute_result"
    }
   ],
   "source": [
    "spacygtest(nlp, observed, observed_total, \"was\")"
   ]
  },
  {
   "cell_type": "code",
   "execution_count": 306,
   "metadata": {
    "scrolled": true
   },
   "outputs": [
    {
     "data": {
      "text/plain": [
       "[(',', 254620.65645460796),\n",
       " ('.', 111284.59791144452),\n",
       " (')', 103345.18776314077),\n",
       " ('(', 102334.391167828),\n",
       " ('-', 56355.1467997031),\n",
       " (';', 52298.97169022237),\n",
       " ('\"', 36411.11024478534),\n",
       " ('shall', 30068.883205866343),\n",
       " ('school', 26268.65358089468),\n",
       " (':', 26124.021149957327),\n",
       " ('1', 25105.752805134045),\n",
       " (\"'s\", 22495.992909919172),\n",
       " ('2', 21367.405664784354),\n",
       " ('section', 17529.315541835225),\n",
       " ('sex', 17268.761876729764),\n",
       " ('health', 15647.397777237275),\n",
       " ('person', 15415.75452638435),\n",
       " ('3', 15097.23700207506),\n",
       " ('child', 14715.003685784382),\n",
       " ('state', 13707.233667194228),\n",
       " ('may', 13660.897189952426),\n",
       " ('care', 13029.543304133704),\n",
       " ('public', 12091.134459433259),\n",
       " ('gender', 12015.826627279788),\n",
       " ('means', 11726.176410992408),\n",
       " ('student', 10480.596001143047),\n",
       " ('4', 10440.039936323388),\n",
       " ('5', 9652.065342162343),\n",
       " ('Section', 9536.182236195595),\n",
       " ('medical', 9304.412605062873),\n",
       " ('individual', 9292.824004247153),\n",
       " ('parent', 9188.526087537852),\n",
       " ('SECTION', 8748.147058246008),\n",
       " ('6', 8678.61205242518),\n",
       " ('action', 8441.031108746447),\n",
       " ('district', 8191.855889768534),\n",
       " ('a', 8087.548488946653),\n",
       " ('including', 8070.163836842694),\n",
       " ('b', 7849.956145796019),\n",
       " ('law', 7467.481015242414),\n",
       " ('board', 7270.443914307217),\n",
       " ('biological', 7177.7195388656255),\n",
       " ('2023', 7171.924243581805),\n",
       " ('act', 6754.656325627643),\n",
       " ('7', 6754.656325627643),\n",
       " ('provided', 6650.337323753615),\n",
       " ('subsection', 6146.117775588608),\n",
       " ('minor', 6053.385803369078),\n",
       " ('services', 6001.2238111429),\n",
       " ('Code', 5995.428022846082)]"
      ]
     },
     "execution_count": 306,
     "metadata": {},
     "output_type": "execute_result"
    }
   ],
   "source": [
    "scored = [(item, spacygtest(nlp, observed, observed_total, item)) for item in observed.keys()]\n",
    "sorted(scored, key=lambda x: x[1], reverse=True)[:50]"
   ]
  },
  {
   "cell_type": "code",
   "execution_count": null,
   "metadata": {},
   "outputs": [],
   "source": []
  },
  {
   "cell_type": "markdown",
   "metadata": {},
   "source": [
    "---"
   ]
  },
  {
   "cell_type": "markdown",
   "metadata": {},
   "source": [
    "### Writing to a file\n",
    "\n",
    "You might want to export lists of words or other things that you make with spaCy to a file, so that you can bring them into other Python programs (or just other programs that form a part of your workflow). One way to do this is to write each item to a single line in a text file. The code in the following cell does exactly this for the word list that we just created:"
   ]
  },
  {
   "cell_type": "code",
   "execution_count": 307,
   "metadata": {},
   "outputs": [],
   "source": [
    "with open(\"spacywords.txt\", \"w\") as fh:\n",
    "    fh.write(\"\\n\".join([w.text for w in words]))"
   ]
  },
  {
   "cell_type": "markdown",
   "metadata": {},
   "source": [
    "The following cell defines a function that performs this for any list of spaCy values you pass to it:"
   ]
  },
  {
   "cell_type": "code",
   "execution_count": 308,
   "metadata": {},
   "outputs": [],
   "source": [
    "def save_spacy_list(filename, t):\n",
    "    with open(filename, \"w\") as fh:\n",
    "        fh.write(\"\\n\".join([item.text for item in t]))"
   ]
  },
  {
   "cell_type": "markdown",
   "metadata": {},
   "source": [
    "Here's how to use it:"
   ]
  },
  {
   "cell_type": "code",
   "execution_count": 309,
   "metadata": {},
   "outputs": [],
   "source": [
    "save_spacy_list(\"spacywords.txt\", words)"
   ]
  },
  {
   "cell_type": "markdown",
   "metadata": {},
   "source": [
    "Since we're working with Counter objects a bunch in this notebook, it makes sense to find a way to save these as files too. The following cell defines a function for writing data from a `Counter` object to a file. The file is in \"tab-separated values\" format, which you can open using most spreadsheet programs. Execute it before you continue:"
   ]
  },
  {
   "cell_type": "code",
   "execution_count": 310,
   "metadata": {},
   "outputs": [],
   "source": [
    "def save_counter_tsv(filename, counter, limit=1000):\n",
    "    with open(filename, \"w\") as outfile:\n",
    "        outfile.write(\"key\\tvalue\\n\")\n",
    "        for item, count in counter.most_common():\n",
    "            outfile.write(item.strip() + \"\\t\" + str(count) + \"\\n\")    "
   ]
  },
  {
   "cell_type": "markdown",
   "metadata": {},
   "source": [
    "Now, run the following cell. You'll end up with a file in the same directory as this notebook called `100_common_words.tsv` that has two columns, one for the words and one for their associated counts:"
   ]
  },
  {
   "cell_type": "code",
   "execution_count": 311,
   "metadata": {},
   "outputs": [],
   "source": [
    "save_counter_tsv(\"100_common_words.tsv\", word_count, 100)"
   ]
  },
  {
   "cell_type": "markdown",
   "metadata": {},
   "source": [
    "Try opening this file in Excel or Google Docs or Numbers!\n",
    "\n",
    "If you want to write the data from another `Counter` object to a file:\n",
    "\n",
    "* Change the filename to whatever you want (though you should probably keep the `.tsv` extension)\n",
    "* Replace `word_count` with the name of any of the `Counter` objects we've made in this sheet and use it in place of `word_count`\n",
    "* Change the number to the number of rows you want to include in your spreadsheet."
   ]
  },
  {
   "cell_type": "markdown",
   "metadata": {},
   "source": [
    "### When do things happen in this text?\n",
    "\n",
    "Here's another example. Using the `times` entities, we can make a spreadsheet of how often particular \"times\" (durations, times of day, etc.) are mentioned in the text."
   ]
  },
  {
   "cell_type": "code",
   "execution_count": 312,
   "metadata": {},
   "outputs": [],
   "source": [
    "time_counter = Counter([e.text.lower().strip() for e in times])\n",
    "save_counter_tsv(\"time_count.tsv\", time_counter, 100)"
   ]
  },
  {
   "cell_type": "markdown",
   "metadata": {},
   "source": [
    "Do the same thing, but with people:"
   ]
  },
  {
   "cell_type": "code",
   "execution_count": 313,
   "metadata": {},
   "outputs": [],
   "source": [
    "people_counter = Counter([e.text.lower() for e in people])\n",
    "save_counter_tsv(\"people_count.tsv\", people_counter, 100)"
   ]
  },
  {
   "cell_type": "markdown",
   "metadata": {},
   "source": [
    "## More about words\n",
    "\n",
    "The list of words that we made above is actually a list of spaCy [Token](https://spacy.io/docs/api/token) objects, which have several interesting attributes. The `.text` attribute gives the  text of the word (as a Python string), and the `.lemma_` attribute gives the word's \"lemma\" (explained below):"
   ]
  },
  {
   "cell_type": "code",
   "execution_count": 314,
   "metadata": {},
   "outputs": [
    {
     "name": "stdout",
     "output_type": "stream",
     "text": [
      "manner → manner\n",
      "chapter → chapter\n",
      "agency → agency\n",
      "licensed → license\n",
      "surgery → surgery\n",
      "governmental → governmental\n",
      "gender → gender\n",
      "pursuant → pursuant\n",
      "make → make\n",
      "set → set\n",
      "permits → permit\n",
      "within → within\n"
     ]
    }
   ],
   "source": [
    "for word in random.sample(words, 12):\n",
    "    print(word.text, \"→\", word.lemma_)"
   ]
  },
  {
   "cell_type": "markdown",
   "metadata": {},
   "source": [
    "A word's \"lemma\" is its most \"basic\" form, the form without any morphology\n",
    "applied to it. \"Sing,\" \"sang,\" \"singing,\" are all different \"forms\" of the\n",
    "lemma *sing*. Likewise, \"octopi\" is the plural of \"octopus\"; the \"lemma\" of\n",
    "\"octopi\" is *octopus*.\n",
    "\n",
    "\"Lemmatizing\" a text is the process of going through the text and replacing\n",
    "each word with its lemma. This is often done in an attempt to reduce a text\n",
    "to its most \"essential\" meaning, by eliminating pesky things like verb tense\n",
    "and noun number.\n",
    "\n",
    "Individual sentences can also be iterated over to get a list of words in that sentence:"
   ]
  },
  {
   "cell_type": "code",
   "execution_count": 315,
   "metadata": {},
   "outputs": [
    {
     "name": "stdout",
     "output_type": "stream",
     "text": [
      "Fmt\n",
      "6652\n",
      "Sfmt\n",
      "6201\n",
      "E:\\BILLS\\S187.IS\n"
     ]
    }
   ],
   "source": [
    "sentence = random.choice(sentences)\n",
    "for word in sentence:\n",
    "    print(word.text)"
   ]
  },
  {
   "cell_type": "markdown",
   "metadata": {},
   "source": [
    "### Parts of speech\n",
    "\n",
    "Token objects are tagged with their part of speech. For whatever reason, spaCy gives you this part of speech information in two different formats. The `pos_` attribute gives the part of speech using the [universal POS tag](https://universaldependencies.org/u/pos/) system, while the `tag_` attribute gives a more specific designation, using the [Penn Treebank](https://www.ling.upenn.edu/courses/Fall_2003/ling001/penn_treebank_pos.html) system. (Models for different languages will use different schemes; consult the [documentation for your model](https://spacy.io/models) for more information). We used this attribute earlier in the notebook to extract lists of words that had particular parts of speech, but you can access the attribute in other contexts as well:"
   ]
  },
  {
   "cell_type": "code",
   "execution_count": 316,
   "metadata": {
    "scrolled": true
   },
   "outputs": [
    {
     "name": "stdout",
     "output_type": "stream",
     "text": [
      "Sec / PROPN / NNP\n",
      "b / NOUN / NN\n",
      "July / PROPN / NNP\n",
      "facilitate / VERB / VBP\n",
      "entity / NOUN / NN\n",
      "party / NOUN / NN\n",
      "declared / VERB / VBD\n",
      "payer / PROPN / NNP\n",
      "Fmt / NOUN / NN\n",
      "biological / ADJ / JJ\n",
      "course / NOUN / NN\n",
      "merging / VERB / VBG\n",
      "accordance / NOUN / NN\n",
      "action / NOUN / NN\n",
      "c / NOUN / NN\n",
      "child / NOUN / NN\n",
      "responsibilities / NOUN / NNS\n",
      "board / NOUN / NN\n",
      "provides / VERB / VBZ\n",
      "context / NOUN / NN\n",
      "depiction / NOUN / NN\n",
      "unless / SCONJ / IN\n",
      "without / ADP / IN\n",
      "club / NOUN / NN\n"
     ]
    }
   ],
   "source": [
    "for item in random.sample(words, 24):\n",
    "    print(item.text, \"/\", item.pos_, \"/\", item.tag_)"
   ]
  },
  {
   "cell_type": "markdown",
   "metadata": {},
   "source": [
    "The `spacy.explain()` function also gives information about what part of speech tags mean:"
   ]
  },
  {
   "cell_type": "code",
   "execution_count": 317,
   "metadata": {
    "scrolled": false
   },
   "outputs": [
    {
     "data": {
      "text/plain": [
       "'verb, non-3rd person singular present'"
      ]
     },
     "execution_count": 317,
     "metadata": {},
     "output_type": "execute_result"
    }
   ],
   "source": [
    "spacy.explain('VBP')"
   ]
  },
  {
   "cell_type": "code",
   "execution_count": 318,
   "metadata": {
    "scrolled": false
   },
   "outputs": [
    {
     "data": {
      "text/plain": [
       "'punctuation mark, hyphen'"
      ]
     },
     "execution_count": 318,
     "metadata": {},
     "output_type": "execute_result"
    }
   ],
   "source": [
    "spacy.explain('HYPH')"
   ]
  },
  {
   "cell_type": "code",
   "execution_count": 319,
   "metadata": {},
   "outputs": [
    {
     "name": "stdout",
     "output_type": "stream",
     "text": [
      "{'JJ', 'JJS', 'FW', '$', 'NFP', 'POS', 'RP', 'UH', 'PDT', 'RB', '.', 'VBZ', 'VBG', 'VB', 'CC', \"''\", 'ADD', 'PRP$', 'JJR', 'HYPH', '``', 'XX', ',', 'TO', 'DT', 'PRP', 'IN', 'CD', 'NN', 'NNS', '-LRB-', 'RBR', 'MD', 'WDT', 'WRB', 'EX', 'AFX', '-RRB-', 'NNP', 'VBD', 'VBP', 'NNPS', ':', 'SYM', 'VBN', 'LS', 'WP$', '_SP', 'RBS', 'WP'}\n",
      "JJ adjective (English), other noun-modifier (Chinese)\n",
      "JJS adjective, superlative\n",
      "FW foreign word\n",
      "$ symbol, currency\n",
      "NFP superfluous punctuation\n",
      "POS possessive ending\n",
      "RP adverb, particle\n",
      "UH interjection\n",
      "PDT predeterminer\n",
      "RB adverb\n",
      ". punctuation mark, sentence closer\n",
      "VBZ verb, 3rd person singular present\n",
      "VBG verb, gerund or present participle\n",
      "VB verb, base form\n",
      "CC conjunction, coordinating\n",
      "'' closing quotation mark\n",
      "ADD email\n",
      "PRP$ pronoun, possessive\n",
      "JJR adjective, comparative\n",
      "HYPH punctuation mark, hyphen\n",
      "`` opening quotation mark\n",
      "XX unknown\n",
      ", punctuation mark, comma\n",
      "TO infinitival \"to\"\n",
      "DT determiner\n",
      "PRP pronoun, personal\n",
      "IN conjunction, subordinating or preposition\n",
      "CD cardinal number\n",
      "NN noun, singular or mass\n",
      "NNS noun, plural\n",
      "-LRB- left round bracket\n",
      "RBR adverb, comparative\n",
      "MD verb, modal auxiliary\n",
      "WDT wh-determiner\n",
      "WRB wh-adverb\n",
      "EX existential there\n",
      "AFX affix\n",
      "-RRB- right round bracket\n",
      "NNP noun, proper singular\n",
      "VBD verb, past tense\n",
      "VBP verb, non-3rd person singular present\n",
      "NNPS noun, proper plural\n",
      ": punctuation mark, colon or ellipsis\n",
      "SYM symbol\n",
      "VBN verb, past participle\n",
      "LS list item marker\n",
      "WP$ wh-pronoun, possessive\n",
      "_SP whitespace\n",
      "RBS adverb, superlative\n",
      "WP wh-pronoun, personal\n"
     ]
    }
   ],
   "source": [
    "# Get a set of all the item tags in the corpus\n",
    "item_tags = set([token.tag_ for token in doc])\n",
    "\n",
    "# Print the item tags\n",
    "print(item_tags)\n",
    "\n",
    "for item in item_tags:\n",
    "    print(item, spacy.explain(item))"
   ]
  },
  {
   "cell_type": "markdown",
   "metadata": {},
   "source": [
    "### Specific forms with `.tag_`\n",
    "\n",
    "The `.pos_` attribute only gives us general information about the part of speech. The `.tag_` attribute allows us to be more specific about the kinds of verbs we want. For example, this code gives us only the verbs in past participle form:"
   ]
  },
  {
   "cell_type": "code",
   "execution_count": 320,
   "metadata": {},
   "outputs": [
    {
     "data": {
      "text/plain": [
       "{whose,\n",
       " whose,\n",
       " us,\n",
       " them,\n",
       " it,\n",
       " who,\n",
       " it,\n",
       " whose,\n",
       " they,\n",
       " his,\n",
       " her,\n",
       " his,\n",
       " her,\n",
       " his,\n",
       " her,\n",
       " his,\n",
       " her,\n",
       " his,\n",
       " her,\n",
       " whose,\n",
       " whose,\n",
       " it,\n",
       " whose,\n",
       " whose,\n",
       " her,\n",
       " his,\n",
       " her,\n",
       " his,\n",
       " her,\n",
       " his,\n",
       " her,\n",
       " his,\n",
       " her,\n",
       " she,\n",
       " whose,\n",
       " whose,\n",
       " whose,\n",
       " whose,\n",
       " whose,\n",
       " whose,\n",
       " whose,\n",
       " whose,\n",
       " her,\n",
       " who,\n",
       " her,\n",
       " it,\n",
       " it,\n",
       " it,\n",
       " it,\n",
       " it,\n",
       " whose,\n",
       " whose,\n",
       " they,\n",
       " it,\n",
       " it,\n",
       " whose,\n",
       " it,\n",
       " whose,\n",
       " whose,\n",
       " whose,\n",
       " whose,\n",
       " one,\n",
       " it,\n",
       " who,\n",
       " whose,\n",
       " it,\n",
       " it,\n",
       " they,\n",
       " us,\n",
       " them,\n",
       " it,\n",
       " it,\n",
       " whose,\n",
       " whose,\n",
       " them,\n",
       " one,\n",
       " them,\n",
       " whose,\n",
       " they,\n",
       " they,\n",
       " they,\n",
       " it,\n",
       " it,\n",
       " it,\n",
       " it,\n",
       " they,\n",
       " who,\n",
       " it,\n",
       " who,\n",
       " it,\n",
       " it,\n",
       " them,\n",
       " it,\n",
       " who,\n",
       " it,\n",
       " it,\n",
       " they,\n",
       " whose,\n",
       " whose,\n",
       " they,\n",
       " them,\n",
       " themselves,\n",
       " herself,\n",
       " it,\n",
       " it,\n",
       " it,\n",
       " My,\n",
       " whose,\n",
       " whose,\n",
       " himself,\n",
       " they,\n",
       " it,\n",
       " it,\n",
       " whose,\n",
       " whose,\n",
       " whose,\n",
       " whose,\n",
       " whose,\n",
       " whose,\n",
       " whose,\n",
       " whose,\n",
       " THAT12,\n",
       " POTENTIALLY,\n",
       " CAUSED,\n",
       " MUST,\n",
       " it,\n",
       " it,\n",
       " who,\n",
       " who,\n",
       " whose,\n",
       " who,\n",
       " whose,\n",
       " who,\n",
       " who,\n",
       " I,\n",
       " who,\n",
       " it,\n",
       " it,\n",
       " it,\n",
       " our,\n",
       " it,\n",
       " it,\n",
       " it,\n",
       " whose,\n",
       " it,\n",
       " it,\n",
       " what,\n",
       " what,\n",
       " they,\n",
       " whose,\n",
       " it,\n",
       " Act.2,\n",
       " his,\n",
       " her,\n",
       " whose,\n",
       " whose,\n",
       " it,\n",
       " whose,\n",
       " whose,\n",
       " whose,\n",
       " whose,\n",
       " whose,\n",
       " they,\n",
       " one,\n",
       " whose,\n",
       " they,\n",
       " WHOSE,\n",
       " WHOSE,\n",
       " it,\n",
       " who,\n",
       " who,\n",
       " who,\n",
       " they,\n",
       " whose,\n",
       " whose,\n",
       " I,\n",
       " itself,\n",
       " it,\n",
       " they,\n",
       " who,\n",
       " it,\n",
       " whose,\n",
       " whose,\n",
       " whose,\n",
       " they,\n",
       " it,\n",
       " it,\n",
       " who,\n",
       " it,\n",
       " whoever,\n",
       " whoever,\n",
       " whoever,\n",
       " whose,\n",
       " it,\n",
       " whose,\n",
       " one,\n",
       " whose,\n",
       " whose,\n",
       " herself,\n",
       " it,\n",
       " it,\n",
       " it,\n",
       " themselves,\n",
       " whose,\n",
       " it,\n",
       " it,\n",
       " him,\n",
       " whose,\n",
       " whose,\n",
       " they,\n",
       " whose,\n",
       " whose,\n",
       " whose,\n",
       " it,\n",
       " whose,\n",
       " whose,\n",
       " whose,\n",
       " whose,\n",
       " whose,\n",
       " whose,\n",
       " whose,\n",
       " they,\n",
       " it,\n",
       " they,\n",
       " whose,\n",
       " who,\n",
       " it,\n",
       " it,\n",
       " them,\n",
       " whose,\n",
       " whose,\n",
       " whom,\n",
       " whose,\n",
       " one,\n",
       " it,\n",
       " whose,\n",
       " whose,\n",
       " whose,\n",
       " whose,\n",
       " who,\n",
       " who,\n",
       " who,\n",
       " whose,\n",
       " it,\n",
       " whose,\n",
       " whose,\n",
       " whose,\n",
       " whose,\n",
       " whose,\n",
       " they,\n",
       " Whose,\n",
       " Who,\n",
       " Who,\n",
       " whose,\n",
       " who,\n",
       " whose,\n",
       " his,\n",
       " their,\n",
       " his,\n",
       " their,\n",
       " who,\n",
       " whose,\n",
       " whose,\n",
       " who,\n",
       " whose,\n",
       " whose,\n",
       " whose,\n",
       " oneself,\n",
       " who,\n",
       " whose,\n",
       " whose,\n",
       " whose,\n",
       " whose,\n",
       " his,\n",
       " their,\n",
       " his,\n",
       " their,\n",
       " whose,\n",
       " oneself,\n",
       " oneself,\n",
       " it,\n",
       " who,\n",
       " Whose,\n",
       " Who,\n",
       " Who,\n",
       " whose,\n",
       " whose,\n",
       " Whose,\n",
       " Who,\n",
       " Who,\n",
       " whose,\n",
       " Whose,\n",
       " Who,\n",
       " Who,\n",
       " whose,\n",
       " who,\n",
       " who,\n",
       " who,\n",
       " whose,\n",
       " whose,\n",
       " whose,\n",
       " whose,\n",
       " whose,\n",
       " whose,\n",
       " whose,\n",
       " whose,\n",
       " whose,\n",
       " I,\n",
       " who,\n",
       " Whose,\n",
       " Who,\n",
       " Who,\n",
       " whose,\n",
       " whose,\n",
       " whose,\n",
       " who,\n",
       " whose,\n",
       " whose,\n",
       " who,\n",
       " whose,\n",
       " whose,\n",
       " who,\n",
       " whose,\n",
       " his,\n",
       " their,\n",
       " his,\n",
       " their,\n",
       " whose,\n",
       " whose,\n",
       " whose,\n",
       " whose,\n",
       " whose,\n",
       " whose,\n",
       " who,\n",
       " whose,\n",
       " whose,\n",
       " who,\n",
       " whose,\n",
       " whose,\n",
       " whose,\n",
       " who,\n",
       " them,\n",
       " whose,\n",
       " he,\n",
       " whose,\n",
       " whose,\n",
       " us,\n",
       " them,\n",
       " it,\n",
       " Whose,\n",
       " Who,\n",
       " Who,\n",
       " whose,\n",
       " who,\n",
       " whose,\n",
       " his,\n",
       " their,\n",
       " his,\n",
       " their,\n",
       " whose,\n",
       " whose,\n",
       " they,\n",
       " who,\n",
       " whose,\n",
       " whose,\n",
       " them,\n",
       " whose,\n",
       " whose,\n",
       " they,\n",
       " who,\n",
       " whose,\n",
       " whose,\n",
       " whose,\n",
       " Whose,\n",
       " Who,\n",
       " Who,\n",
       " whose,\n",
       " whose,\n",
       " whose,\n",
       " one,\n",
       " whose,\n",
       " who}"
      ]
     },
     "execution_count": 320,
     "metadata": {},
     "output_type": "execute_result"
    }
   ],
   "source": [
    "pronouns = set()\n",
    "for item in doc:\n",
    "    if(\n",
    "        item.tag_ == \"PRP$\" or \n",
    "        item.tag_ == \"PRP\" or \n",
    "        item.tag_ == \"WP\" or \n",
    "        item.tag_ == \"WP$\"):\n",
    "        pronouns.add(item)\n",
    "pronouns"
   ]
  },
  {
   "cell_type": "code",
   "execution_count": null,
   "metadata": {},
   "outputs": [],
   "source": []
  },
  {
   "cell_type": "code",
   "execution_count": 321,
   "metadata": {},
   "outputs": [
    {
     "data": {
      "text/plain": [
       "['setting',\n",
       " 'advertising',\n",
       " 'teacher',\n",
       " 'section',\n",
       " 'state',\n",
       " 'wealth',\n",
       " 'level',\n",
       " 'gender',\n",
       " 'loco',\n",
       " 'faith',\n",
       " 'communication',\n",
       " 'perception']"
      ]
     },
     "execution_count": 321,
     "metadata": {},
     "output_type": "execute_result"
    }
   ],
   "source": [
    "only_words = [item.text for item in doc if item.tag_ == \"NN\"]\n",
    "random.sample(only_words, 12)\n",
    "# only_words"
   ]
  },
  {
   "cell_type": "code",
   "execution_count": null,
   "metadata": {},
   "outputs": [],
   "source": [
    "#JJ, JJS, RP, UH, VBZ, VBG, VB, CC, PRP"
   ]
  },
  {
   "cell_type": "code",
   "execution_count": 323,
   "metadata": {},
   "outputs": [],
   "source": [
    "only_past = [item.text for item in doc if item.tag_ == 'VBN']"
   ]
  },
  {
   "cell_type": "code",
   "execution_count": 324,
   "metadata": {
    "scrolled": false
   },
   "outputs": [
    {
     "data": {
      "text/plain": [
       "['deposited',\n",
       " 'administered',\n",
       " 'rendered',\n",
       " 'signed',\n",
       " 'considered',\n",
       " 'employed',\n",
       " 'purchased',\n",
       " 'MISSISSIPPI',\n",
       " 'contested',\n",
       " 'provided',\n",
       " 'given',\n",
       " 'defined']"
      ]
     },
     "execution_count": 324,
     "metadata": {},
     "output_type": "execute_result"
    }
   ],
   "source": [
    "random.sample(only_past, 12)"
   ]
  },
  {
   "cell_type": "code",
   "execution_count": null,
   "metadata": {},
   "outputs": [],
   "source": []
  },
  {
   "cell_type": "code",
   "execution_count": null,
   "metadata": {},
   "outputs": [],
   "source": [
    "only_past"
   ]
  },
  {
   "cell_type": "markdown",
   "metadata": {},
   "source": [
    "Or only plural nouns:"
   ]
  },
  {
   "cell_type": "code",
   "execution_count": 326,
   "metadata": {},
   "outputs": [],
   "source": [
    "only_plural = [item.text for item in doc if item.tag_ == 'NNS']"
   ]
  },
  {
   "cell_type": "code",
   "execution_count": 328,
   "metadata": {
    "scrolled": true
   },
   "outputs": [
    {
     "data": {
      "text/plain": [
       "['changes',\n",
       " 'materials',\n",
       " 'substitutes',\n",
       " 'services',\n",
       " 'records',\n",
       " 'buttocks',\n",
       " 'objects',\n",
       " 'males',\n",
       " 'parents',\n",
       " 'persons',\n",
       " 'acts',\n",
       " 'feelings']"
      ]
     },
     "execution_count": 328,
     "metadata": {},
     "output_type": "execute_result"
    }
   ],
   "source": [
    "random.sample(only_plural, 12)"
   ]
  },
  {
   "cell_type": "code",
   "execution_count": null,
   "metadata": {},
   "outputs": [],
   "source": []
  },
  {
   "cell_type": "markdown",
   "metadata": {},
   "source": [
    "## Larger syntactic units\n",
    "\n",
    "Okay, so we can get individual words and small phrases, like named entities and noun chunks. Great! But what if we want larger chunks, based on their syntactic role in the sentence? For this, we'll need to learn about how spaCy parses sentences into its syntactic components."
   ]
  },
  {
   "cell_type": "markdown",
   "metadata": {},
   "source": [
    "### Understanding dependency grammars"
   ]
  },
  {
   "cell_type": "markdown",
   "metadata": {},
   "source": [
    "The spaCy library parses the underlying sentences using a [dependency grammar](https://en.wikipedia.org/wiki/Dependency_grammar). Dependency grammars look different from the kinds of sentence diagramming you may have done in high school, and even from tree-based [phrase structure grammars](https://en.wikipedia.org/wiki/Phrase_structure_grammar) commonly used in descriptive linguistics. The idea of a dependency grammar is that every word in a sentence is a \"dependent\" of some other word, which is that word's \"head.\" Those \"head\" words are in turn dependents of other words. The finite verb in the sentence is the ultimate \"head\" of the sentence, and is not itself dependent on any other word. The dependents of a particular head are sometimes called its \"children.\"\n",
    "\n",
    "The question of how to know what constitutes a \"head\" and a \"dependent\" is complicated. For more details, consult [Dependency Grammar and Dependency Parsing](http://stp.lingfil.uu.se/~nivre/docs/05133.pdf). But here are some simple guidelines:\n",
    "\n",
    "* A head determines the syntactic category of a phrase as a whole, and can often stand in for the phrase.\n",
    "* The meaning of a phrase comes primarily from its head. The dependents further specify the meaning, but don't determine it.\n",
    "* Heads are obligatory, while dependents are often optional.\n",
    "\n",
    "For example, in the sentence \"Large contented bears hibernate peacefully,\" *bears* is the head (a noun in this case) and *large* and *contented* are dependents (adjectives). The head of the phrase *large contented bears* is a noun, so the entire phrase is a noun. You could also rewrite the sentence to omit the dependents altogether, and it would still make sense: \"Bears hibernate peacefully.\" Likewise, the adverb *peacefully* is a dependent of the head *hibernate*; the sentence could be rewritten as simply \"Bears hibernate.\" \n",
    "\n",
    "Dependents are related to their heads by a *syntactic relation*. The name of the syntactic relation describes the relationship between the head and the dependent. Every token object in a spaCy document or sentence has attributes that tell you what the word's head is, what the dependency relationship is between that word and its head, and a list of that word's children (dependents).\n",
    "\n",
    "The developers of spaCy included a little tool for visualizing the dependency relations of a particular sentence. Let's look at the sentence \"I have eaten the plums that were in the icebox\" as an example:"
   ]
  },
  {
   "cell_type": "code",
   "execution_count": 329,
   "metadata": {},
   "outputs": [
    {
     "data": {
      "text/html": [
       "<span class=\"tex2jax_ignore\"><svg xmlns=\"http://www.w3.org/2000/svg\" xmlns:xlink=\"http://www.w3.org/1999/xlink\" xml:lang=\"en\" id=\"5a979aef840f48f9b5726c83892a23d6-0\" class=\"displacy\" width=\"1800\" height=\"312.0\" direction=\"ltr\" style=\"max-width: none; height: 312.0px; color: #000000; background: #ffffff; font-family: Arial; direction: ltr\">\n",
       "<text class=\"displacy-token\" fill=\"currentColor\" text-anchor=\"middle\" y=\"222.0\">\n",
       "    <tspan class=\"displacy-word\" fill=\"currentColor\" x=\"50\">I</tspan>\n",
       "    <tspan class=\"displacy-tag\" dy=\"2em\" fill=\"currentColor\" x=\"50\">PRON</tspan>\n",
       "</text>\n",
       "\n",
       "<text class=\"displacy-token\" fill=\"currentColor\" text-anchor=\"middle\" y=\"222.0\">\n",
       "    <tspan class=\"displacy-word\" fill=\"currentColor\" x=\"225\">have</tspan>\n",
       "    <tspan class=\"displacy-tag\" dy=\"2em\" fill=\"currentColor\" x=\"225\">AUX</tspan>\n",
       "</text>\n",
       "\n",
       "<text class=\"displacy-token\" fill=\"currentColor\" text-anchor=\"middle\" y=\"222.0\">\n",
       "    <tspan class=\"displacy-word\" fill=\"currentColor\" x=\"400\">eaten</tspan>\n",
       "    <tspan class=\"displacy-tag\" dy=\"2em\" fill=\"currentColor\" x=\"400\">VERB</tspan>\n",
       "</text>\n",
       "\n",
       "<text class=\"displacy-token\" fill=\"currentColor\" text-anchor=\"middle\" y=\"222.0\">\n",
       "    <tspan class=\"displacy-word\" fill=\"currentColor\" x=\"575\">the</tspan>\n",
       "    <tspan class=\"displacy-tag\" dy=\"2em\" fill=\"currentColor\" x=\"575\">DET</tspan>\n",
       "</text>\n",
       "\n",
       "<text class=\"displacy-token\" fill=\"currentColor\" text-anchor=\"middle\" y=\"222.0\">\n",
       "    <tspan class=\"displacy-word\" fill=\"currentColor\" x=\"750\">plums</tspan>\n",
       "    <tspan class=\"displacy-tag\" dy=\"2em\" fill=\"currentColor\" x=\"750\">NOUN</tspan>\n",
       "</text>\n",
       "\n",
       "<text class=\"displacy-token\" fill=\"currentColor\" text-anchor=\"middle\" y=\"222.0\">\n",
       "    <tspan class=\"displacy-word\" fill=\"currentColor\" x=\"925\">that</tspan>\n",
       "    <tspan class=\"displacy-tag\" dy=\"2em\" fill=\"currentColor\" x=\"925\">PRON</tspan>\n",
       "</text>\n",
       "\n",
       "<text class=\"displacy-token\" fill=\"currentColor\" text-anchor=\"middle\" y=\"222.0\">\n",
       "    <tspan class=\"displacy-word\" fill=\"currentColor\" x=\"1100\">were</tspan>\n",
       "    <tspan class=\"displacy-tag\" dy=\"2em\" fill=\"currentColor\" x=\"1100\">AUX</tspan>\n",
       "</text>\n",
       "\n",
       "<text class=\"displacy-token\" fill=\"currentColor\" text-anchor=\"middle\" y=\"222.0\">\n",
       "    <tspan class=\"displacy-word\" fill=\"currentColor\" x=\"1275\">in</tspan>\n",
       "    <tspan class=\"displacy-tag\" dy=\"2em\" fill=\"currentColor\" x=\"1275\">ADP</tspan>\n",
       "</text>\n",
       "\n",
       "<text class=\"displacy-token\" fill=\"currentColor\" text-anchor=\"middle\" y=\"222.0\">\n",
       "    <tspan class=\"displacy-word\" fill=\"currentColor\" x=\"1450\">the</tspan>\n",
       "    <tspan class=\"displacy-tag\" dy=\"2em\" fill=\"currentColor\" x=\"1450\">DET</tspan>\n",
       "</text>\n",
       "\n",
       "<text class=\"displacy-token\" fill=\"currentColor\" text-anchor=\"middle\" y=\"222.0\">\n",
       "    <tspan class=\"displacy-word\" fill=\"currentColor\" x=\"1625\">icebox.</tspan>\n",
       "    <tspan class=\"displacy-tag\" dy=\"2em\" fill=\"currentColor\" x=\"1625\">NOUN</tspan>\n",
       "</text>\n",
       "\n",
       "<g class=\"displacy-arrow\">\n",
       "    <path class=\"displacy-arc\" id=\"arrow-5a979aef840f48f9b5726c83892a23d6-0-0\" stroke-width=\"2px\" d=\"M70,177.0 C70,2.0 400.0,2.0 400.0,177.0\" fill=\"none\" stroke=\"currentColor\"/>\n",
       "    <text dy=\"1.25em\" style=\"font-size: 0.8em; letter-spacing: 1px\">\n",
       "        <textPath xlink:href=\"#arrow-5a979aef840f48f9b5726c83892a23d6-0-0\" class=\"displacy-label\" startOffset=\"50%\" side=\"left\" fill=\"currentColor\" text-anchor=\"middle\">nsubj</textPath>\n",
       "    </text>\n",
       "    <path class=\"displacy-arrowhead\" d=\"M70,179.0 L62,167.0 78,167.0\" fill=\"currentColor\"/>\n",
       "</g>\n",
       "\n",
       "<g class=\"displacy-arrow\">\n",
       "    <path class=\"displacy-arc\" id=\"arrow-5a979aef840f48f9b5726c83892a23d6-0-1\" stroke-width=\"2px\" d=\"M245,177.0 C245,89.5 395.0,89.5 395.0,177.0\" fill=\"none\" stroke=\"currentColor\"/>\n",
       "    <text dy=\"1.25em\" style=\"font-size: 0.8em; letter-spacing: 1px\">\n",
       "        <textPath xlink:href=\"#arrow-5a979aef840f48f9b5726c83892a23d6-0-1\" class=\"displacy-label\" startOffset=\"50%\" side=\"left\" fill=\"currentColor\" text-anchor=\"middle\">aux</textPath>\n",
       "    </text>\n",
       "    <path class=\"displacy-arrowhead\" d=\"M245,179.0 L237,167.0 253,167.0\" fill=\"currentColor\"/>\n",
       "</g>\n",
       "\n",
       "<g class=\"displacy-arrow\">\n",
       "    <path class=\"displacy-arc\" id=\"arrow-5a979aef840f48f9b5726c83892a23d6-0-2\" stroke-width=\"2px\" d=\"M595,177.0 C595,89.5 745.0,89.5 745.0,177.0\" fill=\"none\" stroke=\"currentColor\"/>\n",
       "    <text dy=\"1.25em\" style=\"font-size: 0.8em; letter-spacing: 1px\">\n",
       "        <textPath xlink:href=\"#arrow-5a979aef840f48f9b5726c83892a23d6-0-2\" class=\"displacy-label\" startOffset=\"50%\" side=\"left\" fill=\"currentColor\" text-anchor=\"middle\">det</textPath>\n",
       "    </text>\n",
       "    <path class=\"displacy-arrowhead\" d=\"M595,179.0 L587,167.0 603,167.0\" fill=\"currentColor\"/>\n",
       "</g>\n",
       "\n",
       "<g class=\"displacy-arrow\">\n",
       "    <path class=\"displacy-arc\" id=\"arrow-5a979aef840f48f9b5726c83892a23d6-0-3\" stroke-width=\"2px\" d=\"M420,177.0 C420,2.0 750.0,2.0 750.0,177.0\" fill=\"none\" stroke=\"currentColor\"/>\n",
       "    <text dy=\"1.25em\" style=\"font-size: 0.8em; letter-spacing: 1px\">\n",
       "        <textPath xlink:href=\"#arrow-5a979aef840f48f9b5726c83892a23d6-0-3\" class=\"displacy-label\" startOffset=\"50%\" side=\"left\" fill=\"currentColor\" text-anchor=\"middle\">dobj</textPath>\n",
       "    </text>\n",
       "    <path class=\"displacy-arrowhead\" d=\"M750.0,179.0 L758.0,167.0 742.0,167.0\" fill=\"currentColor\"/>\n",
       "</g>\n",
       "\n",
       "<g class=\"displacy-arrow\">\n",
       "    <path class=\"displacy-arc\" id=\"arrow-5a979aef840f48f9b5726c83892a23d6-0-4\" stroke-width=\"2px\" d=\"M945,177.0 C945,89.5 1095.0,89.5 1095.0,177.0\" fill=\"none\" stroke=\"currentColor\"/>\n",
       "    <text dy=\"1.25em\" style=\"font-size: 0.8em; letter-spacing: 1px\">\n",
       "        <textPath xlink:href=\"#arrow-5a979aef840f48f9b5726c83892a23d6-0-4\" class=\"displacy-label\" startOffset=\"50%\" side=\"left\" fill=\"currentColor\" text-anchor=\"middle\">nsubj</textPath>\n",
       "    </text>\n",
       "    <path class=\"displacy-arrowhead\" d=\"M945,179.0 L937,167.0 953,167.0\" fill=\"currentColor\"/>\n",
       "</g>\n",
       "\n",
       "<g class=\"displacy-arrow\">\n",
       "    <path class=\"displacy-arc\" id=\"arrow-5a979aef840f48f9b5726c83892a23d6-0-5\" stroke-width=\"2px\" d=\"M770,177.0 C770,2.0 1100.0,2.0 1100.0,177.0\" fill=\"none\" stroke=\"currentColor\"/>\n",
       "    <text dy=\"1.25em\" style=\"font-size: 0.8em; letter-spacing: 1px\">\n",
       "        <textPath xlink:href=\"#arrow-5a979aef840f48f9b5726c83892a23d6-0-5\" class=\"displacy-label\" startOffset=\"50%\" side=\"left\" fill=\"currentColor\" text-anchor=\"middle\">relcl</textPath>\n",
       "    </text>\n",
       "    <path class=\"displacy-arrowhead\" d=\"M1100.0,179.0 L1108.0,167.0 1092.0,167.0\" fill=\"currentColor\"/>\n",
       "</g>\n",
       "\n",
       "<g class=\"displacy-arrow\">\n",
       "    <path class=\"displacy-arc\" id=\"arrow-5a979aef840f48f9b5726c83892a23d6-0-6\" stroke-width=\"2px\" d=\"M1120,177.0 C1120,89.5 1270.0,89.5 1270.0,177.0\" fill=\"none\" stroke=\"currentColor\"/>\n",
       "    <text dy=\"1.25em\" style=\"font-size: 0.8em; letter-spacing: 1px\">\n",
       "        <textPath xlink:href=\"#arrow-5a979aef840f48f9b5726c83892a23d6-0-6\" class=\"displacy-label\" startOffset=\"50%\" side=\"left\" fill=\"currentColor\" text-anchor=\"middle\">prep</textPath>\n",
       "    </text>\n",
       "    <path class=\"displacy-arrowhead\" d=\"M1270.0,179.0 L1278.0,167.0 1262.0,167.0\" fill=\"currentColor\"/>\n",
       "</g>\n",
       "\n",
       "<g class=\"displacy-arrow\">\n",
       "    <path class=\"displacy-arc\" id=\"arrow-5a979aef840f48f9b5726c83892a23d6-0-7\" stroke-width=\"2px\" d=\"M1470,177.0 C1470,89.5 1620.0,89.5 1620.0,177.0\" fill=\"none\" stroke=\"currentColor\"/>\n",
       "    <text dy=\"1.25em\" style=\"font-size: 0.8em; letter-spacing: 1px\">\n",
       "        <textPath xlink:href=\"#arrow-5a979aef840f48f9b5726c83892a23d6-0-7\" class=\"displacy-label\" startOffset=\"50%\" side=\"left\" fill=\"currentColor\" text-anchor=\"middle\">det</textPath>\n",
       "    </text>\n",
       "    <path class=\"displacy-arrowhead\" d=\"M1470,179.0 L1462,167.0 1478,167.0\" fill=\"currentColor\"/>\n",
       "</g>\n",
       "\n",
       "<g class=\"displacy-arrow\">\n",
       "    <path class=\"displacy-arc\" id=\"arrow-5a979aef840f48f9b5726c83892a23d6-0-8\" stroke-width=\"2px\" d=\"M1295,177.0 C1295,2.0 1625.0,2.0 1625.0,177.0\" fill=\"none\" stroke=\"currentColor\"/>\n",
       "    <text dy=\"1.25em\" style=\"font-size: 0.8em; letter-spacing: 1px\">\n",
       "        <textPath xlink:href=\"#arrow-5a979aef840f48f9b5726c83892a23d6-0-8\" class=\"displacy-label\" startOffset=\"50%\" side=\"left\" fill=\"currentColor\" text-anchor=\"middle\">pobj</textPath>\n",
       "    </text>\n",
       "    <path class=\"displacy-arrowhead\" d=\"M1625.0,179.0 L1633.0,167.0 1617.0,167.0\" fill=\"currentColor\"/>\n",
       "</g>\n",
       "</svg></span>"
      ],
      "text/plain": [
       "<IPython.core.display.HTML object>"
      ]
     },
     "metadata": {},
     "output_type": "display_data"
    }
   ],
   "source": [
    "spacy.displacy.render(nlp(\"I have eaten the plums that were in the icebox.\"), style='dep')"
   ]
  },
  {
   "cell_type": "markdown",
   "metadata": {},
   "source": [
    "The arcs you see originate at a head and terminate at dependencies (or children). If you follow all of the arcs back from dependent to head, you'll eventually get back to *eaten*, which is the *root* of the sentence. Each arc is labelled with the dependency *relation*, which tells us what role the dependent fills in the syntax and meaning of the parent word. For example, *I* is related to *eaten* by the `nsubj` relation, which means that *I* is the \"nominal subject\" of the verb. The word *icebox* is related to the head *in* via the `pobj` relation, meaning that *icebox* is the object of the preposition *in* An exhaustive list of the meanings of these relations can be found in the [Stanford Dependencies Manual](https://downloads.cs.stanford.edu/nlp/software/dependencies_manual.pdf).\n",
    "\n",
    "The following code prints out each word in the sentence, the tag, the word's head, the word's dependency relation with its head, and the word's children (i.e., dependent words). (This code isn't especially useful on its own, it's just here to help show you how this functionality works.)"
   ]
  },
  {
   "cell_type": "code",
   "execution_count": 330,
   "metadata": {
    "scrolled": false
   },
   "outputs": [
    {
     "name": "stdout",
     "output_type": "stream",
     "text": [
      "Original sentence: 24 (c) contract employment executed, negotiated, renegotiated July 1, 2023, local school district board directors superintendent meet requirements established section shall null void.\n",
      "\n",
      "Word: 24\n",
      "Tag: CD\n",
      "Head: employment\n",
      "Dependency relation: nummod\n",
      "Children: []\n",
      "\n",
      "Word: (\n",
      "Tag: -LRB-\n",
      "Head: employment\n",
      "Dependency relation: punct\n",
      "Children: [c]\n",
      "\n",
      "Word: c\n",
      "Tag: NN\n",
      "Head: (\n",
      "Dependency relation: preconj\n",
      "Children: []\n",
      "\n",
      "Word: )\n",
      "Tag: -RRB-\n",
      "Head: employment\n",
      "Dependency relation: punct\n",
      "Children: []\n",
      "\n",
      "Word: contract\n",
      "Tag: NN\n",
      "Head: employment\n",
      "Dependency relation: compound\n",
      "Children: []\n",
      "\n",
      "Word: employment\n",
      "Tag: NN\n",
      "Head: executed\n",
      "Dependency relation: nsubj\n",
      "Children: [24, (, ), contract]\n",
      "\n",
      "Word: executed\n",
      "Tag: VBN\n",
      "Head: established\n",
      "Dependency relation: advcl\n",
      "Children: [employment, ,, negotiated]\n",
      "\n",
      "Word: ,\n",
      "Tag: ,\n",
      "Head: executed\n",
      "Dependency relation: punct\n",
      "Children: []\n",
      "\n",
      "Word: negotiated\n",
      "Tag: VBN\n",
      "Head: executed\n",
      "Dependency relation: conj\n",
      "Children: [,, renegotiated]\n",
      "\n",
      "Word: ,\n",
      "Tag: ,\n",
      "Head: negotiated\n",
      "Dependency relation: punct\n",
      "Children: []\n",
      "\n",
      "Word: renegotiated\n",
      "Tag: VBD\n",
      "Head: negotiated\n",
      "Dependency relation: conj\n",
      "Children: []\n",
      "\n",
      "Word: July\n",
      "Tag: NNP\n",
      "Head: established\n",
      "Dependency relation: npadvmod\n",
      "Children: [1, ,, 2023, ,]\n",
      "\n",
      "Word: 1\n",
      "Tag: CD\n",
      "Head: July\n",
      "Dependency relation: nummod\n",
      "Children: []\n",
      "\n",
      "Word: ,\n",
      "Tag: ,\n",
      "Head: July\n",
      "Dependency relation: punct\n",
      "Children: []\n",
      "\n",
      "Word: 2023\n",
      "Tag: CD\n",
      "Head: July\n",
      "Dependency relation: nummod\n",
      "Children: []\n",
      "\n",
      "Word: ,\n",
      "Tag: ,\n",
      "Head: July\n",
      "Dependency relation: punct\n",
      "Children: []\n",
      "\n",
      "Word: local\n",
      "Tag: JJ\n",
      "Head: school\n",
      "Dependency relation: amod\n",
      "Children: []\n",
      "\n",
      "Word: school\n",
      "Tag: NN\n",
      "Head: board\n",
      "Dependency relation: compound\n",
      "Children: [local]\n",
      "\n",
      "Word: district\n",
      "Tag: NN\n",
      "Head: board\n",
      "Dependency relation: compound\n",
      "Children: []\n",
      "\n",
      "Word: board\n",
      "Tag: NN\n",
      "Head: directors\n",
      "Dependency relation: compound\n",
      "Children: [school, district]\n",
      "\n",
      "Word: directors\n",
      "Tag: NNS\n",
      "Head: requirements\n",
      "Dependency relation: compound\n",
      "Children: [board]\n",
      "\n",
      "Word: superintendent\n",
      "Tag: JJ\n",
      "Head: requirements\n",
      "Dependency relation: amod\n",
      "Children: []\n",
      "\n",
      "Word: meet\n",
      "Tag: NN\n",
      "Head: requirements\n",
      "Dependency relation: compound\n",
      "Children: []\n",
      "\n",
      "Word: requirements\n",
      "Tag: NNS\n",
      "Head: established\n",
      "Dependency relation: nsubj\n",
      "Children: [directors, superintendent, meet]\n",
      "\n",
      "Word: established\n",
      "Tag: VBD\n",
      "Head: established\n",
      "Dependency relation: ROOT\n",
      "Children: [executed, July, requirements, section, void, .]\n",
      "\n",
      "Word: section\n",
      "Tag: NN\n",
      "Head: established\n",
      "Dependency relation: dobj\n",
      "Children: []\n",
      "\n",
      "Word: shall\n",
      "Tag: MD\n",
      "Head: void\n",
      "Dependency relation: aux\n",
      "Children: []\n",
      "\n",
      "Word: null\n",
      "Tag: JJ\n",
      "Head: void\n",
      "Dependency relation: amod\n",
      "Children: []\n",
      "\n",
      "Word: void\n",
      "Tag: NN\n",
      "Head: established\n",
      "Dependency relation: advcl\n",
      "Children: [shall, null]\n",
      "\n",
      "Word: .\n",
      "Tag: .\n",
      "Head: established\n",
      "Dependency relation: punct\n",
      "Children: []\n"
     ]
    }
   ],
   "source": [
    "sent = random.choice(sentences)\n",
    "print(\"Original sentence:\", sent.text.replace(\"\\n\", \" \"))\n",
    "for word in sent:\n",
    "    print()\n",
    "    print(\"Word:\", word.text)\n",
    "    print(\"Tag:\", word.tag_)\n",
    "    print(\"Head:\", word.head.text)\n",
    "    print(\"Dependency relation:\", word.dep_)\n",
    "    print(\"Children:\", list(word.children))"
   ]
  },
  {
   "cell_type": "markdown",
   "metadata": {},
   "source": [
    "Here's a list of a few dependency relations and what they mean, for quick reference:\n",
    "\n",
    "* `nsubj`: this word's head is a verb, and this word is itself the subject of the verb\n",
    "* `nsubjpass`: same as above, but for subjects in sentences in the passive voice\n",
    "* `dobj`: this word's head is a verb, and this word is itself the direct object of the verb\n",
    "* `iobj`: same as above, but indirect object\n",
    "* `aux`: this word's head is a verb, and this word is an \"auxiliary\" verb (like \"have\", \"will\", \"be\")\n",
    "* `attr`: this word's head is a copula (like \"to be\"), and this is the description attributed to the subject of the sentence (e.g., in \"This product is a global brand\", `brand` is dependent on `is` with the `attr` dependency relation)\n",
    "* `det`: this word's head is a noun, and this word is a determiner of that noun (like \"the,\" \"this,\" etc.)\n",
    "* `amod`: this word's head is a noun, and this word is an adjective describing that noun\n",
    "* `prep`: this word is a preposition that modifies its head\n",
    "* `pobj`: this word is a dependent (object) of a preposition"
   ]
  },
  {
   "cell_type": "markdown",
   "metadata": {},
   "source": [
    "### Using .subtree for extracting syntactic units\n",
    "\n",
    "That's all pretty abstract, so let's get a bit more concrete, and write some code that will let us extract syntactic units based on their dependency relation. There are a couple of things we need in order to do this. The `.subtree` attribute I used in the code above evaluates to a generator that can be flatted by passing it to `list()`. This is a list of the word's syntactic dependents—essentially, the \"clause\" that the word belongs to."
   ]
  },
  {
   "cell_type": "markdown",
   "metadata": {},
   "source": [
    "This function merges a subtree and returns a string with the text of the words contained in it:"
   ]
  },
  {
   "cell_type": "code",
   "execution_count": 331,
   "metadata": {},
   "outputs": [],
   "source": [
    "def flatten_subtree(st):\n",
    "    return ''.join([w.text_with_ws for w in list(st)]).strip()"
   ]
  },
  {
   "cell_type": "markdown",
   "metadata": {},
   "source": [
    "With this function in our toolbox, we can write a loop that prints out the subtree for each word in a sentence. (Again, this code is just here to demonstrate what the process of grabbing subtrees looks like—it doesn't do anything useful yet!)"
   ]
  },
  {
   "cell_type": "code",
   "execution_count": 332,
   "metadata": {},
   "outputs": [
    {
     "name": "stdout",
     "output_type": "stream",
     "text": [
      "Original sentence: (4) Sovereign, governmental qualified immunities suit liability waived abolished extent liability created act.\n",
      "\n",
      "Word: (\n",
      "Flattened subtree:  (\n",
      "\n",
      "Word: 4\n",
      "Flattened subtree:  (4\n",
      "\n",
      "Word: )\n",
      "Flattened subtree:  )\n",
      "\n",
      "Word: Sovereign\n",
      "Flattened subtree:  Sovereign\n",
      "\n",
      "Word: ,\n",
      "Flattened subtree:  ,\n",
      "\n",
      "Word: governmental\n",
      "Flattened subtree:  governmental\n",
      "\n",
      "Word: qualified\n",
      "Flattened subtree:  governmental qualified\n",
      "\n",
      "Word: immunities\n",
      "Flattened subtree:  Sovereign, governmental qualified immunities\n",
      "\n",
      "Word: suit\n",
      "Flattened subtree:  (4) Sovereign, governmental qualified immunities suit liability waived\n",
      "\n",
      "Word: liability\n",
      "Flattened subtree:  liability waived\n",
      "\n",
      "Word: waived\n",
      "Flattened subtree:  waived\n",
      "\n",
      "Word: abolished\n",
      "Flattened subtree:  (4) Sovereign, governmental qualified immunities suit liability waived abolished extent liability created act.\n",
      "\n",
      "Word: extent\n",
      "Flattened subtree:  extent\n",
      "\n",
      "Word: liability\n",
      "Flattened subtree:  extent liability created act\n",
      "\n",
      "Word: created\n",
      "Flattened subtree:  created act\n",
      "\n",
      "Word: act\n",
      "Flattened subtree:  act\n",
      "\n",
      "Word: .\n",
      "Flattened subtree:  .\n"
     ]
    }
   ],
   "source": [
    "sent = random.choice(sentences)\n",
    "print(\"Original sentence:\", sent.text.replace(\"\\n\", \" \"))\n",
    "for word in sent:\n",
    "    print()\n",
    "    print(\"Word:\", word.text.replace(\"\\n\", \" \"))\n",
    "    print(\"Flattened subtree: \", flatten_subtree(word.subtree).replace(\"\\n\", \" \"))"
   ]
  },
  {
   "cell_type": "markdown",
   "metadata": {},
   "source": [
    "Using the subtree and our knowledge of dependency relation types, we can write code that extracts larger syntactic units based on their relationship with the rest of the sentence. For example, to get all of the noun phrases that are subjects of a verb:"
   ]
  },
  {
   "cell_type": "code",
   "execution_count": 333,
   "metadata": {},
   "outputs": [],
   "source": [
    "subjects = []\n",
    "for word in doc:\n",
    "    if word.dep_ in ('nsubj', 'nsubjpass'):\n",
    "        subjects.append(flatten_subtree(word.subtree))"
   ]
  },
  {
   "cell_type": "code",
   "execution_count": 334,
   "metadata": {},
   "outputs": [
    {
     "data": {
      "text/plain": [
       "[') Division Higher Education',\n",
       " 'subsequent judgment support arrears',\n",
       " 'service',\n",
       " 'grievance related acts practices',\n",
       " ': 14 (a) dominant theme conduct, taken whole,',\n",
       " 'No',\n",
       " '1.17 (A)',\n",
       " \"parent's written consent parent's child\",\n",
       " 'board',\n",
       " 'every person',\n",
       " '(r)(18) licensee',\n",
       " 'school employees parents, legal guardians,']"
      ]
     },
     "execution_count": 334,
     "metadata": {},
     "output_type": "execute_result"
    }
   ],
   "source": [
    "random.sample(subjects, 12)"
   ]
  },
  {
   "cell_type": "markdown",
   "metadata": {},
   "source": [
    "Or every prepositional phrase:"
   ]
  },
  {
   "cell_type": "code",
   "execution_count": 335,
   "metadata": {},
   "outputs": [],
   "source": [
    "prep_phrases = []\n",
    "for word in doc:\n",
    "    if word.dep_ == 'prep':\n",
    "        prep_phrases.append(flatten_subtree(word.subtree).replace(\"\\n\", \" \"))"
   ]
  },
  {
   "cell_type": "code",
   "execution_count": 336,
   "metadata": {},
   "outputs": [
    {
     "data": {
      "text/plain": [
       "['(26',\n",
       " 'of, basis of',\n",
       " '(c)',\n",
       " 'including,',\n",
       " '-153',\n",
       " 'including limited bruising, lacerations, hematomas, welts, permanent 19 temporary disfigurement impairment bodily function organ',\n",
       " '-300',\n",
       " 'v. Rhode Island Interscholastic 26 League, Inc., 612 A.2d 734, 738 (R.I. 1992)',\n",
       " 'except sailing, shooting, riding,',\n",
       " 'except rare cases ambiguous genitalia',\n",
       " 'including, limited to, castration, vasectomy, hysterectomy, oophorectomy, orchiectomy, penectomy;',\n",
       " '-625']"
      ]
     },
     "execution_count": 336,
     "metadata": {},
     "output_type": "execute_result"
    }
   ],
   "source": [
    "random.sample(prep_phrases, 12)"
   ]
  },
  {
   "cell_type": "markdown",
   "metadata": {},
   "source": [
    "## Generating text from extracted units\n",
    "\n",
    "One thing I like to do is put together text from parts we've disarticulated with spaCy. Let's use Tracery to do this. If you don't know how to use Tracery, feel free to consult [my Tracery tutorial](tracery-and-python.ipynb) before continuing.\n",
    "\n",
    "So I want to generate sentences based on things that I've extracted from my text. My first idea: get subjects of sentences, verbs of sentences, nouns and adjectives, and prepositional phrases:"
   ]
  },
  {
   "cell_type": "code",
   "execution_count": 337,
   "metadata": {},
   "outputs": [],
   "source": [
    "subjects = [flatten_subtree(word.subtree).replace(\"\\n\", \" \")\n",
    "            for word in doc if word.dep_ in ('nsubj', 'nsubjpass')]\n",
    "past_tense_verbs = [word.text for word in words if word.tag_ == 'VBD' and word.lemma_ != 'be']\n",
    "tense_verbs = [word.text for word in words if word.tag_ == 'VB']\n",
    "adjectives = [word.text for word in words if word.tag_.startswith('JJ')]\n",
    "nouns = [word.text for word in words if word.tag_.startswith('NN')]\n",
    "prep_phrases = [flatten_subtree(word.subtree).replace(\"\\n\", \" \")\n",
    "                for word in doc if word.dep_ == 'prep']"
   ]
  },
  {
   "cell_type": "markdown",
   "metadata": {},
   "source": [
    "Notes on the code above:\n",
    "\n",
    "* The `.replace(\"\\n\", \" \")` is in there because spaCy treats linebreaks as normal whitespace, and retains them when we ask for the span's text. For formatting reasons, we want to get rid of this.\n",
    "* I'm using `.startswith()` in the checks for parts of speech in order to capture other related parts of speech (e.g., `JJR` is comparative adjectives, `NNS` is plural nouns).\n",
    "* I use only past tense verbs so we don't have to worry about subject/verb agreement in English. I'm excluding forms of *to be* because it is the only verb that agrees with its subject in the past tense.\n",
    "\n",
    "Now I'll import Tracery. If you haven't already installed it, you can do so using the following cell:"
   ]
  },
  {
   "cell_type": "code",
   "execution_count": 379,
   "metadata": {},
   "outputs": [
    {
     "data": {
      "text/plain": [
       "['Sixty-eighth Legislative Assembly North Dakota',\n",
       " 'Subsection 6 section',\n",
       " '14-02.4-02 North Dakota Century Code amended reenacted',\n",
       " 'Discriminatory practice',\n",
       " 'a. act',\n",
       " 'status',\n",
       " \"lawful activity employer's premises\",\n",
       " 'unequal treatment separation segregation persons,',\n",
       " 'term \"discriminate\"',\n",
       " 'Sexual harassment',\n",
       " '1526 Sixty-eighth Legislative Assembly favors, sexually motivated physical conduct verbal physical conduct communication sexual nature when: a. (1) Submission conduct communication made term condition, either explicitly implicitly, obtaining employment, public accommodations public services, education;',\n",
       " 'a. (1) Submission conduct communication',\n",
       " 'b. (2) Submission rejection',\n",
       " 'c. (3)',\n",
       " 'supervisory employees',\n",
       " 'existence harassment',\n",
       " 'new section chapter 14-02.4 North Dakota Century Code created enacted',\n",
       " '1. used section:',\n",
       " 'a. \"Bodily contact sports',\n",
       " 'major activity',\n",
       " 'Sex',\n",
       " \"biological state female male, based individual's nonambiguous sex organs, chromosomes, endogenous hormone profiles birth\",\n",
       " 'c. \"State education system\"',\n",
       " 'individual',\n",
       " 'discrimination employment condition practice',\n",
       " 'state education system institution',\n",
       " 'Admission class',\n",
       " '4. class',\n",
       " 'subsection',\n",
       " '5. student',\n",
       " '6. Guidance services, counseling services, financial assistance services state education system',\n",
       " 'state education system',\n",
       " '8. section',\n",
       " '8. section prohibit grouping students physical education class activity ability',\n",
       " 'individual one sex, educational institution',\n",
       " 'state education system institution',\n",
       " 'intramural athletics',\n",
       " 'a. state board',\n",
       " 'higher education',\n",
       " 'institution administers',\n",
       " '3 23.1011.03000 Sixty-eighth Legislative Assembly b. superintendent public instruction',\n",
       " 'school districts',\n",
       " 'Factors',\n",
       " 'determination',\n",
       " 'selection sports competition levels',\n",
       " '(5) opportunity individual',\n",
       " '(7) Access locker rooms',\n",
       " 'c. unequal aggregate expenditure individuals one sex single-gender teams state education system sponsoring separate teams,',\n",
       " 'higher education',\n",
       " 'failure',\n",
       " 'Subjecting student employee training instruction espouses,',\n",
       " 'Page No.',\n",
       " '4 23.1011.03000 Sixty-eighth Legislative Assembly (2) Bears responsibility for, discriminated',\n",
       " '(3) discriminated',\n",
       " 'inclusion benefactor wealth redistribution order',\n",
       " '(4) Bears personal responsibility',\n",
       " 'guilt, anguish,',\n",
       " 'individual',\n",
       " \"c. individual's moral character status either privileged oppressed\",\n",
       " 'd. virtue, including merit, excellence, hard work, fairness, neutrality, objectivity, racial colorblindness, racist sexist,',\n",
       " 'individual particular race, color, sex, national origin oppress',\n",
       " 'wealth redistribution',\n",
       " '11. section',\n",
       " '12. superintendent public instruction state board higher education',\n",
       " 'marital status',\n",
       " 'superintendent public instruction',\n",
       " 'new section chapter',\n",
       " '15.1-07 North Dakota Century Code created enacted',\n",
       " 'school district',\n",
       " 'parent',\n",
       " \"parent help parent's student\",\n",
       " 'Section 15.1-21-24 North Dakota Century Code amended reenacted',\n",
       " 'school district nonpublic school',\n",
       " 'portion health curriculum',\n",
       " 'Instructional materials',\n",
       " 'public school student',\n",
       " \"student's parent\",\n",
       " 'school district',\n",
       " 'school district homepage',\n",
       " 'new section chapter Required instruction - Noncompliance - State aid withholding',\n",
       " '15.1-21 North Dakota Century Code created enacted',\n",
       " '1. member instructional staff public school subject rules superintendent public instruction board school district,',\n",
       " 'b. history, meaning, significance, effect Constitution United States amendments thereto,',\n",
       " 'emphasis ten amendments',\n",
       " 'Bill Rights Constitution',\n",
       " 'c. Arguments',\n",
       " 'c. Arguments support adopting republican form government',\n",
       " 'e. Elements civil government, including primary functions',\n",
       " 'American history',\n",
       " 'largely universal principles',\n",
       " 'g. history Holocaust 1933 1945, systematic, planned annihilation European Jews groups Nazi Germany, watershed event history humanity, taught manner',\n",
       " 'examination',\n",
       " 'school district',\n",
       " 'requirements subdivision',\n",
       " 'superintendent',\n",
       " 'offer standards curriculum instruction required subdivision',\n",
       " 'input state',\n",
       " 'superintendent',\n",
       " 'Holocaust educational organization',\n",
       " 'November anniversary Kristallnacht, widely recognized precipitating event',\n",
       " 'history African Americans, including history African peoples political conflicts',\n",
       " 'public school student',\n",
       " 'nurture',\n",
       " 'Instruction',\n",
       " 'roles contributions individuals',\n",
       " 'courageous steps',\n",
       " 'democracy',\n",
       " 'Instructional materials',\n",
       " 'African Americans',\n",
       " 'American society',\n",
       " 'African Americans',\n",
       " 'Instructional personnel',\n",
       " 'racial discrimination',\n",
       " '. 8 23.1011.03000 Sixty-eighth Legislative Assembly',\n",
       " 'Classroom instruction curriculum',\n",
       " 'persuade students',\n",
       " 'inconsistent principles',\n",
       " 'superintendent public instruction',\n",
       " 'i. Elementary',\n",
       " 'j. Effects',\n",
       " '(1) health education addressing',\n",
       " 'Substance',\n",
       " '(2) students',\n",
       " 'component',\n",
       " 'measures',\n",
       " 'community resources',\n",
       " '(3) students',\n",
       " '(3) students grades six twelve, benefits sexual abstinence',\n",
       " 'Page No. 9 23.1011.03000 Sixty-eighth Legislative Assembly (4) life skills build confidence,',\n",
       " '4) life skills',\n",
       " 'students',\n",
       " '(f) students',\n",
       " 'o. Curriculum',\n",
       " 's. Civic character education qualities',\n",
       " 't.',\n",
       " 'sacrifices veterans medal honor recipients',\n",
       " 'serving country',\n",
       " 'instruction',\n",
       " 'may Page No',\n",
       " '.',\n",
       " '10 23.1011.03000 Sixty-eighth Legislative Assembly',\n",
       " 'superintendent public instruction',\n",
       " 'standards',\n",
       " 'Instructional personnel',\n",
       " 'freedoms individuals',\n",
       " 'Classroom instruction curriculum',\n",
       " 'inconsistent principles',\n",
       " 'Instruction supporting materials topic enumerated section',\n",
       " 'b. race',\n",
       " 'c. individual discriminated',\n",
       " 'ethic racist fundamental right',\n",
       " 'f. individual',\n",
       " 'individual',\n",
       " 'superintendent public instruction',\n",
       " 'American history',\n",
       " 'life skills',\n",
       " 'individual freedom',\n",
       " 'individuals',\n",
       " 'curriculum',\n",
       " 'available schools',\n",
       " 'alleged violation section',\n",
       " 'investigation',\n",
       " 'superintendent public instruction',\n",
       " 'instructional materials reviewer school district found',\n",
       " 'new section chapter',\n",
       " '15.1-21 North Dakota Century Code created enacted',\n",
       " '1. board school district responsible content instructional materials',\n",
       " '1. board school district responsible content instructional materials used classroom',\n",
       " 'available student',\n",
       " 'board school district',\n",
       " 'rules school district superintendent',\n",
       " 'instructional materials reviewer',\n",
       " 'Recommend adoption (2) Accurate, objective, balanced, noninflammatory, current instructional materials; (3) Instructional materials free pornography;',\n",
       " 'only: (1) Instructional materials',\n",
       " 'Instructional materials suited student',\n",
       " 'material',\n",
       " 'b. Consider recommendation adoption instructional materials',\n",
       " 'academically talented students, including students',\n",
       " 'instructional materials',\n",
       " 'conduct investigation',\n",
       " 'violation',\n",
       " '5 Act',\n",
       " 'recommendation superintendent public instruction',\n",
       " 'penalty school district',\n",
       " '3. board school district',\n",
       " 'rules school district superintendent',\n",
       " 'new section chapter',\n",
       " '15.1-21 North Dakota Century Code created enacted',\n",
       " '1. teacher',\n",
       " 'a. Address emotional problems',\n",
       " 'student',\n",
       " 'appropriate counseling services',\n",
       " \"b. Inform student's worldview\",\n",
       " 'c. Measure mental health student, including administering ongoing evaluations surveys',\n",
       " 'd. Influence student',\n",
       " \"e. Teach student student's inner feelings\",\n",
       " '2. teacher',\n",
       " 'b. Teach',\n",
       " '(2) national regional accreditation agency',\n",
       " 'Requires state board',\n",
       " 'later six months date',\n",
       " '(2) state board',\n",
       " 'Requires department education post copy application',\n",
       " 'certain disclosure',\n",
       " 'request',\n",
       " \"request change student's name, attire, pronoun, title, word\",\n",
       " 'Requires employee staff member school report school disclosure information',\n",
       " 'Raatz January 12, 2023,',\n",
       " '2023 354',\n",
       " 'LS 6741/DI 110',\n",
       " 'existing statute (or section Indiana Constitution)',\n",
       " 'text existing provision',\n",
       " 'deletions',\n",
       " 'new statutory provision enacted (or',\n",
       " 'new constitutional provision',\n",
       " 'text new provision',\n",
       " 'word NEW',\n",
       " 'word NEW appear style type introductory clause SECTION',\n",
       " 'Text statute style type style type reconciles conflicts statutes',\n",
       " 'SENATE BILL No. 354 BILL ACT',\n",
       " 'CODE NEW SECTION READ',\n",
       " '(a) national regional 4 accreditation agency',\n",
       " '5 purposes awarding accreditation nonpublic schools 6 Indiana',\n",
       " 'state board',\n",
       " '7 recognition form',\n",
       " '8 (b) state board',\n",
       " 'six (6) months 9 date national regional accreditation agency',\n",
       " '11',\n",
       " '13 (c) state board',\n",
       " 'state board',\n",
       " '17 (d) department LS 6741/DI 110 2 1 recognition form required IC 20-19-3-21. 2 SECTION 2',\n",
       " 'department',\n",
       " '6 (1) application recognition form',\n",
       " '8 (2) application state accreditation form',\n",
       " 'IC 20-28-10-17, ADDED P.L.1-2005, 11 SECTION 12, AMENDED READ',\n",
       " 'school counselor',\n",
       " '14 privileged confidential communication',\n",
       " 'counselor',\n",
       " '17 matters',\n",
       " 'IC 20-28-12-5, ADDED P.L.1-2005, 19 SECTION 12, AMENDED READ',\n",
       " 'school psychologist',\n",
       " '21 chapter',\n",
       " '22 school psychologist',\n",
       " '24 (1) Trials homicide disclosure',\n",
       " '26 (2) Proceedings:',\n",
       " '27 (A)',\n",
       " '28 (B) defense mental incompetency',\n",
       " '32 (5) school psychologist',\n",
       " '37 (7) Disclosures',\n",
       " 'CODE NEW SECTION READ',\n",
       " '(a) school',\n",
       " '41 accreditation chapter',\n",
       " '2 (b) state board',\n",
       " 'six (6) months 3 date school',\n",
       " '6 (c) state board',\n",
       " 'state board',\n",
       " '9 (d) department',\n",
       " 'used chapter, \"school',\n",
       " '(a) school',\n",
       " '18 student',\n",
       " ': 19 (1) student',\n",
       " '21 (A)',\n",
       " '24 (2) student changes,',\n",
       " '24 (2) student changes, expresses',\n",
       " '32 employee staff member',\n",
       " 'employee staff member',\n",
       " '37 school',\n",
       " 'school 38',\n",
       " 'Nothing chapter',\n",
       " '41 school counselor',\n",
       " 'child abuse',\n",
       " 'child',\n",
       " '(2) declining consent child receiving:',\n",
       " '(A) specified medication; (B) medical procedure purpose',\n",
       " 'apparent gender sex child',\n",
       " 'Lauer January 10, 2023,',\n",
       " 'DI 119 Introduced First Regular Session 123rd General Assembly (2023)',\n",
       " 'existing statute (or section Indiana Constitution)',\n",
       " 'text existing provision',\n",
       " 'deletions',\n",
       " 'new statutory provision enacted (or',\n",
       " 'new constitutional provision',\n",
       " 'text new provision',\n",
       " 'word NEW',\n",
       " 'word NEW appear style type introductory clause SECTION',\n",
       " 'Text statute style type style type reconciles conflicts statutes',\n",
       " 'BILL ACT',\n",
       " '4 department',\n",
       " '5 (b) department',\n",
       " '13 (C) surgical procedure purpose to: 14 (i)',\n",
       " '16 (ii)',\n",
       " \"child's perception\",\n",
       " 'IC 31',\n",
       " '(a) child',\n",
       " '8',\n",
       " '10 (b) court',\n",
       " 'child',\n",
       " '14 (2) declining consent child receiving: 15 (A) puberty blocking medication; 16 (B) supraphysiologic doses testosterone estrogen;',\n",
       " '17 (C) surgical procedure purpose to: 18 (i)',\n",
       " '20 (ii)',\n",
       " \"child's perception\",\n",
       " 'IC 31',\n",
       " 'AMENDED',\n",
       " \"(a) law 29 enforcement officer's action section 2 chapter 30\",\n",
       " 'child',\n",
       " 'caseworker 32 acting probable cause',\n",
       " 'child child',\n",
       " '34 (1)',\n",
       " \"child's physical mental condition 35\",\n",
       " 'seriously endangered child 36',\n",
       " '37',\n",
       " 'reasonable opportunity',\n",
       " 'consideration safety child',\n",
       " '40 immediate use family services',\n",
       " '41 (b) probation officer caseworker',\n",
       " '42 circumstances',\n",
       " '2 (c) child',\n",
       " \"child's parent, guardian, custodian: 4 (1)\",\n",
       " '9 (C) surgical procedure purpose to: 10 (i)',\n",
       " '12 (ii)',\n",
       " \"child's perception\",\n",
       " '(d) person',\n",
       " '20 person',\n",
       " 'written documentation',\n",
       " 'child',\n",
       " 'DI 119 23-01605 1.1 bill',\n",
       " 'Purpose. purpose section',\n",
       " '1.7 privacy safety students',\n",
       " '1.9',\n",
       " '(a) purposes section, following terms 1.11 meanings given. 1.12 (b)',\n",
       " 'Sex',\n",
       " \"1.13 person's chromosomes\",\n",
       " 'Public school',\n",
       " '(a) public school student restroom, 1.17 locker room, changing room,',\n",
       " '1.19 (b) public school student restroom, locker room, changing room,',\n",
       " '1Section 1',\n",
       " 'first reading01/17/2023 Referred Education Policy 2.1 (c) public school facility setting student',\n",
       " 'school personnel',\n",
       " '2.4',\n",
       " 'Nothing section',\n",
       " 'circumstances',\n",
       " 'shower, facility designated exclusive 2.8 use based sex used person',\n",
       " 'board education adopting procedures',\n",
       " 'certain grades',\n",
       " 'certain grades',\n",
       " 'certain rules',\n",
       " 'NEW LAW new section law',\n",
       " 'A. school district board education',\n",
       " 'B. 1. school district board education',\n",
       " 'School district personnel',\n",
       " 'provisions subsection',\n",
       " 'school district personnel',\n",
       " 'reasonably prudent person',\n",
       " 'disclosure',\n",
       " 'No. 477 Page 3 terms',\n",
       " 'employees',\n",
       " 'public charter schools state',\n",
       " 'student age eighteen (18) name',\n",
       " 'Employees',\n",
       " '2. Employees volunteers school districts public charter schools may: a. refer student name',\n",
       " 'b.',\n",
       " '2. Employees volunteers school districts public charter schools may: a. refer student name shortened version first name appears student’s original birth certificate, b. refer student middle name',\n",
       " 'D. Employees',\n",
       " 'D. Employees volunteers school districts public charter schools state',\n",
       " 'student age eighteen (18) pronoun',\n",
       " 'purposes subsection, “biological sex”',\n",
       " '.',\n",
       " '477 Page 4 E. Classroom instruction',\n",
       " 'school district',\n",
       " 'legal guardians students',\n",
       " 'G. 1. school district board education',\n",
       " 'parent legal guardian',\n",
       " 'procedures',\n",
       " 'notification parent legal guardian concern',\n",
       " 'school district',\n",
       " 'No. 477 Page 5 3. concern',\n",
       " 'parent legal guardian',\n",
       " 'State Superintendent Public Instruction',\n",
       " 'information',\n",
       " 'State Board Education',\n",
       " 'thirty (30) days receipt',\n",
       " 'costs administrative law judge',\n",
       " 'declaratory judgment school district procedures',\n",
       " 'court',\n",
       " 'No',\n",
       " '.',\n",
       " '477 Page 6 H. school district board education',\n",
       " 'I. State Board Education',\n",
       " 'rules',\n",
       " 'SECTION 2. act',\n",
       " 'immediately necessary preservation public peace, health, safety, emergency',\n",
       " 'exist, reason whereof act',\n",
       " '23-02448 1.1 bill',\n",
       " '1.3',\n",
       " 'purposes section:',\n",
       " '1.8 (1) \"adult entertainment establishment\"',\n",
       " 'business open adults',\n",
       " '1.9',\n",
       " 'live performances',\n",
       " '1.13 (2) \"sexual conduct\" meaning given section 617.241; 1.14 (3) nudity meaning given section 617.292, subdivision 3; 1.15 (4)',\n",
       " 'drag performance',\n",
       " '1.16 (i) one performers:',\n",
       " '1.17 (A)',\n",
       " \"different performer's gender\",\n",
       " 'accessories',\n",
       " '1.19',\n",
       " '1.20 (B)',\n",
       " '(a) adult entertainment establishment',\n",
       " ': 2.5 (1)',\n",
       " '2.6 (2)',\n",
       " '2.8 (3)',\n",
       " '2.13 (b) purposes paragraph (a), clause (3),',\n",
       " 'distances',\n",
       " 'NEW SECTION KRS CHAPTER 158 CREATED 3 READ FOLLOWS:',\n",
       " '4 used Sections 1 3 Act: 5 (1) \"Biological sex\"',\n",
       " '8 (2)',\n",
       " '\"School',\n",
       " '10 (3)',\n",
       " 'Unisex restroom',\n",
       " '11 SECTION 2. NEW SECTION KRS CHAPTER 158 CREATED 12 READ FOLLOWS:',\n",
       " '13 General Assembly',\n",
       " '14 (1) School personnel duty',\n",
       " 'privacy rights students',\n",
       " '16 (2) Children young adults natural normal concerns privacy various states undress',\n",
       " 'students',\n",
       " 'shower rooms',\n",
       " '19 (3) Allowing students use restrooms, locker rooms, shower rooms reserved students different biological sex:',\n",
       " '21 (a)',\n",
       " '23',\n",
       " '25 (4) Parents reasonable expectation schools',\n",
       " 'minor children',\n",
       " 'PM',\n",
       " 'minor children',\n",
       " '7 (1) Every school restroom, locker room, shower room designated student',\n",
       " 'every school setting student',\n",
       " 'school personnel',\n",
       " '(a) student',\n",
       " 'school officials',\n",
       " 'whose parent legal guardian',\n",
       " 'written consent school officials',\n",
       " 'accommodation',\n",
       " '20 (b) Acceptable accommodations',\n",
       " '23 (4) (a) accessing restroom, locker room, shower room designated',\n",
       " 'student encountering person opposite biological sex',\n",
       " 'PM',\n",
       " 'person encountered using facilities designated',\n",
       " '4 (b) claims arising pursuant subsection',\n",
       " 'whose jurisdiction student',\n",
       " 'claims',\n",
       " '7 (c) offending school shall civilly liable student aggrieved subsection',\n",
       " 'student',\n",
       " '12',\n",
       " 'Nothing subsection',\n",
       " 'law equity',\n",
       " '14 (5) section portion Sections 1 3 Act',\n",
       " 'situations',\n",
       " 'privacy rights students',\n",
       " 'emergency',\n",
       " 'Act',\n",
       " 'NEW LAW new section law',\n",
       " 'A. act shall known',\n",
       " 'B. State Oklahoma',\n",
       " 'goal colluding parties',\n",
       " 'Banks insurance companies',\n",
       " 'financing creditworthy companies',\n",
       " 'Institutional investors',\n",
       " 'corporations',\n",
       " 'burnish environmental credentials',\n",
       " 'Large investment firms,',\n",
       " 'proxy',\n",
       " 'institutions',\n",
       " 'sanction industry',\n",
       " 'existing antitrust fiduciary duty laws',\n",
       " 'States, financially prudent,',\n",
       " 'business companies',\n",
       " 'SECTION 2.',\n",
       " 'NEW LAW new section law',\n",
       " 'reads',\n",
       " 'A. used section:',\n",
       " '1. \"Company\"',\n",
       " 'purposes section, \"company\"',\n",
       " 'Governmental entity\"',\n",
       " 'Ordinary business purpose\"',\n",
       " 'company',\n",
       " 'No. 6235 Page 5 change limit activities company company, without violating controlling federal state law: a. Engages exploration, production, utilization, transportation, sale, manufacturing of, fossil fuel-based energy, timber, mining, agriculture;',\n",
       " 'b.',\n",
       " 'b. Engages in',\n",
       " ', facilitates,',\n",
       " 'c. meet, expected meet, commit meet environmental standards disclosure criteria,',\n",
       " 'f. business company',\n",
       " 'B. 1. section',\n",
       " 'No. 6235 Page 6 a. governmental entity company full-time employees; b. pay company One Hundred Thousand Dollars ($100,000.00) term contract paid wholly partly public funds governmental entity',\n",
       " 'term contract',\n",
       " 'provisions paragraph',\n",
       " 'governmental entity',\n",
       " 'contract',\n",
       " 'a.',\n",
       " 'b.',\n",
       " 'Paragraph 2 subsection',\n",
       " 'No. 6235',\n",
       " 'No. 6235 Page 7 b. prevent governmental entity obtaining supplies services',\n",
       " 'C. 1. party, including entity organized federal state law,',\n",
       " 'party',\n",
       " 'D. 1. article, contract subject article,',\n",
       " '2. Attorney General reasonable cause',\n",
       " 'person',\n",
       " 'a.',\n",
       " 'data information',\n",
       " 'b.',\n",
       " 'c.',\n",
       " 'account paper',\n",
       " 'No. 6235 Page 8 d. pursuant order court, impound record, book, document, account, paper, sample material relating practice',\n",
       " 'possession completion proceedings',\n",
       " 'company',\n",
       " 'economic boycott term contract',\n",
       " 'three times monies',\n",
       " 'SECTION 3. act',\n",
       " 'certain acts',\n",
       " 'NEW LAW new section law',\n",
       " 'Title 21, unless created duplication numbering,',\n",
       " 'Title 21, unless created duplication numbering, reads',\n",
       " 'Adult cabaret performance',\n",
       " 'performance location, adult cabaret,',\n",
       " 'Drag queen',\n",
       " 'male female performer',\n",
       " 'Drag queen story hour',\n",
       " 'event',\n",
       " 'drag queen',\n",
       " 'minor children',\n",
       " 'Minor',\n",
       " 'B. 1.',\n",
       " 'unlawful person',\n",
       " 'adult cabaret performance',\n",
       " '2. person',\n",
       " 'C. 1. shall unlawful person organize authorize viewing drag queen story hour public property location drag queen story hour',\n",
       " 'unlawful person',\n",
       " '2. person',\n",
       " 'D. provisions section',\n",
       " 'restriction',\n",
       " 'SECTION 2. act',\n",
       " 'Mayfield January 19, 2023,',\n",
       " '2023 1569',\n",
       " '—LS 7080/DI',\n",
       " 'existing statute (or section Indiana Constitution)',\n",
       " 'text existing provision',\n",
       " 'deletions',\n",
       " 'new statutory provision enacted (or',\n",
       " 'new constitutional provision',\n",
       " 'text new provision',\n",
       " 'word NEW',\n",
       " 'word NEW appear style type introductory clause SECTION',\n",
       " 'Text statute style type style type reconciles conflicts statutes',\n",
       " 'HOUSE BILL No',\n",
       " '1569 BILL ACT',\n",
       " 'IC 11-10-3-1 AMENDED',\n",
       " 'definitions',\n",
       " '4 (1) \"Hormonal therapy\"',\n",
       " \"development alteration individual's 6 sexual characteristics purpose altering 7 individual's physical appearance bodily functions\",\n",
       " '8 individual',\n",
       " 'Offender patient',\n",
       " 'individual',\n",
       " 'who',\n",
       " ': 12 (A) receiving hormornal therapy medical 13 doctor date individual',\n",
       " '14 crime individual',\n",
       " '15 (B) receiving hormonal therapy',\n",
       " '\"Physician',\n",
       " 'LS 7080/DI 2 1 medicine Indiana,',\n",
       " 'Psychiatrist',\n",
       " 'physician certified board 5 qualified American Board Psychiatry Neurology, 6 board equivalent standards',\n",
       " '8 (5) \"Psychologist\"',\n",
       " 'individual holding valid certificate 9 practice psychology Indiana,',\n",
       " 'Qualified medical personnel',\n",
       " 'individuals',\n",
       " '15 (7) \"Sexual reassignment surgery\"',\n",
       " 'one (1) 16 surgical procedures performed individual',\n",
       " \"18 individual's sexual characteristics individual 19\",\n",
       " '3.5. department',\n",
       " '- 1 - ACT',\n",
       " 'Tennessee Code Annotated, Section 36-3-301,',\n",
       " '(m) person',\n",
       " 'SECTION 2. act',\n",
       " '23-02448 1.1 bill',\n",
       " '1.3',\n",
       " 'purposes section:',\n",
       " '1.8 (1) \"adult entertainment establishment\"',\n",
       " 'business open adults',\n",
       " '1.9',\n",
       " 'live performances',\n",
       " '1.13 (2) \"sexual conduct\" meaning given section 617.241; 1.14 (3) nudity meaning given section 617.292, subdivision 3; 1.15 (4)',\n",
       " 'drag performance',\n",
       " '1.16 (i) one performers:',\n",
       " '1.17 (A)',\n",
       " \"different performer's gender\",\n",
       " 'accessories',\n",
       " '1.19',\n",
       " '1.20 (B)',\n",
       " '(a) adult entertainment establishment',\n",
       " ': 2.5 (1)',\n",
       " '2.6 (2)',\n",
       " '2.8 (3)',\n",
       " '2.13 (b) purposes paragraph (a), clause (3),',\n",
       " 'distances',\n",
       " '2 Microsoft Word - HB0027A.DOC HB0027a',\n",
       " 'HB 27 New Text',\n",
       " 'FIRST SESSION',\n",
       " 'BILL ACT',\n",
       " '14.18.040',\n",
       " 'sex',\n",
       " '14.18',\n",
       " 'new sections',\n",
       " '(a) public school, private school whose students teams compete public school,',\n",
       " 'whose students teams',\n",
       " '12 (b) student',\n",
       " 'girls',\n",
       " 'Compliance',\n",
       " 'New Text',\n",
       " 'school district',\n",
       " '(a) student',\n",
       " '7 (b) student',\n",
       " '14.18.150 employee representative school, school district, athletic association organization, state federal government entity oversight authority,',\n",
       " '13 (c) school school district',\n",
       " 'school school district',\n",
       " '17 (d) action',\n",
       " '14.18.150 - 14.18.180, 20 (1)',\n",
       " '\"school\"',\n",
       " '\"school district',\n",
       " \"FAIRNESS WOMEN'S SPORTS ACT\",\n",
       " 'Senate Judiciary',\n",
       " 'General Assembly',\n",
       " 'general assembly',\n",
       " 'men women',\n",
       " ': 1 (1) \"inherent differences men women,\" differences 2 \" United States v. Virginia, 518 U.S. 515, 533 (1996); 4 (2) \"inherent differences\" range chromosomal hormonal differences physiological differences; Doriane Lambelet Coleman, Sex Sport, Law Contemporary 13',\n",
       " '9 (4) Men also higher natural levels testosterone,',\n",
       " 'men',\n",
       " '2 Words:',\n",
       " '15 (5) biological differences females males,',\n",
       " 'based sex',\n",
       " 'Supreme Court',\n",
       " 'sex classifications',\n",
       " 'they',\n",
       " 'sex classifications',\n",
       " '9 (8) Courts',\n",
       " 'physiological differences',\n",
       " 'males females',\n",
       " 'boys',\n",
       " 'girls similarly situated',\n",
       " 'Ct. 1979) (noting \"high school boys',\n",
       " 'advantages',\n",
       " '16 (9) recent study female male Olympic performances since 1983',\n",
       " 'athletes sexes',\n",
       " 'gender gap\" female male performances',\n",
       " 'These',\n",
       " \"women's performances high level\",\n",
       " '20 gender gap',\n",
       " '22 (10) Duke law professor All-American track athlete Doriane Coleman, tennis champion Martina Navratilova,',\n",
       " 'Olympic track gold medalist Sanya Richards-Ross',\n",
       " 'The evidence unequivocal starting puberty, every sport except sailing, shooting, riding, always significant numbers',\n",
       " 'boys men',\n",
       " 'Claims',\n",
       " 'Claims contrary simply denial science,',\n",
       " '\" 27 Doriane Coleman, Martina Navratilova, et al., Pass Equality Act, Abandon Title IX, 28 Washington Post (Apr. 29, 2019); 29 (11)',\n",
       " 'recent study impact treatments',\n",
       " 'man',\n",
       " 'woman taking cross-sex hormones',\n",
       " '33',\n",
       " '3 (12',\n",
       " 'separate sex-specific teams',\n",
       " 'Sex-4 specific teams',\n",
       " 'female athletes',\n",
       " 'skill, strength, athletic abilities also providing opportunities',\n",
       " 'Title 16 General Laws',\n",
       " '13 chapter shall known',\n",
       " '15 Interscholastic, intercollegiate, intramural, club athletic teams sports sponsored public school public school district activities association public institution higher education higher education institution member national collegiate athletic association (NCAA), national association intercollegiate athletics (NAIA), national junior college athletic association (NJCAA)',\n",
       " 'girls',\n",
       " '26 (ii)',\n",
       " 'student',\n",
       " \"presenting signed physician's statement\",\n",
       " \"student's sex\",\n",
       " '32 government entity, licensing accrediting organization, athletic association organization',\n",
       " 'higher education maintaining separate interscholastic, intercollegiate, intramural, club athletic teams sports students',\n",
       " '3 (a) student',\n",
       " '7 (b) student subject retaliation adverse action school, institution higher education',\n",
       " 'athletic association organization',\n",
       " '14 (c) school institution higher education',\n",
       " '18 (d) civil actions',\n",
       " 'harm',\n",
       " 'Persons organizations',\n",
       " 'Persons organizations prevail claim brought pursuant section',\n",
       " '22 16-112-5. Severability. 23 provisions chapter',\n",
       " 'severable provision chapter application provision person circumstance',\n",
       " 'declaration',\n",
       " 'act',\n",
       " \"28 ======== LC001518 ======== LC001518 - Page 5 5 EXPLANATION LEGISLATIVE COUNCIL N C RELATING EDUCATION -- FAIRNESS WOMEN'S SPORTS ACT ***\",\n",
       " 'act',\n",
       " 'team',\n",
       " 'dispute',\n",
       " 'student',\n",
       " \"presenting signed physician's statement\",\n",
       " 'act',\n",
       " 'action student',\n",
       " '6 act',\n",
       " 'NEW LAW new section law',\n",
       " 'SECTION 2.',\n",
       " 'NEW LAW new section law',\n",
       " 'reads',\n",
       " 'Conscience',\n",
       " 'ethical, moral, religious beliefs principles',\n",
       " 'Conscience',\n",
       " '“Disclosurea. violation law, rule, regulation, b. violation ethical guidelines provision medical procedure service, c. gross mismanagement, gross waste funds, abuse authority,',\n",
       " 'medical practitioner',\n",
       " 'practices methods treatment',\n",
       " '.',\n",
       " '“Discrimination',\n",
       " 'No. 1458 Page 3 practitioner, healthcare institution',\n",
       " 'healthcare payer',\n",
       " 'his, her, decision decline',\n",
       " 'Discrimination',\n",
       " 'refusal',\n",
       " 'threat',\n",
       " 'discrimination',\n",
       " 'Medical procedure service',\n",
       " 'medical care',\n",
       " 'includes,',\n",
       " 'No. 1458 Page 4 medication, device; psychological therapy counseling; research; prognosis; therapy; record making procedures; notes related treatment;',\n",
       " 'care service performed',\n",
       " 'Healthcare institution”',\n",
       " 'organization, corporation, partnership, association, agency, network, sole proprietorship, joint venture, entity',\n",
       " 'term',\n",
       " 'entity location medical procedures services',\n",
       " 'Healthcare payer”',\n",
       " 'entity',\n",
       " 'payment',\n",
       " 'Medical practitioner',\n",
       " 'person individual',\n",
       " 'includes,',\n",
       " 'person',\n",
       " '“Participate” medical procedure service',\n",
       " '“Pay” “payment',\n",
       " 'NEW LAW new section law',\n",
       " 'reads',\n",
       " 'A. Freedom Conscience',\n",
       " '.',\n",
       " '1458 Page 6',\n",
       " 'section',\n",
       " 'waive',\n",
       " 'health care payer',\n",
       " 'services',\n",
       " 'medical practitioner, healthcare institution, healthcare payer shall civilly, criminally, administratively liable exercising his',\n",
       " 'right conscience',\n",
       " 'healthcare institution',\n",
       " 'administratively liable exercise conscience rights',\n",
       " 'medical practitioner, healthcare institution, healthcare payer',\n",
       " 'his, her, decision decline',\n",
       " 'healthcare payer',\n",
       " 'internal operating policies procedures',\n",
       " 'employment, staffing, contracting,',\n",
       " 'privilege decisions',\n",
       " 'health care practitioner',\n",
       " 'practitioner',\n",
       " 'subsection',\n",
       " 'Nothing',\n",
       " 'override requirement',\n",
       " 'emergency medical treatment patients',\n",
       " 'Medical emergencies',\n",
       " 'NEW LAW new section law',\n",
       " 'reads',\n",
       " 'No. 1458 Page 8 A. medical practitioner',\n",
       " 'U.S. Department Health Human Services, Office Civil Rights, federal agency',\n",
       " 'act omission medical practitioner',\n",
       " 'Assisted',\n",
       " 'disclosure',\n",
       " 'medical practitioner',\n",
       " 'Unless disclosure specifically prohibited law, medical practitioner shall discriminated manner medical practitioner',\n",
       " 'information medical practitioner',\n",
       " 'Gross mismanagement, gross waste funds, abuse authority,',\n",
       " 'practices methods treatment',\n",
       " 'C. licensing board',\n",
       " 'licensing board',\n",
       " 'physical harm person health care practitioner practitioner-patient relationship within three (3) years',\n",
       " 'licensing board',\n",
       " 'medical practitioner complaints received',\n",
       " 'licensing board',\n",
       " 'medical practitioner',\n",
       " 'NEW LAW new section law',\n",
       " 'reads',\n",
       " 'A. Civil Action Violation Right Conscience',\n",
       " 'civil action damages injunctive relief—or both',\n",
       " 'civil action',\n",
       " 'party aggrieved violation act',\n",
       " 'damages',\n",
       " 'cumulative way limited remedies',\n",
       " 'court considering civil action',\n",
       " 'NEW LAW new section law',\n",
       " 'reads',\n",
       " 'No. 1458 Page 11 provision act',\n",
       " 'event provision',\n",
       " 'severable herefrom',\n",
       " 'SECTION 7. act',\n",
       " '1',\n",
       " 'NEW SECTION KRS CHAPTER 158 CREATED 3 READ FOLLOWS: 4 used Sections 1 6 7 Act: 5 (1) \"Biological sex',\n",
       " 'sex chromosomes present birth,',\n",
       " '9',\n",
       " '\"Child',\n",
       " 'person',\n",
       " '10 (3)',\n",
       " 'Community standard state dress',\n",
       " 'condition',\n",
       " 'partially fully unclothed bodily coverage opaque clothing appropriate determined average adult citizen Commonwealth',\n",
       " 'demographic factors',\n",
       " 'demographic factors persons',\n",
       " '18 (c) conditions expectation privacy within situational context',\n",
       " '19 (4)',\n",
       " 'Parent',\n",
       " 'biological, foster, adoptive parent, de facto custodian',\n",
       " 'school-related decisions',\n",
       " 'whose custody child',\n",
       " '24 (5) \"Public school\"',\n",
       " 'School enrollment documentation\"',\n",
       " \"2 (b) reliable proof child's identity, age, biological sex affidavit inability\",\n",
       " 'primary secondary school fulfill',\n",
       " '6 SECTION 2. NEW SECTION KRS CHAPTER 158 CREATED 7 READ FOLLOWS: 8 (1)',\n",
       " 'General Assembly',\n",
       " '10 (a) parent child',\n",
       " 'that: 10 (a) parent child shall fundamental right',\n",
       " 'child educated manner',\n",
       " 'compulsory attendance requirements exemptions',\n",
       " 'KRS 159.010 159.030 manner',\n",
       " '19 2.',\n",
       " 'High duty right',\n",
       " 'interests role parents',\n",
       " '22 (b) interests role parents care, custody, control children implicit concept',\n",
       " 'rights lawfully waived',\n",
       " 'Commonwealth independent authority',\n",
       " '5 (e) rights',\n",
       " 'right due process law',\n",
       " 'Commonwealth',\n",
       " 'restriction interference rights',\n",
       " 'clear convincing evidence',\n",
       " '14 (b) least restrictive means',\n",
       " '16 (3) guard rights',\n",
       " 'local board education charter school board directors',\n",
       " 'process',\n",
       " 'violations rights',\n",
       " 'Written confirmation parent complaint',\n",
       " '23 (d) written response complaint within thirty (30) business days receipt complaint',\n",
       " 'Jacketed (e) final written determination merits complaint actions',\n",
       " '(a) exhausting complaint process',\n",
       " 'parent',\n",
       " '7 (b) complaint',\n",
       " \"school's failure\",\n",
       " 'whichever',\n",
       " '11 (c) action',\n",
       " 'Circuit Court county school',\n",
       " 'located parent',\n",
       " 'Remedies',\n",
       " 'available parent subsection',\n",
       " 'Injunctive relief',\n",
       " 'Compensatory damages',\n",
       " '20 (e) parent',\n",
       " 'parent',\n",
       " '23 (f) claims',\n",
       " '24 (5) Nothing Sections',\n",
       " '1 6 7 Act',\n",
       " '25',\n",
       " '1 (6) portion section Sections 1',\n",
       " '6 7 Act declared invalid',\n",
       " 'NEW SECTION KRS CHAPTER 158 CREATED 5 READ FOLLOWS: 6 (1) accordance Section 2 Act, parent shall following rights',\n",
       " 'parent',\n",
       " 'education records relating minor child',\n",
       " '11 2. record associated selection approval guest lecturer, guest instructor, outside presenter',\n",
       " 'third-party individuals organizations',\n",
       " 'third-party individuals organizations contracted school child',\n",
       " 'student well-being questionnaire health screening form used research purposes;',\n",
       " '19 (b)',\n",
       " 'school',\n",
       " \"25 2. biometric scan child made, shared, stored school; 26 3. record child's blood deoxyribonucleic acid created, 27 UNOFFICIAL COPY 23 RS BR 1276 Page 6 27 XXXX 2/8/2023 10:53 Jacketed stored, shared school, except required law authorized pursuant court order\",\n",
       " \"record child's blood deoxyribonucleic acid\",\n",
       " 'required law',\n",
       " '2 4. video voice recording child',\n",
       " 'court-ordered proceeding forensic interview criminal investigation',\n",
       " '12',\n",
       " 'people material child',\n",
       " '14 (d)',\n",
       " '18 (e) access review information',\n",
       " '20 (f) access review, physical digital format,',\n",
       " 'copies',\n",
       " 'copies curricular documents, books, educational materials',\n",
       " '23 (g)',\n",
       " 'course syllabus course',\n",
       " '26 (h)',\n",
       " 'visit',\n",
       " 'Jacketed',\n",
       " '1 (i)',\n",
       " '2 1. specific nonemergency health care service',\n",
       " '4 2.',\n",
       " 'every session nonemergency mental health care service',\n",
       " \"school shall require grant general consent questionnaires forms parenta. Documentation regular classroom instruction, participation journalism; b. Security surveillance buildings, grounds, transportation vehicles; c. Documentation extracurricular activity public event recording common practice, shall request consent specific questionnaire form provided child; 25 2. biometric scan child made, shared, stored school; 26 3. record child's blood deoxyribonucleic acid created, 27 UNOFFICIAL COPY 23 RS BR 1276 Page 6 27 XXXX 2/8/2023 10:53 Jacketed stored, shared school, except required law authorized pursuant court order; 2 4. video voice recording child made school unless made part court-ordered proceeding forensic interview criminal investigation used primarily following purposes: ; 12 (c) know people material child exposed property owned, leased, operated school; 14 (d) know identity people entities, including limited organizations, agencies, third-party clearinghouses, consultants, accessed child's education records, whether authorized school not; 18 (e) access review information identified section without entering nondisclosure agreement; 20 (f) access review, physical digital format, make copies curricular documents, books, educational materials used child's education; 23 (g) receive, without request, course syllabus course reading list prior child's beginning coursework upon child's enrollment course; 26 (h) visit child school school hours unless visit would 27 UNOFFICIAL COPY 23 RS BR 1276 Page 7 27 XXXX 2/8/2023 10:53 Jacketed disrupt educational process children; 1 (i) provided consent form prior to, give written prior consent: 2 1. specific nonemergency health care service provided school child; 4 2. every session nonemergency mental health care service provided school child; 6 3.\",\n",
       " \"parent's right access child's education health records\",\n",
       " 'That',\n",
       " '13 (j)',\n",
       " 'programs health care services',\n",
       " \"child's gender expression\",\n",
       " 'b. request',\n",
       " 'name, pronoun,',\n",
       " 'inconsistent school enrollment documentation',\n",
       " \"child's school campus\",\n",
       " 'incidents campus school child',\n",
       " 'report',\n",
       " \"f. Notice parent parent's child\",\n",
       " 'serious crimes capital offenses, felonies, Class misdemeanors, teacher school employee',\n",
       " '21 (k) request',\n",
       " 'one (1)',\n",
       " '23 (l) rights',\n",
       " '24 (2) guard rights',\n",
       " 'local board education charter school board directors',\n",
       " 'Jacketed (a) Notify parents',\n",
       " '3 (b)',\n",
       " 'information relating child',\n",
       " 'prior consent Sections 1 6 Act created, collected, stored,',\n",
       " '9 (d)',\n",
       " 'inquiry parent',\n",
       " '11 (e)',\n",
       " 'parent’s minor child',\n",
       " 'Jacketed (i) Prohibit',\n",
       " \"Advise, compel, incentivize teacher, school employee, presenter use pronouns inconsistent information child's school enrollment documentation; 6 2.\",\n",
       " 'refusal failure',\n",
       " 'Assert possessing set immutable characteristics',\n",
       " 'person',\n",
       " 'Advise, compel,',\n",
       " 'b. Engage activity',\n",
       " 'c. Assert person,',\n",
       " 'another person',\n",
       " 'Nothing paragraph',\n",
       " 'b. Apply nonmedical safety equipment used precaution',\n",
       " 'c.',\n",
       " '19 (3) Kentucky Department Education Kentucky Board Education',\n",
       " '21 (',\n",
       " 'practices',\n",
       " '23 (b) Develop',\n",
       " 'best practices',\n",
       " '25 (4) school',\n",
       " 'best practices',\n",
       " 'NEW SECTION KRS CHAPTER 158 CREATED 2 READ FOLLOWS: 3 (1)',\n",
       " 'General Assembly',\n",
       " ': 5 (a) Children natural normal concerns bodily privacy',\n",
       " 'children',\n",
       " 'child',\n",
       " 'Persons opposite sex presence child reasonable expectation',\n",
       " 'Persons opposite sex presence child reasonable expectation bodily privacy;',\n",
       " 'students',\n",
       " 'reserved students',\n",
       " 'different biological sex',\n",
       " '22 (d) Providing children object',\n",
       " 'shower rooms',\n",
       " 'Every school',\n",
       " 'protect bodily privacy children',\n",
       " '4 (b) private areas',\n",
       " 'school personnel',\n",
       " 'designated students',\n",
       " '7 (c) student',\n",
       " \"school officials student's gender expression\",\n",
       " \"different student's biological sex whose parent provides written consent school\",\n",
       " 'whose parent',\n",
       " 'May',\n",
       " 'shower rooms designated',\n",
       " 'child',\n",
       " '24 (a) Authorized encountered person use facilities opposite biological sex manner child; 26 (b) Failed',\n",
       " 'a) Authorized encountered person',\n",
       " '2 (4) student, teacher, employee required school school personnel',\n",
       " 'person',\n",
       " 'Nothing section',\n",
       " '11 (b) person',\n",
       " '14 (c) medical professional engaging practices profession',\n",
       " 'NEW SECTION KRS CHAPTER 158 CREATED 21 READ FOLLOWS:',\n",
       " '22 (1) purposes section, \"controversial subject matter\"',\n",
       " 'issue point',\n",
       " 'electoral platform political party',\n",
       " '26 (2',\n",
       " 'General Assembly',\n",
       " 'Jacketed (a) common school environment interactions teachers students kindergarten grade twelve (12) primarily intended facilitate learning approved curricula development',\n",
       " '4 (b) common school environment',\n",
       " 'appropriate place',\n",
       " '7 (3) parent right child',\n",
       " 'school',\n",
       " '12 (4) school setting serving scope duties temporary, part-13 time, full-time employment school, teacher, school employee, guest lecturer, guest instructor, outside presenter',\n",
       " \"required instruction school's approved curriculum course\",\n",
       " '1 (5) school setting serving scope duties temporary, part-2 time, full-time employment school, teacher, school employee, guest lecturer, guest instructor, outside presenter',\n",
       " '4 (a) endorse, support,',\n",
       " 'candidate nominee public office elected',\n",
       " 'court case judicial action local, state, federal level presence students; 13 (d) endorse, support,',\n",
       " '16 (e)',\n",
       " 'symbols',\n",
       " '24 (g) segregate students',\n",
       " '26 (h)',\n",
       " 'separate one (1) students',\n",
       " 'i',\n",
       " 'persons',\n",
       " 'person',\n",
       " '8 (k',\n",
       " 'section, teacher, school employee, guest lecturer, guest instructor, outside presenter, student',\n",
       " ...]"
      ]
     },
     "execution_count": 379,
     "metadata": {},
     "output_type": "execute_result"
    }
   ],
   "source": [
    "subjects "
   ]
  },
  {
   "cell_type": "code",
   "execution_count": 387,
   "metadata": {},
   "outputs": [
    {
     "name": "stdout",
     "output_type": "stream",
     "text": [
      "Done\n"
     ]
    }
   ],
   "source": [
    "# subjects\n",
    "# past_tense_verbs\n",
    "# tense_verbs\n",
    "# adjectives\n",
    "# nouns\n",
    "# prep_phrases\n",
    "\n",
    "with open(r'prep_phrases.txt', 'w') as fp:\n",
    "    for item in prep_phrases:\n",
    "        # write each item on a new line\n",
    "        fp.write(\"%s\\n\" % item)\n",
    "    print('Done')"
   ]
  },
  {
   "cell_type": "code",
   "execution_count": 338,
   "metadata": {},
   "outputs": [
    {
     "name": "stdout",
     "output_type": "stream",
     "text": [
      "Requirement already satisfied: tracery in /Users/gabriel/opt/anaconda3/lib/python3.9/site-packages (0.1.1)\r\n"
     ]
    }
   ],
   "source": [
    "import sys\n",
    "!{sys.executable} -m pip install tracery"
   ]
  },
  {
   "cell_type": "code",
   "execution_count": 339,
   "metadata": {},
   "outputs": [],
   "source": [
    "import tracery\n",
    "from tracery.modifiers import base_english"
   ]
  },
  {
   "cell_type": "markdown",
   "metadata": {},
   "source": [
    "... and define a grammar. The \"trick\" of this example is that I grab entire rule expansions from the units extracted from the text using spaCy. The grammar itself is built around producing sentences that look and feel like English."
   ]
  },
  {
   "cell_type": "code",
   "execution_count": null,
   "metadata": {},
   "outputs": [],
   "source": []
  },
  {
   "cell_type": "code",
   "execution_count": 340,
   "metadata": {},
   "outputs": [],
   "source": [
    "actverbs = ['CONCERNING', 'ENTITLED', 'ESTABLISHING', 'RELATING TO', 'REQUIRING', 'TO AMEND', 'TO BE KNOWN AS', 'TO ENACT', 'TO ESTABLISH', 'TO PROTECT', 'TO PROVIDE', 'TO REPEAL', 'TO REQUIRE', 'TO RESTRICT']\n",
    "actfollow = random.sample(actverbs, 1)"
   ]
  },
  {
   "cell_type": "code",
   "execution_count": 341,
   "metadata": {},
   "outputs": [
    {
     "data": {
      "text/plain": [
       "'CONCERNING'"
      ]
     },
     "execution_count": 341,
     "metadata": {},
     "output_type": "execute_result"
    }
   ],
   "source": [
    "actfollow[0]"
   ]
  },
  {
   "cell_type": "code",
   "execution_count": 388,
   "metadata": {},
   "outputs": [],
   "source": [
    "acts=[]"
   ]
  },
  {
   "cell_type": "code",
   "execution_count": 594,
   "metadata": {
    "scrolled": true
   },
   "outputs": [],
   "source": [
    "actverbs = ['CONCERNING', 'ENTITLED', 'ESTABLISHING', 'RELATING TO', 'REQUIRING', 'TO AMEND', 'TO BE KNOWN AS', 'TO ENACT', 'TO ESTABLISH', 'TO PROTECT', 'TO PROVIDE', 'TO REPEAL', 'TO REQUIRE', 'TO RESTRICT']\n",
    "actfollow = random.sample(actverbs, 1)\n",
    "\n",
    "conjunctions = ['and', 'or']\n",
    "conj = random.sample(conjunctions, 1)\n",
    "\n",
    "rules = {\n",
    "    \"origin\": [\n",
    "        \"#nounphrase# #predicate#\",\n",
    "        \"#adj.a# #noun#\",\n",
    "        \"#nounphrase# #conj# #nounphrase# #predicate#\"\n",
    "    ],\n",
    "    \"predicate\": [\n",
    "        \"to #verbb#\",\n",
    "        \"to #verbb# #nounphrase#\",\n",
    "        \"to #verbb# #prepphrase#\"\n",
    "    ],\n",
    "    \"nounphrase\": [\n",
    "        \"the #noun#\",\n",
    "        \"the #adj# #noun#\",\n",
    "        \"the #noun# #prepphrase#\",\n",
    "        \"the #noun# and the #noun#\",\n",
    "        \"#noun.a#\",\n",
    "        \"#adj.a# #noun#\",\n",
    "        \"the #noun# that #predicate#\"\n",
    "    ],\n",
    "    \"subject\": subjects,\n",
    "    \"verb\": past_tense_verbs,\n",
    "    \"verbb\": tense_verbs,\n",
    "    \"noun\": nouns,\n",
    "    \"adj\": adjectives,\n",
    "    \"prepphrase\": prep_phrases,\n",
    "    \"conj\": conjunctions\n",
    "}\n",
    "grammar = tracery.Grammar(rules)\n",
    "grammar.add_modifiers(base_english)\n",
    "actline = grammar.flatten(f\"AN ACT {actfollow[0]} #origin#\").upper()\n",
    "acts.append(actline)"
   ]
  },
  {
   "cell_type": "code",
   "execution_count": 595,
   "metadata": {},
   "outputs": [
    {
     "data": {
      "text/plain": [
       "200"
      ]
     },
     "execution_count": 595,
     "metadata": {},
     "output_type": "execute_result"
    }
   ],
   "source": [
    "len(acts)"
   ]
  },
  {
   "cell_type": "code",
   "execution_count": 596,
   "metadata": {},
   "outputs": [
    {
     "name": "stdout",
     "output_type": "stream",
     "text": [
      "Done\n"
     ]
    }
   ],
   "source": [
    "with open(r'acts.txt', 'w') as fp:\n",
    "    for item in acts:\n",
    "        # write each item on a new line\n",
    "        fp.write(\"%s\\n\" % item)\n",
    "    print('Done')"
   ]
  },
  {
   "cell_type": "code",
   "execution_count": 343,
   "metadata": {},
   "outputs": [
    {
     "data": {
      "text/plain": [
       "'Safety maintained the mental women.'"
      ]
     },
     "execution_count": 343,
     "metadata": {},
     "output_type": "execute_result"
    }
   ],
   "source": [
    "rules = {\n",
    "    \"origin\": [\n",
    "        \"#subject.capitalize# #predicate#.\",\n",
    "        \"#subject.capitalize# #predicate#.\",\n",
    "        \"#prepphrase.capitalize#, #subject# #predicate#.\"\n",
    "    ],\n",
    "    \"predicate\": [\n",
    "        \"#verb#\",\n",
    "        \"#verb# #nounphrase#\",\n",
    "        \"#verb# #prepphrase#\"\n",
    "    ],\n",
    "    \"nounphrase\": [\n",
    "        \"the #noun#\",\n",
    "        \"the #adj# #noun#\",\n",
    "        \"the #noun# #prepphrase#\",\n",
    "        \"the #noun# and the #noun#\",\n",
    "        \"#noun.a#\",\n",
    "        \"#adj.a# #noun#\",\n",
    "        \"the #noun# that #predicate#\"\n",
    "    ],\n",
    "    \"subject\": subjects,\n",
    "    \"verb\": past_tense_verbs,\n",
    "    \"noun\": nouns,\n",
    "    \"adj\": adjectives,\n",
    "    \"prepphrase\": prep_phrases\n",
    "}\n",
    "grammar = tracery.Grammar(rules)\n",
    "grammar.add_modifiers(base_english)\n",
    "grammar.flatten(\"#origin#\")"
   ]
  },
  {
   "cell_type": "markdown",
   "metadata": {},
   "source": [
    "Let's generate a whole paragraph of this and format it nicely:"
   ]
  },
  {
   "cell_type": "code",
   "execution_count": 344,
   "metadata": {},
   "outputs": [
    {
     "name": "stdout",
     "output_type": "stream",
     "text": [
      "SECTION 4. act authorized. HOUSE BILL No. 1589 BILL ACT\n",
      "corrected from. -12, 001049 - 1 - ACT managed without\n",
      "demonstrating burden required compelling governmental\n",
      "interest. Exception persons depicted the economics that\n",
      "committed. (J) waived. Concerning definition \"sex offense\"\n",
      "Sex Offender Registration Act 1997, c. school institution\n",
      "higher education brought for. Throughout individual's\n",
      "minority parent, : 24 (1) juvenile court added an employee.\n",
      "(g) board provided the environmental drugs. Beginning\n",
      "2023-2024 school year, (iv) agency records engaged the\n",
      "research whether without consideration. Approved delegated\n",
      "to: 28 **** 68th Legislature 2023 SB 458.1 - 6 - Authorized\n",
      "Print Version – SB 458 (i) public school districts, defined\n",
      "20-6-101 20-6-701; 1 (ii) special education cooperatives,.\n",
      "Discernibly turgid state provided. Following, Treatment\n",
      "section include]Except Testified the section.\n"
     ]
    }
   ],
   "source": [
    "from textwrap import fill\n",
    "output = \" \".join([grammar.flatten(\"#origin#\") for i in range(12)])\n",
    "print(fill(output, 60))"
   ]
  },
  {
   "cell_type": "markdown",
   "metadata": {},
   "source": [
    "I like this approach for a number of reasons. Because I'm using a hand-written grammar, I have a great deal of control over the shape and rhythm of the sentences that are generated. But spaCy lets me pre-populate my grammar's vocabulary without having to write each item by hand."
   ]
  },
  {
   "cell_type": "markdown",
   "metadata": {},
   "source": [
    "## Further reading and resources\n",
    "\n",
    "We've barely scratched the surface of what it's possible to do with spaCy. [The official site has a good list of guides to various natural language processing tasks](https://spacy.io/usage) that you should check out, and there are also [a handful of books that dig deeper into using spaCy for natural language processing tasks](https://spacy.io/universe/category/books)."
   ]
  },
  {
   "cell_type": "code",
   "execution_count": null,
   "metadata": {},
   "outputs": [],
   "source": [
    "from spacy.matcher import Matcher\n",
    "matcher = Matcher(nlp.vocab)\n",
    "\n",
    "pattern = [{\"LOWER\": \"his\"}, {\"LOWER\": \"or\"}, {\"LOWER\": \"her\"}]\n",
    "matcher.add(\"HisOrHer\", [pattern])\n",
    "\n",
    "matches = matcher(doc)\n",
    "\n",
    "if matches:\n",
    "    match_id, start, end = matches[0]\n",
    "    next_word = doc[end]\n",
    "    print(next_word)"
   ]
  },
  {
   "cell_type": "code",
   "execution_count": null,
   "metadata": {
    "scrolled": true
   },
   "outputs": [],
   "source": [
    "matches"
   ]
  },
  {
   "cell_type": "code",
   "execution_count": null,
   "metadata": {},
   "outputs": [],
   "source": [
    "phrase = \"his or her\"\n",
    "window_size = 2 # number of words to the left and right to include\n",
    "\n",
    "matcher = Matcher(nlp.vocab)\n",
    "pattern = [{\"LOWER\": token.lower_} for token in nlp(phrase)]\n",
    "matcher.add(\"PhraseMatch\", [pattern])\n",
    "\n",
    "matches = matcher(doc)\n",
    "words = []\n",
    "\n",
    "for match_id, start, end in matches:\n",
    "    # get the left and right neighbors of the phrase\n",
    "    left_index = max(start - window_size, 0)\n",
    "    right_index = min(end + window_size + 1, len(doc))\n",
    "    for token in doc[left_index:end]:\n",
    "        if token.lower_ != phrase:\n",
    "            words.append(token.lower_)\n",
    "\n",
    "# count the occurrence of each word and print the top 10 most common ones\n",
    "word_counts = Counter(words)\n",
    "top_words = word_counts.most_common(10)\n",
    "print(top_words)"
   ]
  },
  {
   "cell_type": "code",
   "execution_count": null,
   "metadata": {},
   "outputs": [],
   "source": []
  },
  {
   "cell_type": "code",
   "execution_count": null,
   "metadata": {},
   "outputs": [],
   "source": []
  },
  {
   "cell_type": "code",
   "execution_count": null,
   "metadata": {},
   "outputs": [],
   "source": []
  }
 ],
 "metadata": {
  "kernelspec": {
   "display_name": "Python 3 (ipykernel)",
   "language": "python",
   "name": "python3"
  },
  "language_info": {
   "codemirror_mode": {
    "name": "ipython",
    "version": 3
   },
   "file_extension": ".py",
   "mimetype": "text/x-python",
   "name": "python",
   "nbconvert_exporter": "python",
   "pygments_lexer": "ipython3",
   "version": "3.9.13"
  }
 },
 "nbformat": 4,
 "nbformat_minor": 2
}
