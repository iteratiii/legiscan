{
 "cells": [
  {
   "cell_type": "markdown",
   "metadata": {},
   "source": [
    "# Read in my anti-trans bills csv"
   ]
  },
  {
   "cell_type": "code",
   "execution_count": 2,
   "metadata": {},
   "outputs": [],
   "source": [
    "import pandas as pd\n",
    "import csv"
   ]
  },
  {
   "cell_type": "code",
   "execution_count": 3,
   "metadata": {},
   "outputs": [],
   "source": [
    "# read in my csv as a dataframe\n",
    "df = pd.read_csv('anti-lgbtq-bills-sponsors.csv', usecols=['State','Abbreviation','Number','URL','Bill ID','Sponsors'])"
   ]
  },
  {
   "cell_type": "code",
   "execution_count": 57,
   "metadata": {},
   "outputs": [
    {
     "data": {
      "text/html": [
       "<div>\n",
       "<style scoped>\n",
       "    .dataframe tbody tr th:only-of-type {\n",
       "        vertical-align: middle;\n",
       "    }\n",
       "\n",
       "    .dataframe tbody tr th {\n",
       "        vertical-align: top;\n",
       "    }\n",
       "\n",
       "    .dataframe thead th {\n",
       "        text-align: right;\n",
       "    }\n",
       "</style>\n",
       "<table border=\"1\" class=\"dataframe\">\n",
       "  <thead>\n",
       "    <tr style=\"text-align: right;\">\n",
       "      <th></th>\n",
       "      <th>State</th>\n",
       "      <th>Abbreviation</th>\n",
       "      <th>Number</th>\n",
       "      <th>URL</th>\n",
       "      <th>Bill ID</th>\n",
       "      <th>Sponsors</th>\n",
       "    </tr>\n",
       "  </thead>\n",
       "  <tbody>\n",
       "    <tr>\n",
       "      <th>0</th>\n",
       "      <td>Alaska</td>\n",
       "      <td>AK</td>\n",
       "      <td>HB27</td>\n",
       "      <td>https://legiscan.com/AK/bill/HB27/2023</td>\n",
       "      <td>1646385</td>\n",
       "      <td>['Thomas McKay']</td>\n",
       "    </tr>\n",
       "    <tr>\n",
       "      <th>1</th>\n",
       "      <td>Arizona</td>\n",
       "      <td>AZ</td>\n",
       "      <td>HB2312</td>\n",
       "      <td>https://legiscan.com/AZ/bill/HB2312/2023</td>\n",
       "      <td>1657170</td>\n",
       "      <td>['Rachel Jones', 'Lupe Diaz', 'Liz Harris', 'C...</td>\n",
       "    </tr>\n",
       "    <tr>\n",
       "      <th>2</th>\n",
       "      <td>Arizona</td>\n",
       "      <td>AZ</td>\n",
       "      <td>HB2711</td>\n",
       "      <td>https://legiscan.com/AZ/bill/HB2711/2023</td>\n",
       "      <td>1696919</td>\n",
       "      <td>['Alexander Kolodin', 'Joseph Chaplik']</td>\n",
       "    </tr>\n",
       "    <tr>\n",
       "      <th>3</th>\n",
       "      <td>Arizona</td>\n",
       "      <td>AZ</td>\n",
       "      <td>SB1001</td>\n",
       "      <td>https://legiscan.com/AZ/bill/SB1001/2023</td>\n",
       "      <td>1639597</td>\n",
       "      <td>['John Kavanagh']</td>\n",
       "    </tr>\n",
       "    <tr>\n",
       "      <th>4</th>\n",
       "      <td>Arizona</td>\n",
       "      <td>AZ</td>\n",
       "      <td>SB1026</td>\n",
       "      <td>https://legiscan.com/AZ/bill/SB1026/2023</td>\n",
       "      <td>1644653</td>\n",
       "      <td>['John Kavanagh']</td>\n",
       "    </tr>\n",
       "  </tbody>\n",
       "</table>\n",
       "</div>"
      ],
      "text/plain": [
       "     State Abbreviation  Number                                       URL  \\\n",
       "0   Alaska           AK    HB27    https://legiscan.com/AK/bill/HB27/2023   \n",
       "1  Arizona           AZ  HB2312  https://legiscan.com/AZ/bill/HB2312/2023   \n",
       "2  Arizona           AZ  HB2711  https://legiscan.com/AZ/bill/HB2711/2023   \n",
       "3  Arizona           AZ  SB1001  https://legiscan.com/AZ/bill/SB1001/2023   \n",
       "4  Arizona           AZ  SB1026  https://legiscan.com/AZ/bill/SB1026/2023   \n",
       "\n",
       "   Bill ID                                           Sponsors  \n",
       "0  1646385                                   ['Thomas McKay']  \n",
       "1  1657170  ['Rachel Jones', 'Lupe Diaz', 'Liz Harris', 'C...  \n",
       "2  1696919            ['Alexander Kolodin', 'Joseph Chaplik']  \n",
       "3  1639597                                  ['John Kavanagh']  \n",
       "4  1644653                                  ['John Kavanagh']  "
      ]
     },
     "execution_count": 57,
     "metadata": {},
     "output_type": "execute_result"
    }
   ],
   "source": [
    "df.head()"
   ]
  },
  {
   "cell_type": "code",
   "execution_count": 58,
   "metadata": {},
   "outputs": [],
   "source": [
    "sponsors = list(df['Sponsors'])"
   ]
  },
  {
   "cell_type": "code",
   "execution_count": 59,
   "metadata": {},
   "outputs": [
    {
     "data": {
      "text/plain": [
       "str"
      ]
     },
     "execution_count": 59,
     "metadata": {},
     "output_type": "execute_result"
    }
   ],
   "source": [
    "type(sponsors[1])"
   ]
  },
  {
   "cell_type": "markdown",
   "metadata": {},
   "source": [
    "# Look at all sponsors\n",
    "Let's see if pyttsx3 can pronounce these names..."
   ]
  },
  {
   "cell_type": "code",
   "execution_count": 32,
   "metadata": {},
   "outputs": [
    {
     "data": {
      "text/plain": [
       "pandas.core.series.Series"
      ]
     },
     "execution_count": 32,
     "metadata": {},
     "output_type": "execute_result"
    }
   ],
   "source": [
    "type(df['Sponsors'])"
   ]
  },
  {
   "cell_type": "code",
   "execution_count": 33,
   "metadata": {},
   "outputs": [],
   "source": [
    "# turn the pandas series into a list\n",
    "sponsors_unique = df['Sponsors']"
   ]
  },
  {
   "cell_type": "code",
   "execution_count": 34,
   "metadata": {},
   "outputs": [
    {
     "data": {
      "text/plain": [
       "pandas.core.series.Series"
      ]
     },
     "execution_count": 34,
     "metadata": {},
     "output_type": "execute_result"
    }
   ],
   "source": [
    "type(sponsors_unique)"
   ]
  },
  {
   "cell_type": "code",
   "execution_count": 27,
   "metadata": {},
   "outputs": [],
   "source": [
    "# flatten the nested lists — \n",
    "# for every sublist in toplist, for every item in that sublist, put that item into this [list]\n",
    "flat_list = [sublist for sublist in sponsors_unique]"
   ]
  },
  {
   "cell_type": "code",
   "execution_count": 29,
   "metadata": {},
   "outputs": [
    {
     "data": {
      "text/plain": [
       "\"['Thomas McKay']\""
      ]
     },
     "execution_count": 29,
     "metadata": {},
     "output_type": "execute_result"
    }
   ],
   "source": [
    "flat_list[0]"
   ]
  },
  {
   "cell_type": "code",
   "execution_count": 14,
   "metadata": {},
   "outputs": [],
   "source": [
    "# turn that into a set to remove repetitions of names\n",
    "unique_sponsors = set(flat_list)"
   ]
  },
  {
   "cell_type": "code",
   "execution_count": 15,
   "metadata": {},
   "outputs": [],
   "source": [
    "# alphabetize them\n",
    "unique_sponsors = sorted(unique_sponsors)"
   ]
  },
  {
   "cell_type": "code",
   "execution_count": 16,
   "metadata": {},
   "outputs": [
    {
     "data": {
      "text/plain": [
       "['[\"Terry O\\'Donnell\", \\'Mark Lepak\\', \\'Mark McBride\\', \\'Julie Daniels\\']',\n",
       " \"['Aaron Aylward', 'Tom Pischke', 'Julie Frye-Mueller', 'Phil Jensen', 'Elizabeth May', 'Carl Perry', 'John Sjaarda']\",\n",
       " \"['Abby Angelos', 'John Bear', 'Donald Burkhart', 'Jeremy Haroldson', 'Scott Heiner', 'Mark Jennings', 'Jared Olsen', 'Rachel Rodriguez-Williams', 'Jeanette Ward', 'Dennis Biteman', 'Ogden Driskill', 'Lynn Hutchings', 'Cheri Steinmetz']\",\n",
       " \"['Al Novstrup', 'Bethany Soye', 'Julie Auch', 'Aaron Aylward', 'Jessica Bahmuller', 'Jim Bolin', 'Byron Callies', 'Fred Deutsch', 'Julie Frye-Mueller', 'Randy Gross', 'Jon Hansen', 'Brent Hoffman', 'Kevin Jensen', 'Phil Jensen', 'Chris Karr', 'Ben Krohmer', 'David Kull', 'Trish Ladner', 'Karla Lems', 'Elizabeth May', 'John Mills', 'Scott Moore', 'Tina Mulally', 'Scott Odenbach', 'Ernie Otten', 'Marty Overweg', 'Carl Perry', 'Sue Lucas-Peterson', 'Neal Pinnow', 'Tom Pischke', 'Tony Randolph', 'Rebecca Reimer', 'Brandei Schaefbauer', 'John Sjaarda', 'Jim Stalzer', 'John Wiik', 'Larry Zikmund']\",\n",
       " \"['Alex Andrade', 'Mike Beltran']\",\n",
       " \"['Alexander Kolodin', 'Joseph Chaplik']\",\n",
       " \"['Amanda Chase']\",\n",
       " \"['Amy Galey', 'Michael Lee', 'Lisa Barnes', 'Ted Alexander', 'Kevin Corbin', 'Warren Daniel', 'Carl Ford', 'Bobby Hanig', 'Ralph Hise', 'Steve Jarvis', 'Todd Johnson', 'Joyce Krawiec', 'Michael Lazzara', 'Thomas McInnis', 'Timothy Moffitt', 'Buck Newton', 'Paul Newton', 'Brad Overcash', 'Jim Perry', 'Norman Sanderson', 'Benton Sawrey', 'Vickie Sawyer', 'Eddie Settle']\",\n",
       " \"['Amy Regier']\",\n",
       " \"['Andrew Chesney']\",\n",
       " \"['Angela Burks Hill', 'Jennifer Branning']\",\n",
       " \"['Angela Burks Hill', 'Joseph Seymour', 'Kathy Chism']\",\n",
       " \"['Angela Burks Hill', 'Scott DeLano', 'Jeff Tate', 'Joseph Seymour', 'Neil Whaley', 'Kathy Chism', 'Charles Younger', 'Joey Fillingane', 'Chris Caughman', 'Philip Moran', 'Tyler McCaughn', 'Benjamin Suber', 'Jason Barrett', 'Jennifer Branning', 'Joel Carter', 'Michael McLendon', 'Bart Williams', 'Jeremy England', 'Lydia Chassaniol', 'Dennis DeBar', 'Mike Thompson', 'Walter Michel', 'Melanie Sojourner', 'Chris McDaniel', 'Kevin Blackwell']\",\n",
       " \"['Angela Burks Hill']\",\n",
       " \"['Ann Kelley']\",\n",
       " \"['Anthony Kern']\",\n",
       " \"['Appropriations']\",\n",
       " \"['Barry Crago', 'David Northrup', 'Ember Oakley', 'Clark Stith', 'Cyrus Western', 'Wendy Davis Schuler']\",\n",
       " \"['Becky Currie', 'William Arnold', 'Randy Boyd', 'Billy Calvert', 'Lester Carpenter', 'Sam Creekmore', 'Jerry Darnell', 'Kevin Ford', 'Jeff Hale', 'Jon Lancaster', 'Vince Mangold', 'Ken Morgan', 'Bill Pigott', 'Fred Shanks', 'Jerry Turner', 'Price Wallace', 'Brady Williamson']\",\n",
       " \"['Ben Brown']\",\n",
       " \"['Ben Bumgarner']\",\n",
       " \"['Bennie Cook']\",\n",
       " \"['Bernie Satrom', 'SuAnn Olson', 'Austen Schauer', 'Michelle Strinden', 'David Clemens', 'Cole Conley', 'David Rust']\",\n",
       " \"['Bill Allemand', 'Dalton Banks', 'Forrest Chadwick', 'Scott Heiner', 'Mark Jennings', 'Martha Lawley', 'Jared Olsen', 'Pepper Ottman', 'Tomi Strock', 'Clarence Styvar', 'Tom Walters', 'Evie Brennan', 'Troy McKeown', 'Wendy Davis Schuler', 'Charles Scott', 'Cheri Steinmetz']\",\n",
       " \"['Bill Hansell', 'Lynn Findley']\",\n",
       " \"['Bill Tveit', 'Dick Anderson', 'Larry Bellew', 'Brandon Prichard', 'Karen Rohr', 'Lori VanWinkle', 'Keith Boehm', 'David Clemens', 'Judy Estenson', 'Larry Luick', 'Janne Myrdal', 'Shawn Vedaa']\",\n",
       " \"['Billy Wesley', 'Shane Baker', 'Danny Bentley', 'Randy Bridges', 'Josh Calloway', 'Jennifer Henson Decker', 'Steven Doan', 'Ryan Dotson', 'Robert Duvall', 'Daniel Fister', 'Chris Freeland', 'Chris Fugate', 'Jim Gooch', 'David Hale', 'Richard Heath', 'John Hodgson', 'Thomas Huff', 'Kevin Jackson', 'DJ Johnson', 'Candy Massaroni', 'Bobby McCool', 'Shawn McPherson', 'Jason Petrie', 'Michael Pollock', 'Marianne Proctor', 'Steve Rawlings', 'William Reed', 'Scott Sharp', 'Tom Smith', 'Nancy Tate', 'Walker Thomas', 'James Tipton', 'Timmy Truett', 'Russell Webber', 'Richard White', 'Wade Williams']\",\n",
       " \"['Billy Wesley']\",\n",
       " \"['Blaise Ingoglia']\",\n",
       " \"['Bob Hall', 'Donna Campbell', 'Charles Perry']\",\n",
       " \"['Bob Hall', 'Donna Campbell']\",\n",
       " \"['Bob Hall']\",\n",
       " \"['Bob Phalen']\",\n",
       " \"['Brad Hudson']\",\n",
       " \"['Brandi Bradley', 'Lisa Frizell', 'Byron Pelton', 'Ryan Armagost', 'Anthony Hartsook', 'Ron Weinberg', 'Ty Winter']\",\n",
       " \"['Brandon Ler']\",\n",
       " \"['Brandon Prichard', 'Andrew Marschall', 'Karen Rohr', 'Dan Ruby', 'Matthew Ruby', 'Vicky Steiner', 'Nathan Toman', 'Jeffery Magrum']\",\n",
       " \"['Brandon Prichard', 'Scott Dyk', 'Matthew Ruby', 'Bill Tveit', 'Lori VanWinkle', 'Keith Boehm', 'Mike Dwyer', 'Bob Paulson', 'Shawn Vedaa']\",\n",
       " \"['Brandon Steele']\",\n",
       " \"['Braxton Mitchell']\",\n",
       " \"['Breanne Davis', 'Keith Brooks', 'Matthew Shepherd', 'Austin Mccollum', 'Brit McKenzie', 'Aaron Pilkington', 'Stephen Meeks', 'Jeff Wardlaw', 'Jon Eubanks', 'Bruce Cozart', 'Richard Womack', 'Charlene Fite', 'Robin Lundstrum', 'Mary Bentley', 'Justin Gonzales', 'Rick Beck', 'Karilyn Brown', 'Marcus Richmond', 'Jack Fortner', 'Frances Cavenaugh', 'John Maddox', 'Sonia Eubanks Barker', 'Johnny Rye', 'Steve Hollowell', 'Danny Watson', 'Roger Lynch', 'Carlton Wing', 'Cindy Crawford', 'Lee Johnson', 'Cameron Cooper', 'Harlan Breaux', 'Brian Evans', 'Richard McGrew', 'David Ray', 'Howard Beaty', 'Rick McClure', 'Jon Milligan', 'Delia Haak', 'John Carr', 'Kendon Underwood', 'Tony Furman', 'Grant Hodges', 'Jeremiah Moore', 'Brandon Achor', 'Rebecca Burkes', 'RJ Hawk', 'Mindy McAlindon', 'Matt Brown', 'Ryan Rose', 'Chad Puryear', 'Zack Gramlich', 'Stetson Painter', 'Matt Duffield', 'Steve Unger', 'Scott Richardson', 'Wade Andrews', 'Bart Hester', 'Missy Irvin', 'Jonathan Dismang', 'Jane English', 'Gary Stubblefield', 'Scott Flippo', 'Blake Johnson', 'David Wallace', 'Ricky Hill', 'Mark Johnson', 'Kim Hammer', 'Dan Sullivan', 'Ben Gilmore', 'Matt McKee', 'Clint Penzo', 'Justin Boyd', 'Jim Petty', 'Joshua Bryant', 'Steve Crowell', 'Matt Stone', 'Tyler Dees', 'John Payton', 'Jim Dotson', 'Alan Clark']\",\n",
       " \"['Brenton Awa']\",\n",
       " \"['Brian Adams', 'Rex Rice', 'Lawrence Grooms', 'Thomas Davis']\",\n",
       " \"['Brian Harrison']\",\n",
       " \"['Brian Mast', 'Dan Bishop', 'Jeff Duncan', 'Paul Gosar', 'Matt Gaetz', 'Ralph Norman', 'Doug Lamborn', 'Randy Weber']\",\n",
       " \"['Brian Seitz']\",\n",
       " \"['Bruce Borders']\",\n",
       " \"['Bryan Hughes', 'Lois Kolkhorst']\",\n",
       " \"['Bryan Slaton']\",\n",
       " \"['Bryce Reeves']\",\n",
       " \"['Cameron Sexton', 'Scott Cepicky', 'Tim Rudd']\",\n",
       " \"['Carden Summers', 'Ben Watson', 'Kay Kirkpatrick', 'John Kennedy', 'Lee Anderson', 'Matt Brass', 'Jason Anavitarte', 'Billy Hickman', 'John Albers', 'Ed Setzler', 'Shawn Still', 'Brandon Beach', 'Russ Goodman', 'Sam Watson', 'Chuck Payne', 'Larry Walker', 'Blake Tillery', 'Brian Strickland', 'Marty Harbin', 'Ricky Williams', 'Clint Dixon', 'Colton Moore']\",\n",
       " \"['Carden Summers', 'Colton Moore', 'Brandon Beach', 'Clint Dixon', 'Randy Robertson', 'John Albers', 'Shawn Still', 'Lee Anderson', 'Matt Brass', 'Chuck Payne', 'Marty Harbin']\",\n",
       " \"['Carl Glimm']\",\n",
       " \"['Cathrynn Brown', 'Jenifer Jones', 'Harlan Vincent', 'Andrea Reeb', 'Rodney Montoya']\",\n",
       " \"['Charles McCall', 'Brad Boles', 'Dean Davis']\",\n",
       " \"['Charles Perry']\",\n",
       " \"['Cherielynn Westrich']\",\n",
       " \"['Chris Karr', 'Al Novstrup', 'Julie Auch', 'Aaron Aylward', 'Fred Deutsch', 'Julie Frye-Mueller', 'Randy Gross', 'Jon Hansen', 'Brent Hoffman', 'Kevin Jensen', 'Phil Jensen', 'Ben Krohmer', 'Karla Lems', 'Elizabeth May', 'Jim Mehlhaff', 'John Mills', 'Scott Moore', 'Tina Mulally', 'Brian Mulder', 'Scott Odenbach', 'Marty Overweg', 'Carl Perry', 'Tom Pischke', 'Tony Randolph', 'Brandei Schaefbauer', 'William Shorma', 'John Sjaarda', 'Bethany Soye']\",\n",
       " \"['Chris McDaniel']\",\n",
       " \"['Chris Pritt', 'Geno Chiarelli', 'Todd Kirby']\",\n",
       " \"['Chris Pritt', 'Geno Chiarelli']\",\n",
       " \"['Chris Sneed']\",\n",
       " \"['Chris Todd', 'Bryan Richey', 'Jake McCalmon', 'Scott Cepicky', 'Jerome Moon', 'Jody Barrett', 'Gino Bulso', 'Kevin Raper', 'Dan Howell', 'David Hawk', 'Greg Vital', 'Debra Moody', 'Elaine Davis', 'Paul Sherrell', 'Ron Gant', 'Monty Fritts', 'Susan Lynn', 'Mike Sparks', 'Ed Butler', 'William Slater', 'Kelly Keisling', 'Tom Leatherwood', 'Jay Reedy', 'Kirk Haston', 'Todd Warner', 'Scotty Campbell', 'Jason Zachary', 'Kip Capley', 'Ryan Williams', 'John Ragan', 'Rusty Grills', 'Mark Cochran', 'Dennis Powers', 'Rick Eldridge', 'Charlie Baum']\",\n",
       " \"['Chris Todd']\",\n",
       " \"['Cindy Hyde-Smith', 'Marco Rubio', 'Ted Cruz', 'Cynthia Lummis', 'Mike Lee', 'Katie Boyd Britt']\",\n",
       " \"['Clint Dixon', 'Steve Gooch', 'Marty Harbin', 'Randy Robertson', 'Shawn Still', 'John Albers', 'Matt Brass', 'Greg Dolezal', 'Shelly Echols', 'Colton Moore', 'Lee Anderson', 'Max Burns', 'Ed Setzler', 'Sam Watson', 'Carden Summers']\",\n",
       " \"['Cody Rogers', 'Casey Murdock', 'George Burns', 'Warren Hamilton']\",\n",
       " \"['Cole Hefner']\",\n",
       " \"['Colin Jack', 'Evan Vickers']\",\n",
       " \"['Collin Duel']\",\n",
       " \"['Cyndi Buchheit-Courtway']\",\n",
       " \"['Cyndy Jacobsen', 'Mike Volz', 'Joel McEntire', 'Jim Walsh', 'Jenny Graham']\",\n",
       " \"['Dale DeVon', 'Chris Jeter', 'Robert Heaton', 'Lindsay Patterson', 'Aaron Freeman', 'Stacey Donato', 'Jeff Raatz']\",\n",
       " \"['Dan Eubanks']\",\n",
       " \"['Dan Sullivan', 'Rick Beck']\",\n",
       " \"['Dana Criswell']\",\n",
       " \"['Daniel McCay', 'Brady Brammer']\",\n",
       " \"['Danny Verdin']\",\n",
       " \"['Danny Williams']\",\n",
       " \"['Darren Thorne', 'Charles Horst', 'Todd Longanacre', 'Anita Hall', 'Henry Dillon', 'Mike Devault', 'Gary Howell', 'Larry Kump']\",\n",
       " \"['Dave LaRock', 'Tara Durant', 'John McGuire', 'Marie March', 'Chris Runion', 'Wendell Walker', 'Bill Wiley', 'Wren Williams']\",\n",
       " \"['Dave Murman']\",\n",
       " \"['Dave Testerman']\",\n",
       " \"['David Alcos']\",\n",
       " \"['David Bullard', 'George Burns', 'Warren Hamilton', 'Shane Jett', 'Blake Stephens', 'Tom Woods']\",\n",
       " \"['David Bullard', 'Micheal Bergstrom']\",\n",
       " \"['David Clemens', 'Shawn Vedaa', 'Kent Weston', 'Karen Anderson', 'Austen Schauer', 'Bill Tveit']\",\n",
       " \"['David Friess']\",\n",
       " \"['David Smith', 'Boomer Wright', 'Emily McIntire', 'Ed  Diehl', 'Christine Goodwin']\",\n",
       " \"['David Smith', 'Lynn Findley', 'Dennis Linthicum', 'Art Robinson', 'Kim Thatcher', 'Shelly Boshart Davis', 'Jami Cate', 'Christine Goodwin', 'James Hieb', 'Bobby Levy', 'Rick Lewis', 'Kevin Mannix', 'Lily Morgan', 'Virgle Osborne', 'Werner Reschke', 'Anna Scharf', 'Boomer Wright']\",\n",
       " \"['David Smith']\",\n",
       " \"['Dean Fisher']\",\n",
       " \"['Debbie Lesko', 'Diana Harshbarger', 'Mary Miller', 'Kevin Hern', 'Claudia Tenney', 'Robert Aderholt', 'Andy Biggs', 'Andrew Clyde', 'Randy Weber', 'Michael Guest', 'George Santos', 'Andrew Ogles', 'Virginia Foxx', 'Ralph Norman', 'Burgess Owens', 'Ronny Jackson', 'Harriet Hageman', 'Jeff Duncan', 'Jake Ellzey', 'Jim Banks', 'Earl Carter', 'Greg Steube', 'Ben Cline', 'Doug LaMalfa']\",\n",
       " \"['Denny Hoskins']\",\n",
       " \"['Diamond Garcia']\",\n",
       " \"['Donna Campbell', 'Lois Kolkhorst']\",\n",
       " \"['Doug Gilliam', 'James Burns', 'Jordan Pace']\",\n",
       " \"['Doug Gilliam', 'James Burns']\",\n",
       " \"['Douglas Dubitsky']\",\n",
       " \"['Dwight Loftis', 'Brian Adams', 'Lawrence Grooms', 'Sean Bennett', 'Rex Rice', 'Joshua Kimbrell', 'Thomas Davis']\",\n",
       " \"['Ed  Diehl', 'James Hieb', 'Cyrus Javadi', 'Christine Goodwin']\",\n",
       " \"['Ed Lewis']\",\n",
       " \"['Education Committee']\",\n",
       " \"['Education']\",\n",
       " \"['Edward Durr']\",\n",
       " \"['Elaine Morgan']\",\n",
       " \"['Eric Lucero', 'Jeff Howe', 'Glenn Gruenhagen']\",\n",
       " \"['Eric Tarr', 'Rollan Roberts', 'Robert Karnes', 'Mark Maynard']\",\n",
       " \"['Erik Peterson']\",\n",
       " \"['Federal and State Affairs']\",\n",
       " \"['Fred Shanks']\",\n",
       " \"['Gary Byrne', 'Blake Doriot']\",\n",
       " \"['Gary Stubblefield', 'Mary Bentley', 'Sonia Eubanks Barker', 'Cameron Cooper', 'Cindy Crawford', 'Delia Haak', 'DeAnna Hodges', 'Jack Ladyman', 'Wayne Long', 'Robin Lundstrum', 'Mindy McAlindon', 'Scott Richardson', 'Ryan Rose', 'Johnny Rye', 'Dwight Tosh', 'Joshua Bryant', 'Blake Johnson', 'Kim Hammer', 'Terry Rice', 'Scott Flippo', 'Clint Penzo', 'Ben Gilmore', 'Matt Stone', 'Matt McKee', 'Alan Clark', 'Bart Hester', 'Tyler Dees', 'Dan Sullivan', 'Ronald Caldwell', 'Ricky Hill']\",\n",
       " \"['Gary Stubblefield', 'Mary Bentley']\",\n",
       " \"['Gene Newman', 'Philip Gunn', 'Dan Eubanks', 'Mark Tullos', 'Chris Brown', 'Brady Williamson', 'Steve Hopkins', 'William Arnold', 'Bill Kinkade', 'Jill Ford', 'Nick Bain', 'Randall Patterson']\",\n",
       " \"['Geno Chiarelli', 'Caleb Hanna', 'Chris Pritt', 'Jonathan Pinson']\",\n",
       " \"['Geoff Foster', 'Chris Phillips', 'Dean Jeffries', 'Tom Fast', 'Adam Burkhammer', 'Riley Keaton', 'Eric Brooks', 'Carl Martin', 'Kathie Crouse', 'Rick Hillenbrand', 'Brandon Steele']\",\n",
       " \"['Geoff Foster', 'Geno Chiarelli', 'Charles Horst', 'Wayne Clark', 'Mike Devault', 'Elias Coop-Gonzalez', 'Eric Brooks', 'Todd Kirby', 'Jordan Maynor', 'David Adkins', 'Guy Ward']\",\n",
       " \"['George Cleveland', 'Keith Kidwell', 'Bill Ward', 'Steve Tyson', 'James Adams', 'Celeste Cairns', 'Mike Clampitt', 'Kevin Crutchfield', 'Ken Fontenot', 'Jake Johnson', 'Donnie Loftis', 'Jeffrey McNeely', 'Ben Moss', 'Joe Pike', 'Carson Smith', 'Frank Sossamon', 'David Willis']\",\n",
       " \"['George Wise', 'Gary Boswell', 'Danny Carroll', 'Shelley Frommeyer', 'Rick Girdler', 'Stephen Meredith', 'Robert Mills', 'John Schickel', 'Brandon Storm', 'Lindsey Tichenor', 'Phillip Wheeler', 'Gex Williams', 'Mike Wilson']\",\n",
       " \"['Gino Bulso', 'William Lamberth', 'Andrew Farmer', 'Kip Capley', 'Rusty Grills', 'Jody Barrett', 'Sabi Kumar']\",\n",
       " \"['Gino Bulso']\",\n",
       " \"['Glenn Gruenhagen', 'Steve Green', 'Eric Lucero']\",\n",
       " \"['Greg Steube', 'Claudia Tenney', 'Virginia Foxx', 'Robert Wittman', 'Daniel Webster', 'Troy Balderson', 'Ken Buck', 'Ann Wagner', 'Earl Carter', 'Matt Gaetz', 'Mariannette Miller-Meeks', 'Jason Smith', 'Jake Ellzey', 'Morgan Griffith', 'Doug LaMalfa', 'Jerry Carl', 'Tom Tiffany', 'Nancy Mace', 'Mike Bost', 'Tim Walberg', 'Mary Miller', 'Brad Wenstrup', 'August Pfluger', 'Warren Davidson', 'Randy Weber', 'Andy Biggs', 'Robert Good', 'Lauren Boebert', 'Randy Feenstra', 'Jim Banks', 'Neal Dunn', 'Jack Bergman', 'Michael Guest', 'Jenniffer Gonzalez-Colon', 'Scott DesJarlais', 'Diana Harshbarger', 'George Santos', 'Lori Chavez-DeRemer', 'Alexander Mooney', 'Rudolph Yakym III', 'Anna Luna', 'Richard Hudson', 'Nick LaLota', 'William Timmons']\",\n",
       " \"['Gregory McGuckin', 'John Catalano', 'Gerard Scharfenberger', 'Erik Peterson', 'Robert Auth', 'Bethanne McCarthy Patrick']\",\n",
       " \"['Hardy Billington']\",\n",
       " \"['Henry Dillon', 'Mark Ross', 'William Ridenour', 'Todd Longanacre']\",\n",
       " \"['Henry Stone', 'Steven Holt', 'Skyler Wheeler', 'Taylor Collins', 'Tom Moore', 'Thomas Jeneary', 'Mike Vondran', 'Dean Fisher', 'Joshua Meggers', 'Derek Wulf', 'Jeff Shipley', 'Steven Bradley', 'Cindy Golding', 'Martin Graber', 'Craig Johnson', 'Dave Deyoe', 'Norlin Mommsen', 'Brooke Boden', 'Bobby Kaufmann', 'Joel Fry', 'Eddie Andrews', 'Charley Thomson', 'Robert Henderson', 'Devon Wood', 'Heather Hora', 'Anne Osmundson', 'Matt Windschitl', 'Pat Grassley', 'Jacob Bossman', 'Thomas Gerhold']\",\n",
       " \"['Holly Thompson Rehder', 'Mike Moon', 'Jill Carter', 'Ben Brown', 'Rick Brattin', 'Denny Hoskins']\",\n",
       " \"['Jack Johnson', 'Ken Yager', 'Ferrell Haile', 'Janince Bowling', 'Dawn White', 'Rusty Crowe', 'Paul Bailey', 'Joseph Hensley', 'Edward Jackson', 'Shane Reeves', 'John Stevens', 'Paul Rose', 'Brent Taylor']\",\n",
       " \"['Jack Johnson', 'Rusty Crowe', 'Janince Bowling', 'Ferrell Haile', 'Joseph Hensley', 'Ken Yager', 'Paul Bailey', 'Edward Jackson', 'John Stevens', 'Frank Niceley', 'Shane Reeves', 'Brent Taylor', 'Mark Pody', 'Paul Rose', 'Bo Watson', 'Kerry Roberts']\",\n",
       " \"['Jake Hoffman', 'Sonny Borrelli', 'Anthony Kern', 'Justine Wadsack', 'Justin Heap', 'Rachel Jones', 'Cory McGarr']\",\n",
       " \"['Jake Teshka', 'Joanna King', 'Martin Carbaugh', 'Timothy Wesco']\",\n",
       " \"['James Burns', 'John Mccravy', 'Matthew Leber', 'William Chumley', 'Bill Taylor', 'Jordan Pace', 'Jay Kilmartin', 'Patrick Haddon', 'Thomas Beach', 'Rob Harris', 'Tom Hartnett', 'Roy Magnuson', 'Roger Nutt', 'Stewart Jones', 'Marvin Smith', 'Sylleste Davis', 'Brandon Cox', 'Melissa Oremus', 'Christopher Murphy', 'Gil Gatch', 'Robby Robbins', 'Gary Brewer', 'Doug Gilliam', 'Joseph Bustos', 'Kathy Landing', 'David Vaughan']\",\n",
       " \"['James Kasper', 'Kim Koppelman', 'Brandon Prichard', 'Karen Rohr', 'Dan Ruby', 'Matthew Ruby', 'Vicky Steiner', 'Lori VanWinkle', 'Keith Boehm', 'David Clemens', 'Janne Myrdal']\",\n",
       " \"['Jamie Burger']\",\n",
       " \"['Janince Bowling']\",\n",
       " \"['Jared Patterson']\",\n",
       " \"['Jeff Raatz']\",\n",
       " \"['Jeff Shipley']\",\n",
       " \"['Jeff Tate', 'Angela Burks Hill']\",\n",
       " \"['Jeff Taylor', 'Dennis Guth', 'Mark Lofgren', 'Julian Garrett', 'Cherielynn Westrich', 'Dave Rowley', 'Brad Zaun', 'Sandy Salmon', 'Ken Rozenboom', 'Jesse Green', 'Lynn Evans', 'Rocky De Witt', 'Kevin Alons', 'Annette Sweeney', 'Jeff Reichman', 'Chris Cournoyer']\",\n",
       " \"['Jeff Van Drew']\",\n",
       " \"['Jennifer Henson Decker', 'James Tipton', 'Shane Baker', 'Steve Bratcher', 'Randy Bridges', 'Emily Callaway', 'Josh Calloway', 'Ryan Dotson', 'Daniel Elliott', 'Daniel Fister', 'Patrick Flannery', 'Deanna Frazier Gordon', 'Chris Fugate', 'Jim Gooch', 'David Hale', 'Richard Heath', 'John Hodgson', 'Mary Imes', 'DJ Johnson', 'Kim King', 'Matt Lockett', 'Candy Massaroni', 'Bobby McCool', 'Shawn McPherson', 'Amy Neighbors', 'Jason Petrie', 'Marianne Proctor', 'Steve Rawlings', 'Rebecca Raymer', 'William Reed', 'Steven Rudy', 'Scott Sharp', 'Nancy Tate', 'Walker Thomas', 'Timmy Truett', 'Ken Upchurch', 'Russell Webber', 'Billy Wesley', 'Wade Williams']\",\n",
       " \"['Jessica Garvin', 'Micheal Bergstrom', 'Julie Daniels', 'Warren Hamilton', 'Cody Rogers', 'Ally Seifried']\",\n",
       " \"['Jill Carter']\",\n",
       " \"['Jill Ford']\",\n",
       " '[\\'Jim Kofalt\\', \\'Alicia Lekas\\', \\'Judy Aron\\', \"Katherine Prudhomme-O\\'Brien\", \\'Shane Sirois\\', \\'Mark Pearson\\', \\'Jeanine Notter\\', \\'Keith Ammon\\', \\'Sheila Seidel\\', \\'Debra DeSimone\\', \\'Kevin Avard\\']',\n",
       " '[\\'Jim Olsen\\', \"Terry O\\'Donnell\"]',\n",
       " \"['Jim Walsh']\",\n",
       " \"['Joe Hoxha']\",\n",
       " \"['John Block', 'Rodney Montoya', 'Harlan Vincent', 'Alan Martinez', 'James Townsend']\",\n",
       " \"['John Block', 'Rodney Montoya', 'Mark Duncan']\",\n",
       " \"['John Cosgrove']\",\n",
       " \"['John Fuller']\",\n",
       " \"['John Johnson', 'Michael Petersen']\",\n",
       " \"['John Kavanagh']\",\n",
       " \"['John Lamar']\",\n",
       " \"['John Payton', 'Cindy Crawford', 'Ben Gilmore', 'Missy Irvin', 'Blake Johnson', 'Mark Johnson', 'Matt Stone', 'David Wallace']\",\n",
       " \"['John Ragan', 'Monty Fritts']\",\n",
       " \"['Joseph Hensley']\",\n",
       " \"['Josh Calloway', 'Candy Massaroni', 'Shane Baker', 'Emily Callaway', 'Jennifer Henson Decker', 'Steven Doan', 'Ryan Dotson', 'Chris Fugate', 'David Hale', 'Mark Hart', 'John Hodgson', 'Thomas Huff', 'Matt Lockett', 'Marianne Proctor', 'Steve Rawlings', 'Nancy Tate', 'Walker Thomas', 'Billy Wesley', 'Susan Tyler Witten']\",\n",
       " \"['Josh Hawley']\",\n",
       " \"['Joshua Kimbrell', 'Brian Adams']\",\n",
       " \"['Judiciary, Rules and Administration Committee', 'Ben Adams', 'Brent Crane', 'Daniel Foreman', 'Kevin Andrus', 'Glenneda Zuiderveld', 'Jordan Redman', 'Tammy Nichols', 'Brandon Mitchell', 'Jeff Cornilles', 'Kenny Wroten', 'Lance Clow', 'Jaron Crane', 'Julianne Young', 'Joe Alfieri', 'Vito Barbieri', 'Heather Scott', 'Jacyn Gallagher', 'Mike Kingsley', 'Dale Hawkins', 'Charlie Shepherd', 'Elaine Price']\",\n",
       " \"['Julie Daniels', 'Nathan Dahm', 'Micheal Bergstrom', 'David Bullard', 'George Burns', 'Warren Hamilton', 'Shane Jett', 'Cody Rogers', 'Blake Stephens', 'Tom Woods', 'Rob Standridge', 'David Hardin']\",\n",
       " \"['Julie Daniels']\",\n",
       " \"['Julie McGuire']\",\n",
       " \"['Justin Pearson']\",\n",
       " \"['Justin Sparks']\",\n",
       " \"['Justine Wadsack', 'Rachel Jones', 'Cory McGarr']\",\n",
       " \"['Karen Greenhalgh', 'John McGuire', 'Jason Ballard', 'Emily Brewer', 'Kathy Byron', 'Ronnie Campbell', 'Tara Durant', 'James Edmunds', 'Hyland Fowler', 'Nicholas Freitas', 'Chris Head', 'Dave LaRock', 'Marie March', 'Chris Runion', 'Phillip Scott', 'Anne Ferrell Tata', 'Wendell Walker', 'Bill Wiley', 'Wren Williams', 'Thomas Wright']\",\n",
       " \"['Kathleen Kauth']\",\n",
       " \"['Kathy Szeliga', 'Christopher Adams', 'Steven Arentz', 'Lauren Arikan', 'Terry Baker', 'Christopher Bouchat', 'Jason Buckel', 'Brian Chisholm', 'Barrie Ciliberti', 'Mark Fisher', 'Jeff Ghrist', 'Robin Grammer', 'Michael Griffith', 'Wayne Hartman', 'Jim Hinebaugh', 'Kevin Hornberger', 'Jay Jacobs', 'Nicholaus Kipke', 'Bob Long', 'Nino Mangione', 'Susan McComas', 'Ric Metzgar', 'April Fleming Miller', 'Matt Morgan', 'Todd Morgan', 'Ryan Nawrocki', 'Charles Otto', 'Teresa Reilly', 'April Rose', 'Stuart Schmidt', 'Chris Tomlinson', 'William Valentine', 'William Wivell']\",\n",
       " \"['Kerry Roberts']\",\n",
       " \"['Kevin West', 'Jim Olsen', 'Tom Gann', 'Sherrie Conley', 'Denise Hader', 'Cody Maynard', 'Shane Jett']\",\n",
       " \"['Kevin West', 'Kevin McDugle', 'Tom Gann', 'Shane Jett']\",\n",
       " \"['Kim Koppelman', 'Claire Cory', 'James Kasper', 'Scott Louser', 'Lisa Meier', 'Anna Novak', 'Lori VanWinkle', 'Keith Boehm', 'Judy Estenson', 'Diane Larson', 'Janne Myrdal', 'Bob Paulson']\",\n",
       " \"['Kim Koppelman', 'Scott Louser', 'Lisa Meier', 'Anna Novak', 'SuAnn Olson', 'Vicky Steiner', 'Lori VanWinkle', 'Judy Estenson', 'Janne Myrdal', 'Bob Paulson', 'Mike Wobbema']\",\n",
       " \"['Kimberly Wallan', 'Tracy Cramer', 'Ed  Diehl', 'Christine Goodwin']\",\n",
       " \"['Lane Allred', 'Abby Angelos', 'Ryan Berger', 'Barry Crago', 'Jeremy Haroldson', 'Steve Harshman', 'William Henderson', 'Mark Jennings', 'Martha Lawley', 'Pepper Ottman', 'Rachel Rodriguez-Williams', 'Albert Sommers', 'Clarence Styvar', 'Tamara Trujillo', 'Dennis Biteman', 'Dan Dockstader', 'Tim French', 'Lynn Hutchings', 'Stacy Jones', 'John Kolb', 'Troy McKeown', 'Tim Salazar', 'Wendy Davis Schuler', 'Cheri Steinmetz']\",\n",
       " \"['Lane Allred', 'Dan Dockstader']\",\n",
       " \"['Larry Luick', 'Scott Meyer', 'Claire Cory', 'Karen Karls']\",\n",
       " \"['Lindsey Tichenor', 'Gex Williams', 'Gary Boswell', 'Adrienne Southworth', 'Phillip Wheeler', 'Mike Wilson']\",\n",
       " \"['Lindsey Tichenor', 'Shelley Frommeyer', 'Gary Boswell', 'Rick Girdler', 'Robert Mills', 'Adrienne Southworth', 'Johnnie Turner', 'Gex Williams']\",\n",
       " \"['Lorissa Sweet', 'Zach Payne']\",\n",
       " \"['Marco Rubio', 'Steve Daines']\",\n",
       " \"['Marie March']\",\n",
       " \"['Mark Cochran', 'Jeremy Faison', 'William Lamberth']\",\n",
       " \"['Mark Higley', 'Anne Donahue', 'Arthur Peterson', 'Terri Williams', 'Charles Wilson']\",\n",
       " \"['Mark Jennings', 'Pepper Ottman', 'Ken Pendergraft', 'Sarah Penn', 'Scott Smith']\",\n",
       " \"['Mark Lepak']\",\n",
       " \"['Mark Maynard', 'Jay Taylor']\",\n",
       " \"['Mark Maynard', 'Patricia Rucker']\",\n",
       " \"['Mark Peake', 'Bryce Reeves']\",\n",
       " \"['Mark Pody']\",\n",
       " \"['Marvin Smith', 'James Burns', 'Sylleste Davis']\",\n",
       " \"['Mary Bentley', 'Dan Sullivan', 'Karilyn Brown', 'Cindy Crawford', 'DeAnna Hodges', 'Jack Ladyman', 'Wayne Long', 'Robin Lundstrum', 'Mindy McAlindon', 'Josh Miller', 'Ryan Rose', 'Dwight Tosh', 'Sonia Eubanks Barker']\",\n",
       " \"['Mary Coleman']\",\n",
       " \"['Matt Schaefer']\",\n",
       " \"['Matthew Shaheen']\",\n",
       " \"['Mayes Middleton', 'Charles Creighton', 'Phil King', 'Lois Kolkhorst', 'Charles Perry']\",\n",
       " \"['Mazzie Boyd']\",\n",
       " \"['Melanie Sojourner', 'Kathy Chism', 'Chris McDaniel']\",\n",
       " \"['Michael Gambrell']\",\n",
       " \"['Michael Kennedy', 'Katy Hall']\",\n",
       " \"['Michael Petersen', 'Curtis Bramble']\",\n",
       " \"['Michael Testa', 'James Holzapfel', 'Edward Durr', 'Steven Oroho']\",\n",
       " \"['Michael Testa', 'Steven Oroho', 'Michael Doherty', 'Joseph Pennacchio', 'Edward Durr']\",\n",
       " \"['Michele Carringer', 'Elaine Davis', 'Justin Lafferty', 'Rusty Grills', 'Jody Barrett', 'Rick Eldridge', 'Chris Hurt', 'Kip Capley', 'Mike Sparks', 'Jay Reedy', 'Lowell Russell', 'Clark Boyd', 'Tim Rudd']\",\n",
       " \"['Michelle Davis', 'Dale DeVon', 'Jake Teshka', 'Christopher Judy']\",\n",
       " \"['Michelle Davis', 'Jake Teshka', 'Chris Jeter', 'Robert Heaton', 'Stacey Donato', 'Jeff Raatz', 'Gary Byrne']\",\n",
       " \"['Mike Azinger', 'Mark Maynard', 'Randy Smith', 'Jay Taylor', 'Robert Karnes', 'Mike Stuart']\",\n",
       " \"['Mike Azinger', 'Mark Maynard', 'Vince Deeds']\",\n",
       " \"['Mike Azinger']\",\n",
       " \"['Mike Cierpiot']\",\n",
       " \"['Mike Lefor', 'Vicky Steiner']\",\n",
       " \"['Mike Moon', 'William Eigel', 'Rick Brattin']\",\n",
       " \"['Mike Moon']\",\n",
       " \"['Mike Thompson', 'Mark Steffen']\",\n",
       " \"['Monty Fritts', 'Kip Capley', 'Gino Bulso', 'Chris Todd']\",\n",
       " \"['Nate Schatzline']\",\n",
       " \"['Nathan Dahm', 'George Burns']\",\n",
       " \"['Paul Rose', 'Ferrell Haile']\",\n",
       " \"['Peggy Mayfield', 'Joanna King', 'Stacey Donato']\",\n",
       " \"['Phil Jensen', 'Julie Frye-Mueller', 'Carl Perry', 'Tom Pischke']\",\n",
       " \"['Philip Gunn']\",\n",
       " \"['Public Health and Welfare']\",\n",
       " \"['Rachel Jones', 'Lupe Diaz', 'Liz Harris', 'Cory McGarr', 'Justine Wadsack']\",\n",
       " \"['Raye Felder', 'Adam Morgan', 'Matthew Leber', 'Roy Magnuson', 'Patrick Haddon', 'Rob Harris', 'Bill Taylor', 'Stewart Jones', 'Kathy Landing', 'John Mccravy', 'Phillip Lowe', 'Wallace Jordan', 'Jeffrey Bradley', 'William Herbkersman', 'Bruce Bannister', 'Weston Newton', 'Jason Elliott', 'Bobby Cox', 'Mark Willis', 'William Hewitt', 'John West', 'Steven Long', 'James Burns', 'Alan Morgan']\",\n",
       " \"['Rex Shipp', 'Wayne Harper']\",\n",
       " \"['Rick Brattin']\",\n",
       " \"['Rob Standridge']\",\n",
       " \"['Robert Auth', 'Erik Peterson', 'Gerard Scharfenberger', 'John Catalano', 'Gregory McGuckin', 'John DiMaio', 'Bethanne McCarthy Patrick', 'Christopher DePhillips']\",\n",
       " \"['Robert Sampson']\",\n",
       " \"['Rod Bockenfeld']\",\n",
       " \"['Rodney Montoya', 'John Block', 'Alan Martinez', 'Harlan Vincent', 'Mark Duncan']\",\n",
       " '[\\'Roy Magnuson\\', \\'Robert May\\', \\'Adam Morgan\\', \\'James Burns\\', \\'William Chumley\\', \\'Bobby Cox\\', \\'April Cromer\\', \\'Patrick Haddon\\', \\'Stewart Jones\\', \\'Jay Kilmartin\\', \\'Steven Long\\', \\'Donald McCabe\\', \\'Alan Morgan\\', \"David O\\'Neal\", \\'Melissa Oremus\\', \\'Jordan Pace\\', \\'Ashley Trantham\\', \\'Joe White\\', \\'Marvin Smith\\', \\'Mark Willis\\', \\'John Mccravy\\', \\'Travis Moore\\', \\'Roger Nutt\\', \\'Anne Thayer\\', \\'Richard Yow\\', \\'Doug Gilliam\\', \\'Thomas Pope\\', \\'Matthew Leber\\', \\'Brian Lawson\\', \\'Rob Harris\\', \\'Thomas Beach\\', \\'Randy Ligon\\', \\'Brandon Guffey\\', \\'William Hixon\\', \\'Brandon Newton\\', \\'Cally Forrest\\']',\n",
       " \"['Ryan Lauer', 'John Prescott', 'David Abbott']\",\n",
       " \"['Ryan Lauer', 'Michelle Davis']\",\n",
       " \"['Sandy Salmon', 'Lynn Evans', 'Kevin Alons', 'Jesse Green', 'Cherielynn Westrich', 'Jeff Taylor', 'Dennis Guth', 'Rocky De Witt', 'Dave Rowley']\",\n",
       " \"['Sandy Salmon']\",\n",
       " \"['Savannah Maddox', 'Felicia Rabourn', 'Ryan Dotson']\",\n",
       " \"['Scott Dyk', 'Cole Christensen', 'Kelby Timmons', 'Lori VanWinkle', 'Todd Beard', 'Kent Weston']\",\n",
       " \"['Scott Dyk', 'Jeff Hoverson', 'Brandon Prichard', 'Nico Rios', 'Kelby Timmons', 'Todd Beard']\",\n",
       " \"['Scott Heiner', 'Ben Hornok', 'John Winter', 'Anthony Bouchard', 'Tim French', 'Lynn Hutchings', 'Robert Ide', 'Dan Laursen', 'Troy McKeown']\",\n",
       " \"['Scott Odenbach', 'Tom Pischke', 'Julie Auch', 'Aaron Aylward', 'Arch Beal', 'Fred Deutsch', 'Julie Frye-Mueller', 'Randy Gross', 'Jon Hansen', 'Brent Hoffman', 'Kevin Jensen', 'Phil Jensen', 'Chris Karr', 'Ben Krohmer', 'Karla Lems', 'Elizabeth May', 'Jim Mehlhaff', 'John Mills', 'Scott Moore', 'Tina Mulally', 'Marty Overweg', 'Carl Perry', 'Tony Randolph', 'John Sjaarda', 'Bethany Soye', 'Jim Stalzer']\",\n",
       " \"['Sean Kean', 'Christopher DePhillips', 'Jay Webber', 'Edward Thomson']\",\n",
       " \"['Shane Baker', 'Jennifer Henson Decker', 'Danny Bentley', 'Steve Bratcher', 'Randy Bridges', 'Emily Callaway', 'Josh Calloway', 'Steven Doan', 'Myron Dossett', 'Ryan Dotson', 'Daniel Fister', 'Patrick Flannery', 'Deanna Frazier Gordon', 'Chris Freeland', 'Chris Fugate', 'Jim Gooch', 'David Hale', 'Mark Hart', 'Richard Heath', 'John Hodgson', 'Thomas Huff', 'Mary Imes', 'DJ Johnson', 'Jacob Justice', 'Matt Lockett', 'Savannah Maddox', 'Candy Massaroni', 'Bobby McCool', 'Shawn McPherson', 'Amy Neighbors', 'Jason Petrie', 'Michael Pollock', 'Marianne Proctor', 'Felicia Rabourn', 'Steve Rawlings', 'Rebecca Raymer', 'William Reed', 'Scott Sharp', 'Tom Smith', 'Nancy Tate', 'Walker Thomas', 'James Tipton', 'Timmy Truett', 'Russell Webber', 'Billy Wesley', 'Richard White', 'Wade Williams', 'Susan Tyler Witten']\",\n",
       " \"['Shane Jett']\",\n",
       " \"['Sharon Carson', 'Kevin Avard', 'William Gannon', 'James Gray', 'Regina Birdsell', 'Jeb Bradley', 'Ruth Ward', 'Daniel Innis', 'Keith Murphy', 'Denise Ricciardi', 'Timothy Lang', 'Daryl Abbas', 'Carrie Gendreau', 'Howard Pearl']\",\n",
       " \"['Shelby Slawson']\",\n",
       " \"['Skyler Wheeler', 'Steven Holt', 'Henry Stone', 'Norlin Mommsen', 'Taylor Collins', 'Dean Fisher', 'Bill Gustoff', 'Thomas Jeneary', 'Mike Vondran', 'Derek Wulf', 'Steven Bradley', 'Joshua Meggers', 'Barb Kniff McCulla', 'Cindy Golding', 'Dave Deyoe', 'Martin Graber', 'Phil Thompson', 'John Wills', 'Stan Gustafson', 'Craig Johnson', 'Brooke Boden', 'Austin Harris', 'Bobby Kaufmann', 'Joel Fry', 'Carter Nordman', 'David Young', 'Robert Henderson', 'Heather Hora', 'Devon Wood', 'Anne Osmundson', 'Matt Windschitl', 'Pat Grassley', 'Thomas Gerhold']\",\n",
       " \"['Stacey Donato']\",\n",
       " \"['Stacey Hobgood-Wilkes', 'Brady Williamson']\",\n",
       " \"['Stacey Hobgood-Wilkes']\",\n",
       " \"['Stan McClain']\",\n",
       " \"['State Affairs Committee']\",\n",
       " \"['Steve Massengill', 'Brady Williamson', 'Jon Lancaster']\",\n",
       " \"['Steve Rawlings', 'Josh Calloway', 'John Hodgson', 'Savannah Maddox', 'Marianne Proctor', 'Nancy Tate', 'Billy Wesley']\",\n",
       " \"['Steve Toth']\",\n",
       " '[\\'Stewart Jones\\', \\'Adam Morgan\\', \\'Doug Gilliam\\', \\'Melissa Oremus\\', \\'Ashley Trantham\\', \\'April Cromer\\', \\'Alan Morgan\\', \\'John Mccravy\\', \\'Bobby Cox\\', \\'Steven Long\\', \\'Roy Magnuson\\', \\'James Burns\\', \\'William Chumley\\', \\'Robert May\\', \\'Donald McCabe\\', \\'Jay Kilmartin\\', \\'Jordan Pace\\', \"David O\\'Neal\", \\'Thomas Beach\\', \\'Joe White\\', \\'Patrick Haddon\\', \\'David Vaughan\\', \\'Anne Thayer\\', \\'Mark Willis\\', \\'Marvin Smith\\', \\'Matthew Leber\\', \\'Daniel Gibson\\', \\'Rob Harris\\', \\'Brian Lawson\\', \\'Christopher Wooten\\', \\'Roger Nutt\\', \\'Sylleste Davis\\', \\'Kathy Landing\\', \\'Heather Crawford\\', \\'Val Guest\\']',\n",
       " \"['SuAnn Olson', 'Dick Anderson', 'Cole Christensen', 'James Kasper', 'Kim Koppelman', 'Brandon Prichard', 'Vicky Steiner', 'Keith Boehm']\",\n",
       " \"['SuAnn Olson', 'Karen Anderson', 'Donna Henderson', 'Lisa Meier', 'Anna Novak', 'Karen Rohr', 'Vicky Steiner', 'Lori VanWinkle']\",\n",
       " \"['SuAnn Olson', 'Larry Bellew', 'Donna Henderson', 'Jeff Hoverson', 'Brandon Prichard', 'Vicky Steiner', 'Lori VanWinkle', 'Bob Paulson']\",\n",
       " \"['Tara Durant', 'Ellen Campbell', 'Robert Orrock', 'Phillip Scott', 'Wren Williams']\",\n",
       " \"['Terry Roy', 'James Spillane', 'Nikki McCarter', 'Kevin Verville', 'Jeanine Notter', 'Sheila Seidel', 'Alicia Lekas', 'David Love']\",\n",
       " '[\\'Thomas Beach\\', \\'Matthew Leber\\', \\'April Cromer\\', \"David O\\'Neal\", \\'Jordan Pace\\', \\'Rob Harris\\', \\'Stewart Jones\\', \\'Roy Magnuson\\']',\n",
       " \"['Thomas Beach', 'Stewart Jones']\",\n",
       " \"['Thomas Beach']\",\n",
       " \"['Thomas McKay']\",\n",
       " \"['Todd Weiler', 'Stephanie Gricius']\",\n",
       " \"['Tom Gann']\",\n",
       " \"['Tom Oliverson', 'Shelby Slawson']\",\n",
       " \"['Tom Oliverson']\",\n",
       " \"['Toni Hasenbeck', 'Sherrie Conley', 'Marilyn Stark', 'Denise Hader', 'Tammy Townley']\",\n",
       " \"['Tony Luetkemeyer']\",\n",
       " \"['Tyler Johnson', 'Ed Charbonneau', 'Gary Byrne', 'Stacey Donato', 'Blake Doriot', 'Mike Gaskill', 'James Buck', 'Aaron Freeman', 'Jeff Raatz', 'Andy Zay', 'Greg Walker', 'Mark Messmer', 'Jack Sandlin', 'Linda Rogers', 'James Tomes', 'Rick Niemeyer', 'Brian Buchanan', 'Scott Alexander', 'John Crane', 'Michael Young', 'Joanna King', 'Michelle Davis']\",\n",
       " \"['Valoree Swanson', 'Stephen Allison', 'Charles Anderson', 'Trent Ashby', 'Ernest Bailes', 'Cecil Bell', 'Keith Bell', 'Greg Bonnen', 'Brad Buckley', 'Ben Bumgarner', 'Dewayne Burns', 'Briscoe Cain', 'Giovanni Capriglione', 'Travis Clardy', 'David Cook', 'Tom Craddick', 'Charles Cunningham', 'Drew Darby', 'Jay Dean', 'Mano DeAyala', 'Mark Dorazio', 'James Frank', 'Frederick Frazier', 'Gary Gates', 'Stan Gerdes', 'Craig Goldman', 'Ryan Guillen', 'Sam Harless', 'Caroline Harris', 'Cody Harris', 'Brian Harrison', 'Richard Hayes', 'Cole Hefner', 'Justin Holland', 'Lacey Hull', 'Carrie Isaac', 'Jacey Jetton', 'Kyle Kacal', 'Ken King', 'Stan Kitzman', 'Stephanie Klick', 'John Kuempel', 'Brooks Landgraf', 'Jeff Leach', 'Terri Leo-Wilson', 'Janie Lopez', 'J.M. Lozano', 'John Lujan', 'William Metcalf', 'Geanie Morrison', 'Andrew Murr', 'Candy Noble', 'Tom Oliverson', 'Angelia Orr', 'Jared Patterson', 'Dennis Paul', 'Four Price', 'John Raney', 'Glenn Rogers', 'Matt Schaefer', 'Nate Schatzline', 'Matthew Shaheen', 'Hugh Shine', 'Bryan Slaton', 'Shelby Slawson', 'Reggie Smith', 'John Smithee', 'David Spiller', 'Lynn Stucky', 'Carl Tepper', 'Kronda Thimesch', 'Ed Thompson', 'Tony Tinderholt', 'Steve Toth', 'Ellen Troxclair', 'Gary Vandeaver', 'Cody Vasut', 'Terry Wilson']\",\n",
       " \"['Walter Hudson']\",\n",
       " \"['Warren Hamilton']\",\n",
       " \"['Wayne Long']\",\n",
       " \"['William Eigel']\",\n",
       " \"['William Lamberth', 'Cameron Sexton', 'Jeremy Faison', 'Johnny Garrett', 'John Ragan', 'Jason Zachary', 'Chris Todd', 'Sabi Kumar', 'Iris Rudder', 'Kelly Keisling', 'Rusty Grills', 'Mark White', 'Tim Rudd', 'Jake McCalmon', 'Paul Sherrell', 'Kip Capley', 'Todd Warner', 'Bryan Richey', 'Kevin Raper', 'Mary Littleton', 'Esther Helton-Haynes', 'Mark Cochran', 'Monty Fritts', 'Tim Hicks', 'Greg Vital', 'Ed Butler', 'Rebecca Alexander', 'Kirk Haston', 'Tandy Darby', 'Jerome Moon', 'John Crawford', 'Clay Doggett', 'Scott Cepicky', 'Brock Martin', 'Bud Hulsey', 'William Slater', 'Michael Hale', 'David Hawk', 'Rush Bricken', 'Ryan Williams', 'Gino Bulso', 'Elaine Davis', 'Michele Carringer', 'Pat Marsh', 'Dan Howell', 'Susan Lynn', 'Mike Sparks', 'Ron Gant', 'Tom Leatherwood', 'Rick Eldridge', 'John Holsclaw', 'Jay Reedy', 'Scotty Campbell', 'Charlie Baum', 'Debra Moody', 'Clark Boyd', 'Dennis Powers']\",\n",
       " \"['committee for review of Administrative Rules']\",\n",
       " '[]']"
      ]
     },
     "execution_count": 16,
     "metadata": {},
     "output_type": "execute_result"
    }
   ],
   "source": [
    "unique_sponsors"
   ]
  },
  {
   "cell_type": "markdown",
   "metadata": {},
   "source": [
    "# Speech to text"
   ]
  },
  {
   "cell_type": "code",
   "execution_count": null,
   "metadata": {
    "scrolled": true
   },
   "outputs": [],
   "source": [
    "pip install pyttsx3"
   ]
  },
  {
   "cell_type": "code",
   "execution_count": null,
   "metadata": {},
   "outputs": [],
   "source": [
    "import pyttsx3\n",
    "engine = pyttsx3.init()"
   ]
  },
  {
   "cell_type": "code",
   "execution_count": null,
   "metadata": {},
   "outputs": [],
   "source": [
    "# default is SUPER FAST and kinda loud\n",
    "engine.say(\"I will speak this text\")\n",
    "engine.runAndWait()"
   ]
  },
  {
   "cell_type": "code",
   "execution_count": null,
   "metadata": {},
   "outputs": [],
   "source": [
    "\"\"\" RATE\"\"\"\n",
    "rate = engine.getProperty('rate')   # getting details of current speaking rate"
   ]
  },
  {
   "cell_type": "code",
   "execution_count": null,
   "metadata": {
    "scrolled": true
   },
   "outputs": [],
   "source": [
    "print (rate)                        #printing current voice rate"
   ]
  },
  {
   "cell_type": "code",
   "execution_count": null,
   "metadata": {},
   "outputs": [],
   "source": [
    "engine.setProperty('rate', 125)     # setting up new voice rate"
   ]
  },
  {
   "cell_type": "code",
   "execution_count": null,
   "metadata": {},
   "outputs": [],
   "source": [
    "volume = engine.getProperty('volume')   #getting to know current volume level (min=0 and max=1)"
   ]
  },
  {
   "cell_type": "code",
   "execution_count": null,
   "metadata": {},
   "outputs": [],
   "source": [
    "print (volume)                          #printing current volume level"
   ]
  },
  {
   "cell_type": "code",
   "execution_count": null,
   "metadata": {},
   "outputs": [],
   "source": [
    "engine.setProperty('volume',0.35)    # setting up volume level  between 0 and 1"
   ]
  },
  {
   "cell_type": "code",
   "execution_count": null,
   "metadata": {},
   "outputs": [],
   "source": [
    "voices = engine.getProperty('voice')       #getting details of current voice"
   ]
  },
  {
   "cell_type": "code",
   "execution_count": null,
   "metadata": {},
   "outputs": [],
   "source": [
    "print(voices)"
   ]
  },
  {
   "cell_type": "code",
   "execution_count": null,
   "metadata": {},
   "outputs": [],
   "source": [
    "engine.say(\"I will speak this text\")\n",
    "engine.runAndWait()"
   ]
  },
  {
   "cell_type": "code",
   "execution_count": null,
   "metadata": {},
   "outputs": [],
   "source": [
    "engine.setProperty('rate', 65)     # setting up new voice rate"
   ]
  },
  {
   "cell_type": "code",
   "execution_count": null,
   "metadata": {},
   "outputs": [],
   "source": [
    "engine.setProperty('voice', voices[0].id)"
   ]
  },
  {
   "cell_type": "code",
   "execution_count": null,
   "metadata": {},
   "outputs": [],
   "source": [
    "engine.say(\"I will speak this text\")\n",
    "engine.runAndWait()"
   ]
  },
  {
   "cell_type": "markdown",
   "metadata": {},
   "source": [
    "# Curse"
   ]
  },
  {
   "cell_type": "code",
   "execution_count": null,
   "metadata": {},
   "outputs": [],
   "source": [
    "# success!\n",
    "for name in unique_sponsors:\n",
    "    curse = f\"A curse upon you, {name}. A curse upon your allies, and upon all who turn their faces from your works and close their eyes to your deeds. May we live untouched by the harm you seek to visit upon us. May we flourish as you wither. May we grow and change as your ways of life are forgotten and ground into dust by our dancing. May future generations look on you with disgust. May your name be scorned until it's forgotten. May you become powerless.\"\n",
    "    engine.say(curse)\n",
    "    engine.runAndWait()"
   ]
  },
  {
   "cell_type": "code",
   "execution_count": null,
   "metadata": {},
   "outputs": [],
   "source": []
  }
 ],
 "metadata": {
  "colab": {
   "provenance": []
  },
  "kernelspec": {
   "display_name": "Python 3 (ipykernel)",
   "language": "python",
   "name": "python3"
  },
  "language_info": {
   "codemirror_mode": {
    "name": "ipython",
    "version": 3
   },
   "file_extension": ".py",
   "mimetype": "text/x-python",
   "name": "python",
   "nbconvert_exporter": "python",
   "pygments_lexer": "ipython3",
   "version": "3.9.13"
  },
  "toc": {
   "base_numbering": 1,
   "nav_menu": {},
   "number_sections": true,
   "sideBar": true,
   "skip_h1_title": false,
   "title_cell": "Table of Contents",
   "title_sidebar": "Contents",
   "toc_cell": false,
   "toc_position": {},
   "toc_section_display": true,
   "toc_window_display": false
  }
 },
 "nbformat": 4,
 "nbformat_minor": 1
}
