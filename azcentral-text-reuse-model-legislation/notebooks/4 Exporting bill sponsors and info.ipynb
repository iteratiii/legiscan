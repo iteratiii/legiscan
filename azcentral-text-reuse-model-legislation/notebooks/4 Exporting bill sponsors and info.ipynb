{
 "cells": [
  {
   "cell_type": "markdown",
   "id": "d0ebb506",
   "metadata": {},
   "source": [
    "# Get text from the last pickle to convert"
   ]
  },
  {
   "cell_type": "code",
   "execution_count": 2,
   "id": "6c57b9a4",
   "metadata": {},
   "outputs": [],
   "source": [
    "import pandas as pd"
   ]
  },
  {
   "cell_type": "code",
   "execution_count": 37,
   "id": "ff684be0",
   "metadata": {},
   "outputs": [],
   "source": [
    "import time"
   ]
  },
  {
   "cell_type": "code",
   "execution_count": 38,
   "id": "513587be",
   "metadata": {},
   "outputs": [],
   "source": [
    "# My pickling function.\n",
    "def datePickle(df):\n",
    "    timestr = time.strftime(\"%Y%m%d-%H%M%S\")\n",
    "    df.to_pickle(f'{timestr}-df.pickle')\n",
    "    print(\"Pickled\")\n",
    "    \n",
    "# To summon pickle, use:\n",
    "# df = pd.read_pickle('my_df.pickle')"
   ]
  },
  {
   "cell_type": "code",
   "execution_count": 6,
   "id": "8374b378",
   "metadata": {
    "scrolled": true
   },
   "outputs": [
    {
     "data": {
      "text/html": [
       "<div>\n",
       "<style scoped>\n",
       "    .dataframe tbody tr th:only-of-type {\n",
       "        vertical-align: middle;\n",
       "    }\n",
       "\n",
       "    .dataframe tbody tr th {\n",
       "        vertical-align: top;\n",
       "    }\n",
       "\n",
       "    .dataframe thead th {\n",
       "        text-align: right;\n",
       "    }\n",
       "</style>\n",
       "<table border=\"1\" class=\"dataframe\">\n",
       "  <thead>\n",
       "    <tr style=\"text-align: right;\">\n",
       "      <th></th>\n",
       "      <th>State</th>\n",
       "      <th>Abbreviation</th>\n",
       "      <th>Number</th>\n",
       "      <th>Summary</th>\n",
       "      <th>Bill Type</th>\n",
       "      <th>Date</th>\n",
       "      <th>Status</th>\n",
       "      <th>Erin Reed's State Risk</th>\n",
       "      <th>URL</th>\n",
       "      <th>Sponsors</th>\n",
       "      <th>Bill Title</th>\n",
       "      <th>Bill Intent</th>\n",
       "    </tr>\n",
       "  </thead>\n",
       "  <tbody>\n",
       "    <tr>\n",
       "      <th>1</th>\n",
       "      <td>Alaska</td>\n",
       "      <td>AK</td>\n",
       "      <td>HB27</td>\n",
       "      <td>Designate Sex For School-sponsored Sports</td>\n",
       "      <td>Trans Sports Ban</td>\n",
       "      <td>1/19/2023</td>\n",
       "      <td>REFERRED TO EDUCATION</td>\n",
       "      <td>Moderate</td>\n",
       "      <td>https://legiscan.com/AK/bill/HB27/2023</td>\n",
       "      <td>Thomas McKay</td>\n",
       "      <td>An Act relating to school athletics, recreatio...</td>\n",
       "      <td>WE WILL SHUT YOU OUT OF PUBLIC LIFE</td>\n",
       "    </tr>\n",
       "    <tr>\n",
       "      <th>2</th>\n",
       "      <td>Alaska</td>\n",
       "      <td>AK</td>\n",
       "      <td>SB96</td>\n",
       "      <td>Sex/reproduction Education; Schools</td>\n",
       "      <td>Don't Say Gay/Forced Outing</td>\n",
       "      <td>3/8/2023</td>\n",
       "      <td>REFERRED TO JUDICIARY</td>\n",
       "      <td>Moderate</td>\n",
       "      <td>https://legiscan.com/AK/bill/SB96/2023</td>\n",
       "      <td>Rules</td>\n",
       "      <td>An Act relating to parental rights in a child&amp;...</td>\n",
       "      <td>WE WILL EMPOWER YOUR ENEMIES</td>\n",
       "    </tr>\n",
       "    <tr>\n",
       "      <th>3</th>\n",
       "      <td>Alaska</td>\n",
       "      <td>AK</td>\n",
       "      <td>HB105</td>\n",
       "      <td>Sex/reproduction Education; Schools</td>\n",
       "      <td>Don't Say Gay/Forced Outing</td>\n",
       "      <td>3/8/2023</td>\n",
       "      <td>REFERRED TO EDUCATION</td>\n",
       "      <td>Moderate</td>\n",
       "      <td>https://legiscan.com/AK/bill/HB105/2023</td>\n",
       "      <td>Rules</td>\n",
       "      <td>An Act relating to parental rights in a child&amp;...</td>\n",
       "      <td>WE WILL EMPOWER YOUR ENEMIES</td>\n",
       "    </tr>\n",
       "    <tr>\n",
       "      <th>4</th>\n",
       "      <td>Arizona</td>\n",
       "      <td>AZ</td>\n",
       "      <td>SB1028</td>\n",
       "      <td>Adult cabaret performances; prohibited locations</td>\n",
       "      <td>Drag Ban</td>\n",
       "      <td>3/22/2023</td>\n",
       "      <td>House read second time</td>\n",
       "      <td>Low</td>\n",
       "      <td>https://legiscan.com/AZ/bill/SB1028/2023</td>\n",
       "      <td>Anthony Kern</td>\n",
       "      <td>Adult cabaret performances; prohibited locations</td>\n",
       "      <td>YOUR PRESENCE IS A PERVERSION</td>\n",
       "    </tr>\n",
       "    <tr>\n",
       "      <th>5</th>\n",
       "      <td>Arizona</td>\n",
       "      <td>AZ</td>\n",
       "      <td>SB1030</td>\n",
       "      <td>Sexually explicit performances; regulation</td>\n",
       "      <td>Drag Ban</td>\n",
       "      <td>3/21/2023</td>\n",
       "      <td>House read second time</td>\n",
       "      <td>Low</td>\n",
       "      <td>https://legiscan.com/AZ/bill/SB1030/2023</td>\n",
       "      <td>Anthony Kern</td>\n",
       "      <td>Sexually explicit performances; regulation</td>\n",
       "      <td>YOUR PRESENCE IS A PERVERSION</td>\n",
       "    </tr>\n",
       "  </tbody>\n",
       "</table>\n",
       "</div>"
      ],
      "text/plain": [
       "0    State Abbreviation  Number  \\\n",
       "1   Alaska           AK    HB27   \n",
       "2   Alaska           AK    SB96   \n",
       "3   Alaska           AK   HB105   \n",
       "4  Arizona           AZ  SB1028   \n",
       "5  Arizona           AZ  SB1030   \n",
       "\n",
       "0                                           Summary  \\\n",
       "1         Designate Sex For School-sponsored Sports   \n",
       "2               Sex/reproduction Education; Schools   \n",
       "3               Sex/reproduction Education; Schools   \n",
       "4  Adult cabaret performances; prohibited locations   \n",
       "5        Sexually explicit performances; regulation   \n",
       "\n",
       "0                    Bill Type       Date                  Status  \\\n",
       "1             Trans Sports Ban  1/19/2023   REFERRED TO EDUCATION   \n",
       "2  Don't Say Gay/Forced Outing   3/8/2023   REFERRED TO JUDICIARY   \n",
       "3  Don't Say Gay/Forced Outing   3/8/2023   REFERRED TO EDUCATION   \n",
       "4                     Drag Ban  3/22/2023  House read second time   \n",
       "5                     Drag Ban  3/21/2023  House read second time   \n",
       "\n",
       "0 Erin Reed's State Risk                                       URL  \\\n",
       "1               Moderate    https://legiscan.com/AK/bill/HB27/2023   \n",
       "2               Moderate    https://legiscan.com/AK/bill/SB96/2023   \n",
       "3               Moderate   https://legiscan.com/AK/bill/HB105/2023   \n",
       "4                    Low  https://legiscan.com/AZ/bill/SB1028/2023   \n",
       "5                    Low  https://legiscan.com/AZ/bill/SB1030/2023   \n",
       "\n",
       "0      Sponsors                                         Bill Title  \\\n",
       "1  Thomas McKay  An Act relating to school athletics, recreatio...   \n",
       "2         Rules  An Act relating to parental rights in a child&...   \n",
       "3         Rules  An Act relating to parental rights in a child&...   \n",
       "4  Anthony Kern   Adult cabaret performances; prohibited locations   \n",
       "5  Anthony Kern         Sexually explicit performances; regulation   \n",
       "\n",
       "0                          Bill Intent  \n",
       "1  WE WILL SHUT YOU OUT OF PUBLIC LIFE  \n",
       "2         WE WILL EMPOWER YOUR ENEMIES  \n",
       "3         WE WILL EMPOWER YOUR ENEMIES  \n",
       "4        YOUR PRESENCE IS A PERVERSION  \n",
       "5        YOUR PRESENCE IS A PERVERSION  "
      ]
     },
     "execution_count": 6,
     "metadata": {},
     "output_type": "execute_result"
    }
   ],
   "source": [
    "df = pd.read_pickle('20230327-235802-df.pickle')\n",
    "df.head()"
   ]
  },
  {
   "cell_type": "markdown",
   "id": "f542dd8a",
   "metadata": {},
   "source": [
    "What am I doing? I'm trying to make a DF with the following columns:\n",
    "'State', 'Sponsor', 'Bill Numbers'.\n",
    "\n",
    "Try:\n",
    "- Delete unneeded rows\n",
    "- Flatten the Sponsors column\n",
    "    - I think these are all String types, so I have to use the \", \" to break them into individual list items\n",
    "- Each Sponsor should have one State\n",
    "- Turn all Bill Numbers corresponding to each Sponsor into a list"
   ]
  },
  {
   "cell_type": "code",
   "execution_count": 7,
   "id": "79843ebe",
   "metadata": {},
   "outputs": [],
   "source": [
    "df = df.drop(['Abbreviation', 'Summary', 'Bill Type', 'Date', \"Erin Reed's State Risk\", 'Status', 'URL', 'Bill Title', 'Bill Intent'], axis=1)"
   ]
  },
  {
   "cell_type": "code",
   "execution_count": 8,
   "id": "60046046",
   "metadata": {
    "scrolled": true
   },
   "outputs": [
    {
     "data": {
      "text/html": [
       "<div>\n",
       "<style scoped>\n",
       "    .dataframe tbody tr th:only-of-type {\n",
       "        vertical-align: middle;\n",
       "    }\n",
       "\n",
       "    .dataframe tbody tr th {\n",
       "        vertical-align: top;\n",
       "    }\n",
       "\n",
       "    .dataframe thead th {\n",
       "        text-align: right;\n",
       "    }\n",
       "</style>\n",
       "<table border=\"1\" class=\"dataframe\">\n",
       "  <thead>\n",
       "    <tr style=\"text-align: right;\">\n",
       "      <th></th>\n",
       "      <th>State</th>\n",
       "      <th>Number</th>\n",
       "      <th>Sponsors</th>\n",
       "    </tr>\n",
       "  </thead>\n",
       "  <tbody>\n",
       "    <tr>\n",
       "      <th>1</th>\n",
       "      <td>Alaska</td>\n",
       "      <td>HB27</td>\n",
       "      <td>Thomas McKay</td>\n",
       "    </tr>\n",
       "    <tr>\n",
       "      <th>2</th>\n",
       "      <td>Alaska</td>\n",
       "      <td>SB96</td>\n",
       "      <td>Rules</td>\n",
       "    </tr>\n",
       "    <tr>\n",
       "      <th>3</th>\n",
       "      <td>Alaska</td>\n",
       "      <td>HB105</td>\n",
       "      <td>Rules</td>\n",
       "    </tr>\n",
       "    <tr>\n",
       "      <th>4</th>\n",
       "      <td>Arizona</td>\n",
       "      <td>SB1028</td>\n",
       "      <td>Anthony Kern</td>\n",
       "    </tr>\n",
       "    <tr>\n",
       "      <th>5</th>\n",
       "      <td>Arizona</td>\n",
       "      <td>SB1030</td>\n",
       "      <td>Anthony Kern</td>\n",
       "    </tr>\n",
       "  </tbody>\n",
       "</table>\n",
       "</div>"
      ],
      "text/plain": [
       "0    State  Number      Sponsors\n",
       "1   Alaska    HB27  Thomas McKay\n",
       "2   Alaska    SB96         Rules\n",
       "3   Alaska   HB105         Rules\n",
       "4  Arizona  SB1028  Anthony Kern\n",
       "5  Arizona  SB1030  Anthony Kern"
      ]
     },
     "execution_count": 8,
     "metadata": {},
     "output_type": "execute_result"
    }
   ],
   "source": [
    "df.head()"
   ]
  },
  {
   "cell_type": "code",
   "execution_count": 17,
   "id": "69c50e6e",
   "metadata": {},
   "outputs": [
    {
     "data": {
      "text/plain": [
       "453"
      ]
     },
     "execution_count": 17,
     "metadata": {},
     "output_type": "execute_result"
    }
   ],
   "source": [
    "# Check length and datatype\n",
    "len(df)"
   ]
  },
  {
   "cell_type": "code",
   "execution_count": 16,
   "id": "8fcaf544",
   "metadata": {},
   "outputs": [
    {
     "data": {
      "text/plain": [
       "str"
      ]
     },
     "execution_count": 16,
     "metadata": {},
     "output_type": "execute_result"
    }
   ],
   "source": [
    "type(df.at[400,'Sponsors'])"
   ]
  },
  {
   "cell_type": "code",
   "execution_count": 18,
   "id": "99f2d73a",
   "metadata": {},
   "outputs": [],
   "source": [
    "# Turn string into list\n",
    "\n",
    "df['Sponsors'] = df['Sponsors'].str.split(', ')"
   ]
  },
  {
   "cell_type": "code",
   "execution_count": 19,
   "id": "a08f9fb5",
   "metadata": {},
   "outputs": [
    {
     "data": {
      "text/plain": [
       "list"
      ]
     },
     "execution_count": 19,
     "metadata": {},
     "output_type": "execute_result"
    }
   ],
   "source": [
    "# Check that it worked\n",
    "\n",
    "type(df.at[400,'Sponsors'])"
   ]
  },
  {
   "cell_type": "code",
   "execution_count": 20,
   "id": "f953f289",
   "metadata": {},
   "outputs": [
    {
     "data": {
      "text/plain": [
       "['Josh Hawley', 'Ted Cruz']"
      ]
     },
     "execution_count": 20,
     "metadata": {},
     "output_type": "execute_result"
    }
   ],
   "source": [
    "df.at[400,'Sponsors']"
   ]
  },
  {
   "cell_type": "code",
   "execution_count": 21,
   "id": "023c6cb2",
   "metadata": {},
   "outputs": [],
   "source": [
    "# Back up the df\n",
    "\n",
    "df2 = df"
   ]
  },
  {
   "cell_type": "code",
   "execution_count": 22,
   "id": "4ac3aa48",
   "metadata": {},
   "outputs": [],
   "source": [
    "# Flatten the sponsors so each list item becomes a new row\n",
    "\n",
    "df = df.explode('Sponsors')"
   ]
  },
  {
   "cell_type": "code",
   "execution_count": 23,
   "id": "ae416b29",
   "metadata": {},
   "outputs": [
    {
     "data": {
      "text/html": [
       "<div>\n",
       "<style scoped>\n",
       "    .dataframe tbody tr th:only-of-type {\n",
       "        vertical-align: middle;\n",
       "    }\n",
       "\n",
       "    .dataframe tbody tr th {\n",
       "        vertical-align: top;\n",
       "    }\n",
       "\n",
       "    .dataframe thead th {\n",
       "        text-align: right;\n",
       "    }\n",
       "</style>\n",
       "<table border=\"1\" class=\"dataframe\">\n",
       "  <thead>\n",
       "    <tr style=\"text-align: right;\">\n",
       "      <th></th>\n",
       "      <th>State</th>\n",
       "      <th>Number</th>\n",
       "      <th>Sponsors</th>\n",
       "    </tr>\n",
       "  </thead>\n",
       "  <tbody>\n",
       "    <tr>\n",
       "      <th>1</th>\n",
       "      <td>Alaska</td>\n",
       "      <td>HB27</td>\n",
       "      <td>Thomas McKay</td>\n",
       "    </tr>\n",
       "    <tr>\n",
       "      <th>2</th>\n",
       "      <td>Alaska</td>\n",
       "      <td>SB96</td>\n",
       "      <td>Rules</td>\n",
       "    </tr>\n",
       "    <tr>\n",
       "      <th>3</th>\n",
       "      <td>Alaska</td>\n",
       "      <td>HB105</td>\n",
       "      <td>Rules</td>\n",
       "    </tr>\n",
       "    <tr>\n",
       "      <th>4</th>\n",
       "      <td>Arizona</td>\n",
       "      <td>SB1028</td>\n",
       "      <td>Anthony Kern</td>\n",
       "    </tr>\n",
       "    <tr>\n",
       "      <th>5</th>\n",
       "      <td>Arizona</td>\n",
       "      <td>SB1030</td>\n",
       "      <td>Anthony Kern</td>\n",
       "    </tr>\n",
       "    <tr>\n",
       "      <th>...</th>\n",
       "      <td>...</td>\n",
       "      <td>...</td>\n",
       "      <td>...</td>\n",
       "    </tr>\n",
       "    <tr>\n",
       "      <th>453</th>\n",
       "      <td>Wyoming</td>\n",
       "      <td>SF0133</td>\n",
       "      <td>John Kolb</td>\n",
       "    </tr>\n",
       "    <tr>\n",
       "      <th>453</th>\n",
       "      <td>Wyoming</td>\n",
       "      <td>SF0133</td>\n",
       "      <td>Troy McKeown</td>\n",
       "    </tr>\n",
       "    <tr>\n",
       "      <th>453</th>\n",
       "      <td>Wyoming</td>\n",
       "      <td>SF0133</td>\n",
       "      <td>Tim Salazar</td>\n",
       "    </tr>\n",
       "    <tr>\n",
       "      <th>453</th>\n",
       "      <td>Wyoming</td>\n",
       "      <td>SF0133</td>\n",
       "      <td>Wendy Davis Schuler</td>\n",
       "    </tr>\n",
       "    <tr>\n",
       "      <th>453</th>\n",
       "      <td>Wyoming</td>\n",
       "      <td>SF0133</td>\n",
       "      <td>Cheri Steinmetz</td>\n",
       "    </tr>\n",
       "  </tbody>\n",
       "</table>\n",
       "<p>2817 rows × 3 columns</p>\n",
       "</div>"
      ],
      "text/plain": [
       "0      State  Number             Sponsors\n",
       "1     Alaska    HB27         Thomas McKay\n",
       "2     Alaska    SB96                Rules\n",
       "3     Alaska   HB105                Rules\n",
       "4    Arizona  SB1028         Anthony Kern\n",
       "5    Arizona  SB1030         Anthony Kern\n",
       "..       ...     ...                  ...\n",
       "453  Wyoming  SF0133            John Kolb\n",
       "453  Wyoming  SF0133         Troy McKeown\n",
       "453  Wyoming  SF0133          Tim Salazar\n",
       "453  Wyoming  SF0133  Wendy Davis Schuler\n",
       "453  Wyoming  SF0133      Cheri Steinmetz\n",
       "\n",
       "[2817 rows x 3 columns]"
      ]
     },
     "execution_count": 23,
     "metadata": {},
     "output_type": "execute_result"
    }
   ],
   "source": [
    "# Check that it worked \n",
    "\n",
    "df"
   ]
  },
  {
   "cell_type": "code",
   "execution_count": 24,
   "id": "d067143f",
   "metadata": {},
   "outputs": [],
   "source": [
    "# Back up the df \n",
    "\n",
    "df2 = df"
   ]
  },
  {
   "cell_type": "code",
   "execution_count": 43,
   "id": "4e38c095",
   "metadata": {},
   "outputs": [],
   "source": [
    "# Make a new df, sorting by sponsors and state \n",
    "# and aggregating remaining column into a list per row, \n",
    "# then turning that column into a list? Not 100% on this\n",
    "\n",
    "dftest = df.groupby(['Sponsors','State']).agg(list).applymap(list)"
   ]
  },
  {
   "cell_type": "code",
   "execution_count": 44,
   "id": "d72204ea",
   "metadata": {
    "scrolled": false
   },
   "outputs": [
    {
     "data": {
      "text/html": [
       "<div>\n",
       "<style scoped>\n",
       "    .dataframe tbody tr th:only-of-type {\n",
       "        vertical-align: middle;\n",
       "    }\n",
       "\n",
       "    .dataframe tbody tr th {\n",
       "        vertical-align: top;\n",
       "    }\n",
       "\n",
       "    .dataframe thead th {\n",
       "        text-align: right;\n",
       "    }\n",
       "</style>\n",
       "<table border=\"1\" class=\"dataframe\">\n",
       "  <thead>\n",
       "    <tr style=\"text-align: right;\">\n",
       "      <th></th>\n",
       "      <th></th>\n",
       "      <th>Number</th>\n",
       "    </tr>\n",
       "    <tr>\n",
       "      <th>Sponsors</th>\n",
       "      <th>State</th>\n",
       "      <th></th>\n",
       "    </tr>\n",
       "  </thead>\n",
       "  <tbody>\n",
       "    <tr>\n",
       "      <th>Aaron Aylward</th>\n",
       "      <th>South Dakota</th>\n",
       "      <td>[HB1116, HB1125, HB1208, HB1080]</td>\n",
       "    </tr>\n",
       "    <tr>\n",
       "      <th>Aaron Bean</th>\n",
       "      <th>US</th>\n",
       "      <td>[HB734, HB5]</td>\n",
       "    </tr>\n",
       "    <tr>\n",
       "      <th>Aaron Freeman</th>\n",
       "      <th>Indiana</th>\n",
       "      <td>[HB1407, SB0480]</td>\n",
       "    </tr>\n",
       "    <tr>\n",
       "      <th>Aaron Pilkington</th>\n",
       "      <th>Arkansas</th>\n",
       "      <td>[SB294]</td>\n",
       "    </tr>\n",
       "    <tr>\n",
       "      <th>Abby Angelos</th>\n",
       "      <th>Wyoming</th>\n",
       "      <td>[SF0159, SF0133]</td>\n",
       "    </tr>\n",
       "  </tbody>\n",
       "</table>\n",
       "</div>"
      ],
      "text/plain": [
       "0                                                        Number\n",
       "Sponsors         State                                         \n",
       "Aaron Aylward    South Dakota  [HB1116, HB1125, HB1208, HB1080]\n",
       "Aaron Bean       US                                [HB734, HB5]\n",
       "Aaron Freeman    Indiana                       [HB1407, SB0480]\n",
       "Aaron Pilkington Arkansas                               [SB294]\n",
       "Abby Angelos     Wyoming                       [SF0159, SF0133]"
      ]
     },
     "execution_count": 44,
     "metadata": {},
     "output_type": "execute_result"
    }
   ],
   "source": [
    "# Check that it worked \n",
    "\n",
    "dftest.head()"
   ]
  },
  {
   "cell_type": "code",
   "execution_count": 51,
   "id": "1a60da1c",
   "metadata": {
    "scrolled": true
   },
   "outputs": [],
   "source": [
    "# Turn this weird double index back into columns\n",
    "\n",
    "dftest = dftest.reset_index(level=['Sponsors', 'State'])"
   ]
  },
  {
   "cell_type": "code",
   "execution_count": 55,
   "id": "b475b2d9",
   "metadata": {},
   "outputs": [
    {
     "data": {
      "text/html": [
       "<div>\n",
       "<style scoped>\n",
       "    .dataframe tbody tr th:only-of-type {\n",
       "        vertical-align: middle;\n",
       "    }\n",
       "\n",
       "    .dataframe tbody tr th {\n",
       "        vertical-align: top;\n",
       "    }\n",
       "\n",
       "    .dataframe thead th {\n",
       "        text-align: right;\n",
       "    }\n",
       "</style>\n",
       "<table border=\"1\" class=\"dataframe\">\n",
       "  <thead>\n",
       "    <tr style=\"text-align: right;\">\n",
       "      <th></th>\n",
       "      <th>Sponsors</th>\n",
       "      <th>State</th>\n",
       "      <th>Number</th>\n",
       "    </tr>\n",
       "  </thead>\n",
       "  <tbody>\n",
       "    <tr>\n",
       "      <th>0</th>\n",
       "      <td>Aaron Aylward</td>\n",
       "      <td>South Dakota</td>\n",
       "      <td>[HB1116, HB1125, HB1208, HB1080]</td>\n",
       "    </tr>\n",
       "    <tr>\n",
       "      <th>1</th>\n",
       "      <td>Aaron Bean</td>\n",
       "      <td>US</td>\n",
       "      <td>[HB734, HB5]</td>\n",
       "    </tr>\n",
       "    <tr>\n",
       "      <th>2</th>\n",
       "      <td>Aaron Freeman</td>\n",
       "      <td>Indiana</td>\n",
       "      <td>[HB1407, SB0480]</td>\n",
       "    </tr>\n",
       "    <tr>\n",
       "      <th>3</th>\n",
       "      <td>Aaron Pilkington</td>\n",
       "      <td>Arkansas</td>\n",
       "      <td>[SB294]</td>\n",
       "    </tr>\n",
       "    <tr>\n",
       "      <th>4</th>\n",
       "      <td>Abby Angelos</td>\n",
       "      <td>Wyoming</td>\n",
       "      <td>[SF0159, SF0133]</td>\n",
       "    </tr>\n",
       "    <tr>\n",
       "      <th>...</th>\n",
       "      <td>...</td>\n",
       "      <td>...</td>\n",
       "      <td>...</td>\n",
       "    </tr>\n",
       "    <tr>\n",
       "      <th>1421</th>\n",
       "      <td>Wren Williams</td>\n",
       "      <td>Virginia</td>\n",
       "      <td>[HB1387, HB1707, HB2432]</td>\n",
       "    </tr>\n",
       "    <tr>\n",
       "      <th>1422</th>\n",
       "      <td>Zach Payne</td>\n",
       "      <td>Indiana</td>\n",
       "      <td>[HB1118]</td>\n",
       "    </tr>\n",
       "    <tr>\n",
       "      <th>1423</th>\n",
       "      <td>Zachary Nunn</td>\n",
       "      <td>US</td>\n",
       "      <td>[HB5]</td>\n",
       "    </tr>\n",
       "    <tr>\n",
       "      <th>1424</th>\n",
       "      <td>Zack Gramlich</td>\n",
       "      <td>Arkansas</td>\n",
       "      <td>[SB294]</td>\n",
       "    </tr>\n",
       "    <tr>\n",
       "      <th>1425</th>\n",
       "      <td>committee for review of Administrative Rules</td>\n",
       "      <td>Wisconsin</td>\n",
       "      <td>[SB4]</td>\n",
       "    </tr>\n",
       "  </tbody>\n",
       "</table>\n",
       "<p>1426 rows × 3 columns</p>\n",
       "</div>"
      ],
      "text/plain": [
       "0                                         Sponsors         State  \\\n",
       "0                                    Aaron Aylward  South Dakota   \n",
       "1                                       Aaron Bean            US   \n",
       "2                                    Aaron Freeman       Indiana   \n",
       "3                                 Aaron Pilkington      Arkansas   \n",
       "4                                     Abby Angelos       Wyoming   \n",
       "...                                            ...           ...   \n",
       "1421                                 Wren Williams      Virginia   \n",
       "1422                                    Zach Payne       Indiana   \n",
       "1423                                  Zachary Nunn            US   \n",
       "1424                                 Zack Gramlich      Arkansas   \n",
       "1425  committee for review of Administrative Rules     Wisconsin   \n",
       "\n",
       "0                               Number  \n",
       "0     [HB1116, HB1125, HB1208, HB1080]  \n",
       "1                         [HB734, HB5]  \n",
       "2                     [HB1407, SB0480]  \n",
       "3                              [SB294]  \n",
       "4                     [SF0159, SF0133]  \n",
       "...                                ...  \n",
       "1421          [HB1387, HB1707, HB2432]  \n",
       "1422                          [HB1118]  \n",
       "1423                             [HB5]  \n",
       "1424                           [SB294]  \n",
       "1425                             [SB4]  \n",
       "\n",
       "[1426 rows x 3 columns]"
      ]
     },
     "execution_count": 55,
     "metadata": {},
     "output_type": "execute_result"
    }
   ],
   "source": [
    "# Check that it worked\n",
    "\n",
    "dftest"
   ]
  },
  {
   "cell_type": "code",
   "execution_count": 23,
   "id": "16e0a237",
   "metadata": {},
   "outputs": [],
   "source": [
    "dftest = pd.read_csv('curserinfo-20230407.csv')"
   ]
  },
  {
   "cell_type": "code",
   "execution_count": 29,
   "id": "8a6c2ddc",
   "metadata": {},
   "outputs": [
    {
     "data": {
      "text/plain": [
       "\"['HB1116', 'HB1125', 'HB1208', 'HB1080']\""
      ]
     },
     "execution_count": 29,
     "metadata": {},
     "output_type": "execute_result"
    }
   ],
   "source": [
    "dftest['Number'][0]"
   ]
  },
  {
   "cell_type": "code",
   "execution_count": 30,
   "id": "6c6c488e",
   "metadata": {},
   "outputs": [
    {
     "data": {
      "text/plain": [
       "list"
      ]
     },
     "execution_count": 30,
     "metadata": {},
     "output_type": "execute_result"
    }
   ],
   "source": [
    "type(dftest['Number'][0].strip(\"[]\").strip(\"''\").split(\", \"))"
   ]
  },
  {
   "cell_type": "code",
   "execution_count": 31,
   "id": "5a5ee34f",
   "metadata": {},
   "outputs": [],
   "source": [
    "dftest['Number'] = dftest['Number'].apply(lambda x: x.strip(\"[]\").strip(\"''\").split(\", \"))"
   ]
  },
  {
   "cell_type": "code",
   "execution_count": 33,
   "id": "3603e128",
   "metadata": {},
   "outputs": [
    {
     "data": {
      "text/plain": [
       "list"
      ]
     },
     "execution_count": 33,
     "metadata": {},
     "output_type": "execute_result"
    }
   ],
   "source": [
    "type(dftest['Number'][0])"
   ]
  },
  {
   "cell_type": "code",
   "execution_count": 34,
   "id": "eb32ca3d",
   "metadata": {},
   "outputs": [
    {
     "data": {
      "text/plain": [
       "4"
      ]
     },
     "execution_count": 34,
     "metadata": {},
     "output_type": "execute_result"
    }
   ],
   "source": [
    "len(dftest['Number'][0])"
   ]
  },
  {
   "cell_type": "code",
   "execution_count": 39,
   "id": "e2b01208",
   "metadata": {
    "scrolled": true
   },
   "outputs": [
    {
     "name": "stdout",
     "output_type": "stream",
     "text": [
      "Pickled\n"
     ]
    }
   ],
   "source": [
    "datePickle(dftest)"
   ]
  },
  {
   "cell_type": "markdown",
   "id": "889f74ce",
   "metadata": {},
   "source": [
    "Adding a column with bill count.\n",
    "\n",
    "Can also remove the Numbers."
   ]
  },
  {
   "cell_type": "code",
   "execution_count": 40,
   "id": "293be0fa",
   "metadata": {},
   "outputs": [],
   "source": [
    "dftest['Count'] = dftest['Number']"
   ]
  },
  {
   "cell_type": "code",
   "execution_count": 42,
   "id": "37a29c67",
   "metadata": {},
   "outputs": [],
   "source": [
    "dftest['Count'] = dftest['Count'].apply(lambda x:len(x))"
   ]
  },
  {
   "cell_type": "code",
   "execution_count": 43,
   "id": "11c0aba2",
   "metadata": {},
   "outputs": [
    {
     "data": {
      "text/html": [
       "<div>\n",
       "<style scoped>\n",
       "    .dataframe tbody tr th:only-of-type {\n",
       "        vertical-align: middle;\n",
       "    }\n",
       "\n",
       "    .dataframe tbody tr th {\n",
       "        vertical-align: top;\n",
       "    }\n",
       "\n",
       "    .dataframe thead th {\n",
       "        text-align: right;\n",
       "    }\n",
       "</style>\n",
       "<table border=\"1\" class=\"dataframe\">\n",
       "  <thead>\n",
       "    <tr style=\"text-align: right;\">\n",
       "      <th></th>\n",
       "      <th>Sponsors</th>\n",
       "      <th>State</th>\n",
       "      <th>Number</th>\n",
       "      <th>Count</th>\n",
       "    </tr>\n",
       "  </thead>\n",
       "  <tbody>\n",
       "    <tr>\n",
       "      <th>0</th>\n",
       "      <td>Aaron Aylward</td>\n",
       "      <td>South Dakota</td>\n",
       "      <td>[HB1116', 'HB1125', 'HB1208', 'HB1080]</td>\n",
       "      <td>4</td>\n",
       "    </tr>\n",
       "    <tr>\n",
       "      <th>1</th>\n",
       "      <td>Aaron Bean</td>\n",
       "      <td>US</td>\n",
       "      <td>[HB734', 'HB5]</td>\n",
       "      <td>2</td>\n",
       "    </tr>\n",
       "    <tr>\n",
       "      <th>2</th>\n",
       "      <td>Aaron Freeman</td>\n",
       "      <td>Indiana</td>\n",
       "      <td>[HB1407', 'SB0480]</td>\n",
       "      <td>2</td>\n",
       "    </tr>\n",
       "    <tr>\n",
       "      <th>3</th>\n",
       "      <td>Aaron Pilkington</td>\n",
       "      <td>Arkansas</td>\n",
       "      <td>[SB294]</td>\n",
       "      <td>1</td>\n",
       "    </tr>\n",
       "    <tr>\n",
       "      <th>4</th>\n",
       "      <td>Abby Angelos</td>\n",
       "      <td>Wyoming</td>\n",
       "      <td>[SF0159', 'SF0133]</td>\n",
       "      <td>2</td>\n",
       "    </tr>\n",
       "  </tbody>\n",
       "</table>\n",
       "</div>"
      ],
      "text/plain": [
       "           Sponsors         State                                  Number  \\\n",
       "0     Aaron Aylward  South Dakota  [HB1116', 'HB1125', 'HB1208', 'HB1080]   \n",
       "1        Aaron Bean            US                          [HB734', 'HB5]   \n",
       "2     Aaron Freeman       Indiana                      [HB1407', 'SB0480]   \n",
       "3  Aaron Pilkington      Arkansas                                 [SB294]   \n",
       "4      Abby Angelos       Wyoming                      [SF0159', 'SF0133]   \n",
       "\n",
       "   Count  \n",
       "0      4  \n",
       "1      2  \n",
       "2      2  \n",
       "3      1  \n",
       "4      2  "
      ]
     },
     "execution_count": 43,
     "metadata": {},
     "output_type": "execute_result"
    }
   ],
   "source": [
    "dftest.head()"
   ]
  },
  {
   "cell_type": "code",
   "execution_count": 44,
   "id": "603b0543",
   "metadata": {},
   "outputs": [],
   "source": [
    "# Export to csv\n",
    "\n",
    "dftest.to_csv('curserinfo-20230407-withcount.csv', index=False)"
   ]
  },
  {
   "cell_type": "code",
   "execution_count": 45,
   "id": "9c572296",
   "metadata": {},
   "outputs": [
    {
     "name": "stdout",
     "output_type": "stream",
     "text": [
      "Pickled\n"
     ]
    }
   ],
   "source": [
    "# Pickle again \n",
    "\n",
    "datePickle(dftest)"
   ]
  },
  {
   "cell_type": "code",
   "execution_count": 54,
   "id": "6dfa349e",
   "metadata": {},
   "outputs": [
    {
     "data": {
      "text/plain": [
       "1426"
      ]
     },
     "execution_count": 54,
     "metadata": {},
     "output_type": "execute_result"
    }
   ],
   "source": [
    "len(dftest)"
   ]
  },
  {
   "cell_type": "code",
   "execution_count": null,
   "id": "da272b8f",
   "metadata": {},
   "outputs": [],
   "source": []
  }
 ],
 "metadata": {
  "kernelspec": {
   "display_name": "Python 3 (ipykernel)",
   "language": "python",
   "name": "python3"
  },
  "language_info": {
   "codemirror_mode": {
    "name": "ipython",
    "version": 3
   },
   "file_extension": ".py",
   "mimetype": "text/x-python",
   "name": "python",
   "nbconvert_exporter": "python",
   "pygments_lexer": "ipython3",
   "version": "3.9.13"
  }
 },
 "nbformat": 4,
 "nbformat_minor": 5
}
