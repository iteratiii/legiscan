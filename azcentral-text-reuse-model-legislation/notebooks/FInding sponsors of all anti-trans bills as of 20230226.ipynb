{
 "cells": [
  {
   "cell_type": "markdown",
   "metadata": {
    "id": "EJubItawxK15"
   },
   "source": [
    "# Getting all bill sponsors from LegiScan\n",
    "\n",
    "- [ ]  Using `anti-lgbtq-bills-ids.csv` , get bill IDs\n",
    "- [ ]  Use pylegiscan get_bill to get bill info\n",
    "- [ ]  Get sponsor for each bill and add to list"
   ]
  },
  {
   "cell_type": "markdown",
   "metadata": {
    "id": "NeRyZ07OxK19"
   },
   "source": [
    "## Imports"
   ]
  },
  {
   "cell_type": "code",
   "execution_count": 3,
   "metadata": {
    "id": "20iPMIO_xK1-"
   },
   "outputs": [],
   "source": [
    "import io\n",
    "import json\n",
    "import csv\n",
    "import pandas as pd\n",
    "import numpy as np"
   ]
  },
  {
   "cell_type": "markdown",
   "metadata": {},
   "source": [
    "[Getting an absolute path from an interactive shell](https://bobbyhadz.com/blog/python-nameerror-name-file-is-not-defined)"
   ]
  },
  {
   "cell_type": "markdown",
   "metadata": {
    "id": "Gw__Ve8oxK1_"
   },
   "source": [
    "## pylegiscan\n",
    "\n",
    "To talk to LegiScan's API, we're borrowing some code from [pylegiscan](https://github.com/poliquin/pylegiscan). Since it isn't a package you can install with `pip`, it wound up being easier for distribution to just cut and paste it here."
   ]
  },
  {
   "cell_type": "code",
   "execution_count": 4,
   "metadata": {
    "id": "cKW9dPNHxK1_"
   },
   "outputs": [],
   "source": [
    "# Taken from https://github.com/poliquin/pylegiscan/blob/master/pylegiscan/legiscan.py\n",
    "\n",
    "import os\n",
    "import json\n",
    "import requests\n",
    "from urllib.parse import urlencode\n",
    "from urllib.parse import quote_plus\n",
    "\n",
    "# current aggregate status of bill\n",
    "BILL_STATUS = {1: \"Introduced\",\n",
    "               2: \"Engrossed\",\n",
    "               3: \"Enrolled\",\n",
    "               4: \"Passed\",\n",
    "               5: \"Vetoed\",\n",
    "               6: \"Failed/Dead\"}\n",
    "\n",
    "# significant steps in bill progress.\n",
    "BILL_PROGRESS = {1: \"Introduced\",\n",
    "                 2: \"Engrossed\",\n",
    "                 3: \"Enrolled\",\n",
    "                 4: \"Passed\",\n",
    "                 5: \"Vetoed\",\n",
    "                 6: \"Failed/Dead\",\n",
    "                 7: \"Veto Override\",\n",
    "                 8: \"Chapter/Act/Statute\",\n",
    "                 9: \"Committee Referral\",\n",
    "                10: \"Committee Report Pass\",\n",
    "                11: \"Committee Report DNP\"}\n",
    "\n",
    "\n",
    "\"\"\"\n",
    "Interact with LegiScan API.\n",
    "\n",
    "\"\"\"\n",
    "\n",
    "# a helpful list of valid legiscan state abbreviations (no Puerto Rico)\n",
    "STATES = ['ak', 'al', 'ar', 'az', 'ca', 'co', 'ct', 'dc', 'de', 'fl', 'ga',\n",
    "          'hi', 'ia', 'id', 'il', 'in', 'ks', 'ky', 'la', 'ma', 'md', 'me',\n",
    "          'mi', 'mn', 'mo', 'ms', 'mt', 'nc', 'nd', 'ne', 'nh', 'nj', 'nm',\n",
    "          'nv', 'ny', 'oh', 'ok', 'or', 'pa', 'ri', 'sc', 'sd', 'tn', 'tx',\n",
    "          'ut', 'va', 'vt', 'wa', 'wi', 'wv', 'wy']\n",
    "\n",
    "class LegiScanError(Exception):\n",
    "    pass\n",
    "\n",
    "class LegiScan(object):\n",
    "    BASE_URL = 'http://api.legiscan.com/?key={0}&op={1}&{2}'\n",
    "\n",
    "    def __init__(self, apikey=None):\n",
    "        \"\"\"LegiScan API.  State parameters should always be passed as\n",
    "           USPS abbreviations.  Bill numbers and abbreviations are case\n",
    "           insensitive.  Register for API at http://legiscan.com/legiscan\n",
    "        \"\"\"\n",
    "        # see if API key available as environment variable\n",
    "        if apikey is None:\n",
    "            apikey = config.LEGISCAN_API_KEY\n",
    "        self.key = apikey.strip()\n",
    "\n",
    "    def _url(self, operation, params=None):\n",
    "        \"\"\"Build a URL for querying the API.\"\"\"\n",
    "        if not isinstance(params, str) and params is not None:\n",
    "            params = urlencode(params)\n",
    "        elif params is None:\n",
    "            params = ''\n",
    "        return self.BASE_URL.format(self.key, operation, params)\n",
    "\n",
    "    def _get(self, url):\n",
    "        \"\"\"Get and parse JSON from API for a url.\"\"\"\n",
    "        req = requests.get(url)\n",
    "        if not req.ok:\n",
    "            raise LegiScanError('Request returned {0}: {1}'\\\n",
    "                    .format(req.status_code, url))\n",
    "        data = json.loads(req.content)\n",
    "        if data['status'] == \"ERROR\":\n",
    "            raise LegiScanError(data['alert']['message'])\n",
    "        return data\n",
    "\n",
    "    def get_session_list(self, state):\n",
    "        \"\"\"Get list of available sessions for a state.\"\"\"\n",
    "        url = self._url('getSessionList', {'state': state})\n",
    "        data = self._get(url)\n",
    "        return data['sessions']\n",
    "\n",
    "    def get_dataset_list(self, state=None, year=None):\n",
    "        \"\"\"Get list of available datasets, with optional state and year filtering.\n",
    "        \"\"\"\n",
    "        if state is not None:\n",
    "            url = self._url('getDatasetList', {'state': state})\n",
    "        elif year is not None:\n",
    "            url = self._url('getDatasetList', {'year': year})\n",
    "        else:\n",
    "            url = self._url('getDatasetList')\n",
    "        data = self._get(url)\n",
    "        # return a list of the bills\n",
    "        return data['datasetlist']\n",
    "\n",
    "    def get_dataset(self, id, access_key):\n",
    "        \"\"\"Get list of available datasets, with optional state and year filtering.\n",
    "        \"\"\"\n",
    "        url = self._url('getDataset', {'id': id, 'access_key': access_key})\n",
    "        data = self._get(url)\n",
    "        # return a list of the bills\n",
    "        return data['dataset']\n",
    "      \n",
    "    def get_master_list(self, state=None, session_id=None):\n",
    "        \"\"\"Get list of bills for the current session in a state or for\n",
    "           a given session identifier.\n",
    "        \"\"\"\n",
    "        if state is not None:\n",
    "            url = self._url('getMasterList', {'state': state})\n",
    "        elif session_id is not None:\n",
    "            url = self._url('getMasterList', {'id': session_id})\n",
    "        else:\n",
    "            raise ValueError('Must specify session identifier or state.')\n",
    "        data = self._get(url)\n",
    "        # return a list of the bills\n",
    "        return [data['masterlist'][i] for i in data['masterlist']]\n",
    "\n",
    "    def get_bill(self, bill_id=None, state=None, bill_number=None):\n",
    "        \"\"\"Get primary bill detail information including sponsors, committee\n",
    "           references, full history, bill text, and roll call information.\n",
    "\n",
    "           This function expects either a bill identifier or a state and bill\n",
    "           number combination.  The bill identifier is preferred, and required\n",
    "           for fetching bills from prior sessions.\n",
    "        \"\"\"\n",
    "        if bill_id is not None:\n",
    "            url = self._url('getBill', {'id': bill_id})\n",
    "        elif state is not None and bill_number is not None:\n",
    "            url = self._url('getBill', {'state': state, 'bill': bill_number})\n",
    "        else:\n",
    "            raise ValueError('Must specify bill_id or state and bill_number.')\n",
    "        return self._get(url)['bill']\n",
    "\n",
    "    def get_bill_text(self, doc_id):\n",
    "        \"\"\"Get bill text, including date, draft revision information, and\n",
    "           MIME type.  Bill text is base64 encoded to allow for PDF and Word\n",
    "           data transfers.\n",
    "        \"\"\"\n",
    "        url = self._url('getBillText', {'id': doc_id})\n",
    "        return self._get(url)['text']\n",
    "\n",
    "    def get_amendment(self, amendment_id):\n",
    "        \"\"\"Get amendment text including date, adoption status, MIME type, and\n",
    "           title/description information.  The amendment text is base64 encoded\n",
    "           to allow for PDF and Word data transfer.\n",
    "        \"\"\"\n",
    "        url = self._url('getAmendment', {'id': amendment_id})\n",
    "        return self._get(url)['amendment']\n",
    "\n",
    "    def get_supplement(self, supplement_id):\n",
    "        \"\"\"Get supplement text including type of supplement, date, MIME type\n",
    "           and text/description information.  Supplement text is base64 encoded\n",
    "           to allow for PDF and Word data transfer.\n",
    "        \"\"\"\n",
    "        url = self._url('getSupplement', {'id': supplement_id})\n",
    "        return self._get(url)['supplement']\n",
    "\n",
    "    def get_roll_call(self, roll_call_id):\n",
    "        \"\"\"Roll call detail for individual votes and summary information.\"\"\"\n",
    "        data = self._get(self._url('getRollcall', {'id': roll_call_id}))\n",
    "        return data['roll_call']\n",
    "\n",
    "    def get_sponsor(self, people_id):\n",
    "        \"\"\"Sponsor information including name, role, and a followthemoney.org\n",
    "           person identifier.\n",
    "        \"\"\"\n",
    "        url = self._url('getSponsor', {'id': people_id})\n",
    "        return self._get(url)['person']\n",
    "\n",
    "    def search(self, state, bill_number=None, query=None, year=2, page=1):\n",
    "        \"\"\"Get a page of results for a search against the LegiScan full text\n",
    "           engine; returns a paginated result set.\n",
    "\n",
    "           Specify a bill number or a query string.  Year can be an exact year\n",
    "           or a number between 1 and 4, inclusive.  These integers have the\n",
    "           following meanings:\n",
    "               1 = all years\n",
    "               2 = current year, the default\n",
    "               3 = recent years\n",
    "               4 = prior years\n",
    "           Page is the result set page number to return.\n",
    "        \"\"\"\n",
    "        if bill_number is not None:\n",
    "            params = {'state': state, 'bill': bill_number}\n",
    "        elif query is not None:\n",
    "            params = {'state': state, 'query': query,\n",
    "                      'year': year, 'page': page}\n",
    "        else:\n",
    "            raise ValueError('Must specify bill_number or query')\n",
    "        data = self._get(self._url('search', params))['searchresult']\n",
    "        # return a summary of the search and the results as a dictionary\n",
    "        summary = data.pop('summary')\n",
    "        results = {'summary': summary, 'results': [data[i] for i in data]}\n",
    "        return results\n",
    "\n",
    "    def __str__(self):\n",
    "        return '<LegiScan API {0}>'.format(self.key)\n",
    "\n",
    "    def __repr__(self):\n",
    "        return str(self)"
   ]
  },
  {
   "cell_type": "markdown",
   "metadata": {
    "id": "rCYYTGAwxK2B"
   },
   "source": [
    "# Connect to LegiScan\n",
    "\n",
    "Using pylegiscan, you just pass your API key to `LegiScan` and you're good to go. I set up an environment variable for mine, but you can also just paste yours at `OR_PUT_YOUR_API_KEY_HERE`."
   ]
  },
  {
   "cell_type": "code",
   "execution_count": 5,
   "metadata": {
    "id": "IrrTxa7kxK2B"
   },
   "outputs": [],
   "source": [
    "import config\n",
    "\n",
    "api_key = config.LEGISCAN_API_KEY\n",
    "legis = LegiScan(api_key)"
   ]
  },
  {
   "cell_type": "markdown",
   "metadata": {
    "id": "zdwQeMfXxK2C"
   },
   "source": [
    "If you wanted to search for bills based on state or text, that's easy to do."
   ]
  },
  {
   "cell_type": "markdown",
   "metadata": {},
   "source": [
    "# Read in my anti-trans bills csv"
   ]
  },
  {
   "cell_type": "code",
   "execution_count": 6,
   "metadata": {},
   "outputs": [],
   "source": [
    "# read in my csv as a dataframe\n",
    "df = pd.read_csv('anti-lgbtq-bills-ids.csv', usecols=['State','Abbreviation','Number','URL','Bill ID'])"
   ]
  },
  {
   "cell_type": "code",
   "execution_count": 7,
   "metadata": {
    "scrolled": true
   },
   "outputs": [
    {
     "data": {
      "text/html": [
       "<div>\n",
       "<style scoped>\n",
       "    .dataframe tbody tr th:only-of-type {\n",
       "        vertical-align: middle;\n",
       "    }\n",
       "\n",
       "    .dataframe tbody tr th {\n",
       "        vertical-align: top;\n",
       "    }\n",
       "\n",
       "    .dataframe thead th {\n",
       "        text-align: right;\n",
       "    }\n",
       "</style>\n",
       "<table border=\"1\" class=\"dataframe\">\n",
       "  <thead>\n",
       "    <tr style=\"text-align: right;\">\n",
       "      <th></th>\n",
       "      <th>State</th>\n",
       "      <th>Abbreviation</th>\n",
       "      <th>Number</th>\n",
       "      <th>URL</th>\n",
       "      <th>Bill ID</th>\n",
       "    </tr>\n",
       "  </thead>\n",
       "  <tbody>\n",
       "    <tr>\n",
       "      <th>0</th>\n",
       "      <td>Alaska</td>\n",
       "      <td>AK</td>\n",
       "      <td>HB27</td>\n",
       "      <td>https://legiscan.com/AK/bill/HB27/2023</td>\n",
       "      <td>1646385</td>\n",
       "    </tr>\n",
       "    <tr>\n",
       "      <th>1</th>\n",
       "      <td>Arizona</td>\n",
       "      <td>AZ</td>\n",
       "      <td>HB2312</td>\n",
       "      <td>https://legiscan.com/AZ/bill/HB2312/2023</td>\n",
       "      <td>1657170</td>\n",
       "    </tr>\n",
       "    <tr>\n",
       "      <th>2</th>\n",
       "      <td>Arizona</td>\n",
       "      <td>AZ</td>\n",
       "      <td>HB2711</td>\n",
       "      <td>https://legiscan.com/AZ/bill/HB2711/2023</td>\n",
       "      <td>1696919</td>\n",
       "    </tr>\n",
       "    <tr>\n",
       "      <th>3</th>\n",
       "      <td>Arizona</td>\n",
       "      <td>AZ</td>\n",
       "      <td>SB1001</td>\n",
       "      <td>https://legiscan.com/AZ/bill/SB1001/2023</td>\n",
       "      <td>1639597</td>\n",
       "    </tr>\n",
       "    <tr>\n",
       "      <th>4</th>\n",
       "      <td>Arizona</td>\n",
       "      <td>AZ</td>\n",
       "      <td>SB1026</td>\n",
       "      <td>https://legiscan.com/AZ/bill/SB1026/2023</td>\n",
       "      <td>1644653</td>\n",
       "    </tr>\n",
       "  </tbody>\n",
       "</table>\n",
       "</div>"
      ],
      "text/plain": [
       "     State Abbreviation  Number                                       URL  \\\n",
       "0   Alaska           AK    HB27    https://legiscan.com/AK/bill/HB27/2023   \n",
       "1  Arizona           AZ  HB2312  https://legiscan.com/AZ/bill/HB2312/2023   \n",
       "2  Arizona           AZ  HB2711  https://legiscan.com/AZ/bill/HB2711/2023   \n",
       "3  Arizona           AZ  SB1001  https://legiscan.com/AZ/bill/SB1001/2023   \n",
       "4  Arizona           AZ  SB1026  https://legiscan.com/AZ/bill/SB1026/2023   \n",
       "\n",
       "   Bill ID  \n",
       "0  1646385  \n",
       "1  1657170  \n",
       "2  1696919  \n",
       "3  1639597  \n",
       "4  1644653  "
      ]
     },
     "execution_count": 7,
     "metadata": {},
     "output_type": "execute_result"
    }
   ],
   "source": [
    "# check the df and columns\n",
    "df.head()"
   ]
  },
  {
   "cell_type": "code",
   "execution_count": 8,
   "metadata": {},
   "outputs": [],
   "source": [
    "# make a new column in the dataframe called Sponsors\n",
    "df['Sponsors'] = ''"
   ]
  },
  {
   "cell_type": "markdown",
   "metadata": {},
   "source": [
    "---\n",
    "# Get sponsors for one bill\n"
   ]
  },
  {
   "cell_type": "code",
   "execution_count": 9,
   "metadata": {},
   "outputs": [],
   "source": [
    "# get the bill id for the first row in the df and pass it to get_bill\n",
    "# get_bill returns the bill info as a list with 1 dict inside it \n",
    "# (other bills may return more dicts, so check for that!)\n",
    "# so, we have to open the list, open each dict, and use key 'name' to get the value\n",
    "bill_id0 = df['Bill ID'][0]\n",
    "bill_info0 = legis.get_bill(bill_id0)"
   ]
  },
  {
   "cell_type": "code",
   "execution_count": 10,
   "metadata": {
    "scrolled": true
   },
   "outputs": [
    {
     "name": "stdout",
     "output_type": "stream",
     "text": [
      "[{'people_id': 22862, 'person_hash': 'aqb8e73o', 'party_id': '2', 'state_id': 2, 'party': 'R', 'role_id': 1, 'role': 'Rep', 'name': 'Thomas McKay', 'first_name': 'Thomas', 'middle_name': 'W.', 'last_name': 'McKay', 'suffix': '', 'nickname': 'Tom', 'district': 'HD-024', 'ftm_eid': 49795890, 'votesmart_id': 194415, 'opensecrets_id': '', 'knowwho_pid': 739356, 'ballotpedia': 'Thomas_McKay', 'bioguide_id': '', 'sponsor_type_id': 1, 'sponsor_order': 1, 'committee_sponsor': 0, 'committee_id': 0, 'state_federal': 0}]\n"
     ]
    }
   ],
   "source": [
    "print(bill_info0['sponsors'])"
   ]
  },
  {
   "cell_type": "code",
   "execution_count": 11,
   "metadata": {
    "scrolled": true
   },
   "outputs": [
    {
     "data": {
      "text/plain": [
       "list"
      ]
     },
     "execution_count": 11,
     "metadata": {},
     "output_type": "execute_result"
    }
   ],
   "source": [
    "type(bill_info0['sponsors'])"
   ]
  },
  {
   "cell_type": "code",
   "execution_count": 12,
   "metadata": {},
   "outputs": [
    {
     "data": {
      "text/plain": [
       "dict"
      ]
     },
     "execution_count": 12,
     "metadata": {},
     "output_type": "execute_result"
    }
   ],
   "source": [
    "type(bill_info0['sponsors'][0])"
   ]
  },
  {
   "cell_type": "code",
   "execution_count": 13,
   "metadata": {
    "scrolled": true
   },
   "outputs": [
    {
     "data": {
      "text/plain": [
       "'Thomas McKay'"
      ]
     },
     "execution_count": 13,
     "metadata": {},
     "output_type": "execute_result"
    }
   ],
   "source": [
    "bill_info0['sponsors'][0]['name']"
   ]
  },
  {
   "cell_type": "code",
   "execution_count": 14,
   "metadata": {},
   "outputs": [],
   "source": [
    "# checking legialerts.com, it looks like df['Bill ID'][1] has multiple cosponsors, \n",
    "# so let's try getting the names from that one\n",
    "# so, we have to open the list, open each dict, and use key 'name' to get the value\n",
    "bill_id1 = df['Bill ID'][1]\n",
    "bill_info1 = legis.get_bill(bill_id1)"
   ]
  },
  {
   "cell_type": "code",
   "execution_count": 15,
   "metadata": {
    "scrolled": true
   },
   "outputs": [
    {
     "name": "stdout",
     "output_type": "stream",
     "text": [
      "[{'people_id': 24239, 'person_hash': '5lotnoxe', 'party_id': '2', 'state_id': 3, 'party': 'R', 'role_id': 1, 'role': 'Rep', 'name': 'Rachel Jones', 'first_name': 'Rachel', 'middle_name': '', 'last_name': 'Jones', 'suffix': '', 'nickname': '', 'district': 'HD-017', 'ftm_eid': 55437931, 'votesmart_id': 205607, 'opensecrets_id': '', 'knowwho_pid': 0, 'ballotpedia': 'Rachel_Jones_(Arizona)', 'bioguide_id': '', 'sponsor_type_id': 1, 'sponsor_order': 1, 'committee_sponsor': 0, 'committee_id': 0, 'state_federal': 0}, {'people_id': 23000, 'person_hash': 'rv9jrvuk', 'party_id': '2', 'state_id': 3, 'party': 'R', 'role_id': 1, 'role': 'Rep', 'name': 'Lupe Diaz', 'first_name': 'Lupe', 'middle_name': '', 'last_name': 'Diaz', 'suffix': '', 'nickname': '', 'district': 'HD-014', 'ftm_eid': 0, 'votesmart_id': 200710, 'opensecrets_id': '', 'knowwho_pid': 791761, 'ballotpedia': 'Lupe_Diaz', 'bioguide_id': '', 'sponsor_type_id': 2, 'sponsor_order': 2, 'committee_sponsor': 0, 'committee_id': 0, 'state_federal': 0}, {'people_id': 24236, 'person_hash': '5fmjfuhn', 'party_id': '2', 'state_id': 3, 'party': 'R', 'role_id': 1, 'role': 'Rep', 'name': 'Liz Harris', 'first_name': 'Liz', 'middle_name': '', 'last_name': 'Harris', 'suffix': '', 'nickname': '', 'district': 'HD-013', 'ftm_eid': 55437917, 'votesmart_id': 192546, 'opensecrets_id': '', 'knowwho_pid': 0, 'ballotpedia': 'Liz_Harris', 'bioguide_id': '', 'sponsor_type_id': 2, 'sponsor_order': 3, 'committee_sponsor': 0, 'committee_id': 0, 'state_federal': 0}, {'people_id': 24249, 'person_hash': '5tjsf8mw', 'party_id': '2', 'state_id': 3, 'party': 'R', 'role_id': 1, 'role': 'Rep', 'name': 'Cory McGarr', 'first_name': 'Cory', 'middle_name': '', 'last_name': 'McGarr', 'suffix': '', 'nickname': '', 'district': 'HD-017', 'ftm_eid': 55437932, 'votesmart_id': 205608, 'opensecrets_id': '', 'knowwho_pid': 0, 'ballotpedia': 'Cory_McGarr', 'bioguide_id': '', 'sponsor_type_id': 2, 'sponsor_order': 4, 'committee_sponsor': 0, 'committee_id': 0, 'state_federal': 0}, {'people_id': 24371, 'person_hash': 'nu1lmu4e', 'party_id': '2', 'state_id': 3, 'party': 'R', 'role_id': 2, 'role': 'Sen', 'name': 'Justine Wadsack', 'first_name': 'Justine', 'middle_name': '', 'last_name': 'Wadsack', 'suffix': '', 'nickname': '', 'district': 'SD-017', 'ftm_eid': 55437850, 'votesmart_id': 192497, 'opensecrets_id': '', 'knowwho_pid': 0, 'ballotpedia': 'Justine_Wadsack', 'bioguide_id': '', 'sponsor_type_id': 2, 'sponsor_order': 5, 'committee_sponsor': 0, 'committee_id': 0, 'state_federal': 0}]\n"
     ]
    }
   ],
   "source": [
    "# yup there's a lot of them!\n",
    "print(bill_info1['sponsors'])"
   ]
  },
  {
   "cell_type": "code",
   "execution_count": 16,
   "metadata": {
    "scrolled": true
   },
   "outputs": [
    {
     "name": "stdout",
     "output_type": "stream",
     "text": [
      "Rachel Jones\n",
      "Lupe Diaz\n",
      "Liz Harris\n",
      "Cory McGarr\n",
      "Justine Wadsack\n"
     ]
    }
   ],
   "source": [
    "for sponsor in bill_info1['sponsors']:\n",
    "    print(sponsor['name'])"
   ]
  },
  {
   "cell_type": "code",
   "execution_count": 17,
   "metadata": {
    "scrolled": true
   },
   "outputs": [
    {
     "name": "stdout",
     "output_type": "stream",
     "text": [
      "Thomas McKay\n"
     ]
    }
   ],
   "source": [
    "# let's see if this also works on the first bill\n",
    "for sponsor in bill_info0['sponsors']:\n",
    "    print(sponsor['name'])"
   ]
  },
  {
   "cell_type": "markdown",
   "metadata": {},
   "source": [
    "---\n",
    "# Get sponsors for all bills"
   ]
  },
  {
   "cell_type": "code",
   "execution_count": 18,
   "metadata": {},
   "outputs": [],
   "source": [
    "dfbackup = df"
   ]
  },
  {
   "cell_type": "code",
   "execution_count": 19,
   "metadata": {},
   "outputs": [],
   "source": [
    "df['Sponsors'] = ''"
   ]
  },
  {
   "cell_type": "code",
   "execution_count": 20,
   "metadata": {},
   "outputs": [],
   "source": [
    "def get_sponsors(bill_id):\n",
    "    try:\n",
    "        bill_info = legis.get_bill(bill_id)\n",
    "        sponsornames = []\n",
    "        for sponsor in bill_info['sponsors']:\n",
    "            name = sponsor['name']\n",
    "            sponsornames.append(name)\n",
    "        return sponsornames\n",
    "    except:\n",
    "        print(bill_id, \"no sponsor found\")        \n",
    "        return None"
   ]
  },
  {
   "cell_type": "code",
   "execution_count": 21,
   "metadata": {},
   "outputs": [
    {
     "data": {
      "text/plain": [
       "['John Kavanagh']"
      ]
     },
     "execution_count": 21,
     "metadata": {},
     "output_type": "execute_result"
    }
   ],
   "source": [
    "get_sponsors(1644653)"
   ]
  },
  {
   "cell_type": "code",
   "execution_count": null,
   "metadata": {},
   "outputs": [
    {
     "name": "stdout",
     "output_type": "stream",
     "text": [
      "1685027 no sponsor found\n"
     ]
    }
   ],
   "source": [
    "df['Sponsors'] = df.apply(lambda row: get_sponsors(row['Bill ID']), axis=1)"
   ]
  },
  {
   "cell_type": "code",
   "execution_count": null,
   "metadata": {},
   "outputs": [],
   "source": [
    "df.head()"
   ]
  },
  {
   "cell_type": "code",
   "execution_count": null,
   "metadata": {},
   "outputs": [],
   "source": [
    "df.to_csv('anti-lgbtq-bills-sponsors.csv')\n",
    "dfbackup = df"
   ]
  },
  {
   "cell_type": "markdown",
   "metadata": {},
   "source": [
    "# Look at all sponsors\n",
    "Let's see if pyttsx3 can pronounce these names..."
   ]
  },
  {
   "cell_type": "code",
   "execution_count": null,
   "metadata": {},
   "outputs": [],
   "source": [
    "# turn the pandas series into a list\n",
    "sponsors_unique = list(df['Sponsors'])"
   ]
  },
  {
   "cell_type": "code",
   "execution_count": null,
   "metadata": {},
   "outputs": [],
   "source": [
    "# check it. it's a list of lists\n",
    "sponsors_unique"
   ]
  },
  {
   "cell_type": "code",
   "execution_count": null,
   "metadata": {},
   "outputs": [],
   "source": [
    "# flatten the nested lists — \n",
    "# for every sublist in toplist, for every item in that sublist, put that item into this [list]\n",
    "flat_list = [item for sublist in sponsors_unique for item in sublist]"
   ]
  },
  {
   "cell_type": "code",
   "execution_count": null,
   "metadata": {},
   "outputs": [],
   "source": [
    "# turn that into a set to remove repetitions of names\n",
    "unique_sponsors = set(flat_list)"
   ]
  },
  {
   "cell_type": "code",
   "execution_count": null,
   "metadata": {},
   "outputs": [],
   "source": [
    "# alphabetize them\n",
    "unique_sponsors = sorted(unique_sponsors)"
   ]
  },
  {
   "cell_type": "code",
   "execution_count": null,
   "metadata": {},
   "outputs": [],
   "source": [
    "unique_sponsors"
   ]
  },
  {
   "cell_type": "markdown",
   "metadata": {},
   "source": [
    "# Speech to text"
   ]
  },
  {
   "cell_type": "code",
   "execution_count": null,
   "metadata": {
    "scrolled": true
   },
   "outputs": [],
   "source": [
    "pip install pyttsx3"
   ]
  },
  {
   "cell_type": "code",
   "execution_count": null,
   "metadata": {},
   "outputs": [],
   "source": [
    "import pyttsx3\n",
    "engine = pyttsx3.init()"
   ]
  },
  {
   "cell_type": "code",
   "execution_count": null,
   "metadata": {},
   "outputs": [],
   "source": [
    "# default is SUPER FAST and kinda loud\n",
    "engine.say(\"I will speak this text\")\n",
    "engine.runAndWait()"
   ]
  },
  {
   "cell_type": "code",
   "execution_count": null,
   "metadata": {},
   "outputs": [],
   "source": [
    "\"\"\" RATE\"\"\"\n",
    "rate = engine.getProperty('rate')   # getting details of current speaking rate"
   ]
  },
  {
   "cell_type": "code",
   "execution_count": null,
   "metadata": {
    "scrolled": true
   },
   "outputs": [],
   "source": [
    "print (rate)                        #printing current voice rate"
   ]
  },
  {
   "cell_type": "code",
   "execution_count": null,
   "metadata": {},
   "outputs": [],
   "source": [
    "engine.setProperty('rate', 125)     # setting up new voice rate"
   ]
  },
  {
   "cell_type": "code",
   "execution_count": null,
   "metadata": {},
   "outputs": [],
   "source": [
    "volume = engine.getProperty('volume')   #getting to know current volume level (min=0 and max=1)"
   ]
  },
  {
   "cell_type": "code",
   "execution_count": null,
   "metadata": {},
   "outputs": [],
   "source": [
    "print (volume)                          #printing current volume level"
   ]
  },
  {
   "cell_type": "code",
   "execution_count": null,
   "metadata": {},
   "outputs": [],
   "source": [
    "engine.setProperty('volume',0.35)    # setting up volume level  between 0 and 1"
   ]
  },
  {
   "cell_type": "code",
   "execution_count": null,
   "metadata": {},
   "outputs": [],
   "source": [
    "voices = engine.getProperty('voice')       #getting details of current voice"
   ]
  },
  {
   "cell_type": "code",
   "execution_count": null,
   "metadata": {},
   "outputs": [],
   "source": [
    "print(voices)"
   ]
  },
  {
   "cell_type": "code",
   "execution_count": null,
   "metadata": {},
   "outputs": [],
   "source": [
    "engine.say(\"I will speak this text\")\n",
    "engine.runAndWait()"
   ]
  },
  {
   "cell_type": "code",
   "execution_count": null,
   "metadata": {},
   "outputs": [],
   "source": [
    "engine.setProperty('rate', 65)     # setting up new voice rate"
   ]
  },
  {
   "cell_type": "code",
   "execution_count": null,
   "metadata": {},
   "outputs": [],
   "source": [
    "engine.setProperty('voice', voices[0].id)"
   ]
  },
  {
   "cell_type": "code",
   "execution_count": null,
   "metadata": {},
   "outputs": [],
   "source": [
    "engine.say(\"I will speak this text\")\n",
    "engine.runAndWait()"
   ]
  },
  {
   "cell_type": "markdown",
   "metadata": {},
   "source": [
    "# Curse"
   ]
  },
  {
   "cell_type": "code",
   "execution_count": null,
   "metadata": {},
   "outputs": [],
   "source": [
    "# success!\n",
    "for name in unique_sponsors:\n",
    "    curse = f\"A curse upon you, {name}. A curse upon your allies, and upon all who turn their faces from your works and close their eyes to your deeds. May we live untouched by the harm you seek to visit upon us. May we flourish as you wither. May we grow and change as your ways of life are forgotten and ground into dust by our dancing. May future generations look on you with disgust. May your name be scorned until it's forgotten. May you become powerless.\"\n",
    "    engine.say(curse)\n",
    "    engine.runAndWait()"
   ]
  },
  {
   "cell_type": "code",
   "execution_count": null,
   "metadata": {},
   "outputs": [],
   "source": []
  }
 ],
 "metadata": {
  "colab": {
   "provenance": []
  },
  "kernelspec": {
   "display_name": "Python 3 (ipykernel)",
   "language": "python",
   "name": "python3"
  },
  "language_info": {
   "codemirror_mode": {
    "name": "ipython",
    "version": 3
   },
   "file_extension": ".py",
   "mimetype": "text/x-python",
   "name": "python",
   "nbconvert_exporter": "python",
   "pygments_lexer": "ipython3",
   "version": "3.9.13"
  },
  "toc": {
   "base_numbering": 1,
   "nav_menu": {},
   "number_sections": true,
   "sideBar": true,
   "skip_h1_title": false,
   "title_cell": "Table of Contents",
   "title_sidebar": "Contents",
   "toc_cell": false,
   "toc_position": {},
   "toc_section_display": true,
   "toc_window_display": false
  }
 },
 "nbformat": 4,
 "nbformat_minor": 1
}
