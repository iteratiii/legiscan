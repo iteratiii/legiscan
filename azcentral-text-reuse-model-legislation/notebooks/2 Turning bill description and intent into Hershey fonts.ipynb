{
 "cells": [
  {
   "cell_type": "markdown",
   "id": "f4ddba42",
   "metadata": {},
   "source": [
    "# Get text from the last pickle to convert"
   ]
  },
  {
   "cell_type": "code",
   "execution_count": 1,
   "id": "b380f308",
   "metadata": {},
   "outputs": [],
   "source": [
    "import pandas as pd"
   ]
  },
  {
   "cell_type": "code",
   "execution_count": 2,
   "id": "5fe31832",
   "metadata": {},
   "outputs": [],
   "source": [
    "# My pickling function.\n",
    "def datePickle(df):\n",
    "    timestr = time.strftime(\"%Y%m%d-%H%M%S\")\n",
    "    df.to_pickle(f'{timestr}-df.pickle')\n",
    "    print(\"Pickled\")\n",
    "    \n",
    "# To summon pickle, use:\n",
    "# df = pd.read_pickle('my_df.pickle')    "
   ]
  },
  {
   "cell_type": "code",
   "execution_count": 9,
   "id": "83fb9e8a",
   "metadata": {},
   "outputs": [
    {
     "data": {
      "text/html": [
       "<div>\n",
       "<style scoped>\n",
       "    .dataframe tbody tr th:only-of-type {\n",
       "        vertical-align: middle;\n",
       "    }\n",
       "\n",
       "    .dataframe tbody tr th {\n",
       "        vertical-align: top;\n",
       "    }\n",
       "\n",
       "    .dataframe thead th {\n",
       "        text-align: right;\n",
       "    }\n",
       "</style>\n",
       "<table border=\"1\" class=\"dataframe\">\n",
       "  <thead>\n",
       "    <tr style=\"text-align: right;\">\n",
       "      <th></th>\n",
       "      <th>State</th>\n",
       "      <th>Abbreviation</th>\n",
       "      <th>Number</th>\n",
       "      <th>Summary</th>\n",
       "      <th>Bill Type</th>\n",
       "      <th>Date</th>\n",
       "      <th>Status</th>\n",
       "      <th>Erin Reed's State Risk</th>\n",
       "      <th>URL</th>\n",
       "      <th>Sponsors</th>\n",
       "      <th>Bill Title</th>\n",
       "      <th>Bill Intent</th>\n",
       "    </tr>\n",
       "  </thead>\n",
       "  <tbody>\n",
       "    <tr>\n",
       "      <th>1</th>\n",
       "      <td>Alaska</td>\n",
       "      <td>AK</td>\n",
       "      <td>HB27</td>\n",
       "      <td>Designate Sex For School-sponsored Sports</td>\n",
       "      <td>Trans Sports Ban</td>\n",
       "      <td>1/19/2023</td>\n",
       "      <td>REFERRED TO EDUCATION</td>\n",
       "      <td>Moderate</td>\n",
       "      <td>https://legiscan.com/AK/bill/HB27/2023</td>\n",
       "      <td>Thomas McKay</td>\n",
       "      <td>An Act relating to school athletics, recreatio...</td>\n",
       "      <td>WE WILL SHUT YOU OUT OF PUBLIC LIFE</td>\n",
       "    </tr>\n",
       "    <tr>\n",
       "      <th>2</th>\n",
       "      <td>Alaska</td>\n",
       "      <td>AK</td>\n",
       "      <td>SB96</td>\n",
       "      <td>Sex/reproduction Education; Schools</td>\n",
       "      <td>Don't Say Gay/Forced Outing</td>\n",
       "      <td>3/8/2023</td>\n",
       "      <td>REFERRED TO JUDICIARY</td>\n",
       "      <td>Moderate</td>\n",
       "      <td>https://legiscan.com/AK/bill/SB96/2023</td>\n",
       "      <td>Rules</td>\n",
       "      <td>An Act relating to parental rights in a child&amp;...</td>\n",
       "      <td>WE WILL EMPOWER YOUR ENEMIES</td>\n",
       "    </tr>\n",
       "    <tr>\n",
       "      <th>3</th>\n",
       "      <td>Alaska</td>\n",
       "      <td>AK</td>\n",
       "      <td>HB105</td>\n",
       "      <td>Sex/reproduction Education; Schools</td>\n",
       "      <td>Don't Say Gay/Forced Outing</td>\n",
       "      <td>3/8/2023</td>\n",
       "      <td>REFERRED TO EDUCATION</td>\n",
       "      <td>Moderate</td>\n",
       "      <td>https://legiscan.com/AK/bill/HB105/2023</td>\n",
       "      <td>Rules</td>\n",
       "      <td>An Act relating to parental rights in a child&amp;...</td>\n",
       "      <td>WE WILL EMPOWER YOUR ENEMIES</td>\n",
       "    </tr>\n",
       "    <tr>\n",
       "      <th>4</th>\n",
       "      <td>Arizona</td>\n",
       "      <td>AZ</td>\n",
       "      <td>SB1028</td>\n",
       "      <td>Adult cabaret performances; prohibited locations</td>\n",
       "      <td>Drag Ban</td>\n",
       "      <td>3/22/2023</td>\n",
       "      <td>House read second time</td>\n",
       "      <td>Low</td>\n",
       "      <td>https://legiscan.com/AZ/bill/SB1028/2023</td>\n",
       "      <td>Anthony Kern</td>\n",
       "      <td>Adult cabaret performances; prohibited locations</td>\n",
       "      <td>YOUR PRESENCE IS A PERVERSION</td>\n",
       "    </tr>\n",
       "    <tr>\n",
       "      <th>5</th>\n",
       "      <td>Arizona</td>\n",
       "      <td>AZ</td>\n",
       "      <td>SB1030</td>\n",
       "      <td>Sexually explicit performances; regulation</td>\n",
       "      <td>Drag Ban</td>\n",
       "      <td>3/21/2023</td>\n",
       "      <td>House read second time</td>\n",
       "      <td>Low</td>\n",
       "      <td>https://legiscan.com/AZ/bill/SB1030/2023</td>\n",
       "      <td>Anthony Kern</td>\n",
       "      <td>Sexually explicit performances; regulation</td>\n",
       "      <td>YOUR PRESENCE IS A PERVERSION</td>\n",
       "    </tr>\n",
       "  </tbody>\n",
       "</table>\n",
       "</div>"
      ],
      "text/plain": [
       "0    State Abbreviation  Number  \\\n",
       "1   Alaska           AK    HB27   \n",
       "2   Alaska           AK    SB96   \n",
       "3   Alaska           AK   HB105   \n",
       "4  Arizona           AZ  SB1028   \n",
       "5  Arizona           AZ  SB1030   \n",
       "\n",
       "0                                           Summary  \\\n",
       "1         Designate Sex For School-sponsored Sports   \n",
       "2               Sex/reproduction Education; Schools   \n",
       "3               Sex/reproduction Education; Schools   \n",
       "4  Adult cabaret performances; prohibited locations   \n",
       "5        Sexually explicit performances; regulation   \n",
       "\n",
       "0                    Bill Type       Date                  Status  \\\n",
       "1             Trans Sports Ban  1/19/2023   REFERRED TO EDUCATION   \n",
       "2  Don't Say Gay/Forced Outing   3/8/2023   REFERRED TO JUDICIARY   \n",
       "3  Don't Say Gay/Forced Outing   3/8/2023   REFERRED TO EDUCATION   \n",
       "4                     Drag Ban  3/22/2023  House read second time   \n",
       "5                     Drag Ban  3/21/2023  House read second time   \n",
       "\n",
       "0 Erin Reed's State Risk                                       URL  \\\n",
       "1               Moderate    https://legiscan.com/AK/bill/HB27/2023   \n",
       "2               Moderate    https://legiscan.com/AK/bill/SB96/2023   \n",
       "3               Moderate   https://legiscan.com/AK/bill/HB105/2023   \n",
       "4                    Low  https://legiscan.com/AZ/bill/SB1028/2023   \n",
       "5                    Low  https://legiscan.com/AZ/bill/SB1030/2023   \n",
       "\n",
       "0      Sponsors                                         Bill Title  \\\n",
       "1  Thomas McKay  An Act relating to school athletics, recreatio...   \n",
       "2         Rules  An Act relating to parental rights in a child&...   \n",
       "3         Rules  An Act relating to parental rights in a child&...   \n",
       "4  Anthony Kern   Adult cabaret performances; prohibited locations   \n",
       "5  Anthony Kern         Sexually explicit performances; regulation   \n",
       "\n",
       "0                          Bill Intent  \n",
       "1  WE WILL SHUT YOU OUT OF PUBLIC LIFE  \n",
       "2         WE WILL EMPOWER YOUR ENEMIES  \n",
       "3         WE WILL EMPOWER YOUR ENEMIES  \n",
       "4        YOUR PRESENCE IS A PERVERSION  \n",
       "5        YOUR PRESENCE IS A PERVERSION  "
      ]
     },
     "execution_count": 9,
     "metadata": {},
     "output_type": "execute_result"
    }
   ],
   "source": [
    "df = pd.read_pickle('20230327-235802-df.pickle')\n",
    "df.head()"
   ]
  },
  {
   "cell_type": "code",
   "execution_count": 10,
   "id": "1dd829f1",
   "metadata": {},
   "outputs": [
    {
     "data": {
      "text/plain": [
       "'An Act relating to school athletics, recreation, athletic teams, and sports.'"
      ]
     },
     "execution_count": 10,
     "metadata": {},
     "output_type": "execute_result"
    }
   ],
   "source": [
    "df.iloc[0]['Bill Title']"
   ]
  },
  {
   "cell_type": "code",
   "execution_count": 11,
   "id": "1e96e1a1",
   "metadata": {},
   "outputs": [
    {
     "data": {
      "text/plain": [
       "'WE WILL SHUT YOU OUT OF PUBLIC LIFE'"
      ]
     },
     "execution_count": 11,
     "metadata": {},
     "output_type": "execute_result"
    }
   ],
   "source": [
    "df.iloc[0]['Bill Intent']"
   ]
  },
  {
   "cell_type": "markdown",
   "id": "bc4e391e",
   "metadata": {},
   "source": [
    "# Hershey text tests\n",
    "I'm not sure where to begin. Should I create an SVG first? Should I [turn this into Hershey Text and then lay it out?](https://nelsonslog.wordpress.com/category/plotter/) Confused.\n",
    "\n",
    "To try:\n",
    "- [ ] [Hershey-Fonts](https://pypi.org/project/Hershey-Fonts/) [doc](https://github.com/apshu/HersheyFonts/blob/master/HersheyFonts/HersheyFonts.py)\n",
    "- [ ] [vpype](https://vpype.readthedocs.io/en/latest/api/vpype.html#vpype.text_block) [text](https://vpype.readthedocs.io/en/latest/reference.html#text)\n",
    "- [ ] Could I incorporate [hershey.py](https://gitlab.com/oskay/hershey-text/-/blob/Inkscape_v1/hershey-text/hershey.py) from AxiDraw?"
   ]
  },
  {
   "cell_type": "code",
   "execution_count": 13,
   "id": "ce20f5b3",
   "metadata": {},
   "outputs": [
    {
     "name": "stdout",
     "output_type": "stream",
     "text": [
      "Collecting Hershey-Fonts\n",
      "  Using cached Hershey_Fonts-2.1.0-py2.py3-none-any.whl (63 kB)\n",
      "Installing collected packages: Hershey-Fonts\n",
      "Successfully installed Hershey-Fonts-2.1.0\n",
      "Note: you may need to restart the kernel to use updated packages.\n"
     ]
    }
   ],
   "source": [
    "pip install Hershey-Fonts"
   ]
  },
  {
   "cell_type": "code",
   "execution_count": 14,
   "id": "b2959c6c",
   "metadata": {},
   "outputs": [
    {
     "name": "stdout",
     "output_type": "stream",
     "text": [
      "['futural', 'astrology', 'cursive', 'cyrilc_1', 'cyrillic', 'futuram', 'gothgbt', 'gothgrt', 'gothiceng', 'gothicger', 'gothicita', 'gothitt', 'greek', 'greekc', 'greeks', 'japanese', 'markers', 'mathlow', 'mathupp', 'meteorology', 'music', 'rowmand', 'rowmans', 'rowmant', 'scriptc', 'scripts', 'symbolic', 'timesg', 'timesi', 'timesib', 'timesr', 'timesrb']\n"
     ]
    }
   ],
   "source": [
    "# List the default font options\n",
    "from HersheyFonts import HersheyFonts\n",
    "print(HersheyFonts().default_font_names)"
   ]
  },
  {
   "cell_type": "code",
   "execution_count": 35,
   "id": "9ab10d9c",
   "metadata": {},
   "outputs": [
    {
     "data": {
      "text/plain": [
       "'timesr'"
      ]
     },
     "execution_count": 35,
     "metadata": {},
     "output_type": "execute_result"
    }
   ],
   "source": [
    "# Load Times Roman\n",
    "hf = HersheyFonts()\n",
    "hf.load_default_font('timesr')"
   ]
  },
  {
   "cell_type": "code",
   "execution_count": 143,
   "id": "278863b2",
   "metadata": {},
   "outputs": [],
   "source": [
    "hilines = hf.lines_for_text(\"bunny!\")"
   ]
  },
  {
   "cell_type": "code",
   "execution_count": 144,
   "id": "358335bd",
   "metadata": {
    "scrolled": true
   },
   "outputs": [
    {
     "name": "stdout",
     "output_type": "stream",
     "text": [
      "((5, -12), (5, 9))\n",
      "((6, -12), (6, 9))\n",
      "((6, -2), (8, -4))\n",
      "((8, -4), (10, -5))\n",
      "((10, -5), (12, -5))\n",
      "((12, -5), (15, -4))\n",
      "((15, -4), (17, -2))\n",
      "((17, -2), (18, 1))\n",
      "((18, 1), (18, 3))\n",
      "((18, 3), (17, 6))\n",
      "((17, 6), (15, 8))\n",
      "((15, 8), (12, 9))\n",
      "((12, 9), (10, 9))\n",
      "((10, 9), (8, 8))\n",
      "((8, 8), (6, 6))\n",
      "((12, -5), (14, -4))\n",
      "((14, -4), (16, -2))\n",
      "((16, -2), (17, 1))\n",
      "((17, 1), (17, 3))\n",
      "((17, 3), (16, 6))\n",
      "((16, 6), (14, 8))\n",
      "((14, 8), (12, 9))\n",
      "((2, -12), (6, -12))\n",
      "((26, -5), (26, 6))\n",
      "((26, 6), (27, 8))\n",
      "((27, 8), (30, 9))\n",
      "((30, 9), (32, 9))\n",
      "((32, 9), (35, 8))\n",
      "((35, 8), (37, 6))\n",
      "((27, -5), (27, 6))\n",
      "((27, 6), (28, 8))\n",
      "((28, 8), (30, 9))\n",
      "((37, -5), (37, 9))\n",
      "((38, -5), (38, 9))\n",
      "((23, -5), (27, -5))\n",
      "((34, -5), (38, -5))\n",
      "((37, 9), (41, 9))\n",
      "((48, -5), (48, 9))\n",
      "((49, -5), (49, 9))\n",
      "((49, -2), (51, -4))\n",
      "((51, -4), (54, -5))\n",
      "((54, -5), (56, -5))\n",
      "((56, -5), (59, -4))\n",
      "((59, -4), (60, -2))\n",
      "((60, -2), (60, 9))\n",
      "((56, -5), (58, -4))\n",
      "((58, -4), (59, -2))\n",
      "((59, -2), (59, 9))\n",
      "((45, -5), (49, -5))\n",
      "((45, 9), (52, 9))\n",
      "((56, 9), (63, 9))\n",
      "((70, -5), (70, 9))\n",
      "((71, -5), (71, 9))\n",
      "((71, -2), (73, -4))\n",
      "((73, -4), (76, -5))\n",
      "((76, -5), (78, -5))\n",
      "((78, -5), (81, -4))\n",
      "((81, -4), (82, -2))\n",
      "((82, -2), (82, 9))\n",
      "((78, -5), (80, -4))\n",
      "((80, -4), (81, -2))\n",
      "((81, -2), (81, 9))\n",
      "((67, -5), (71, -5))\n",
      "((67, 9), (74, 9))\n",
      "((78, 9), (85, 9))\n",
      "((91, -5), (97, 9))\n",
      "((92, -5), (97, 7))\n",
      "((103, -5), (97, 9))\n",
      "((97, 9), (95, 13))\n",
      "((95, 13), (93, 15))\n",
      "((93, 15), (91, 16))\n",
      "((91, 16), (90, 16))\n",
      "((90, 16), (89, 15))\n",
      "((89, 15), (90, 14))\n",
      "((90, 14), (91, 15))\n",
      "((89, -5), (95, -5))\n",
      "((99, -5), (105, -5))\n",
      "((111, -12), (110, -10))\n",
      "((110, -10), (111, 2))\n",
      "((111, 2), (112, -10))\n",
      "((112, -10), (111, -12))\n",
      "((111, -10), (111, -4))\n",
      "((111, 7), (110, 8))\n",
      "((110, 8), (111, 9))\n",
      "((111, 9), (112, 8))\n",
      "((112, 8), (111, 7))\n"
     ]
    }
   ],
   "source": [
    "for line in hilines:\n",
    "    print(line)"
   ]
  },
  {
   "cell_type": "code",
   "execution_count": 127,
   "id": "b1f58a04",
   "metadata": {},
   "outputs": [
    {
     "data": {
      "text/plain": [
       "<generator object HersheyFonts._HersheyRenderIterator.text_strokes at 0x7f8faa4fe660>"
      ]
     },
     "execution_count": 127,
     "metadata": {},
     "output_type": "execute_result"
    }
   ],
   "source": [
    "hilines"
   ]
  },
  {
   "cell_type": "code",
   "execution_count": 160,
   "id": "84bebec0",
   "metadata": {},
   "outputs": [],
   "source": [
    "from pyaxidraw import axidraw   # import module\n",
    "ad = axidraw.AxiDraw()          # Initialize class"
   ]
  },
  {
   "cell_type": "code",
   "execution_count": 191,
   "id": "3e5b237d",
   "metadata": {},
   "outputs": [],
   "source": [
    "ad.interactive()                # Enter interactive context\n",
    "if not ad.connect():            # Open serial port to AxiDraw;\n",
    "    quit()                      #   Exit, if no connection.\n",
    "ad.options.units = 2            # set working units to cm.\n",
    "ad.update()                     # Process changes to options\n",
    "ad.moveto(100, 0)               # Pen-up move"
   ]
  },
  {
   "cell_type": "code",
   "execution_count": 192,
   "id": "b16d58f6",
   "metadata": {},
   "outputs": [],
   "source": [
    "# No longer prints just bottom half of the word; have to begin away from 0,0\n",
    "for (x1, y1), (x2, y2) in hf.lines_for_text(\"bunny!\"):\n",
    "    ad.moveto(x1,y1+100)\n",
    "    ad.lineto(x2,y2+100)    \n",
    "# Return home and disconnect\n",
    "ad.moveto(0, 0)               # Pen-up move\n",
    "ad.disconnect()                 # Close serial port to AxiDraw"
   ]
  },
  {
   "cell_type": "markdown",
   "id": "87ba4d0a",
   "metadata": {},
   "source": [
    "# Example from AxiDraw API reference"
   ]
  },
  {
   "cell_type": "code",
   "execution_count": 167,
   "id": "aea8f45d",
   "metadata": {},
   "outputs": [],
   "source": [
    "# Example from AxiDraw\n",
    "# Draws an X on the paper\n",
    "\n",
    "from pyaxidraw import axidraw   # import module\n",
    "ad = axidraw.AxiDraw()          # Initialize class\n",
    "ad.interactive()                # Enter interactive context\n",
    "if not ad.connect():            # Open serial port to AxiDraw;\n",
    "    quit()                      #   Exit, if no connection.\n",
    "                                # Absolute moves follow:\n",
    "ad.moveto(1, 1)                 # Pen-up move to (1 inch, 1 inch)\n",
    "ad.lineto(2, 2)                 # Pen-down move, to (2 inch, 1 inch)\n",
    "ad.moveto(2, 1)\n",
    "ad.lineto(1, 2)\n",
    "ad.moveto(0, 0)                 # Pen-up move, back to origin.\n",
    "ad.disconnect()                 # Close serial port to AxiDraw"
   ]
  }
 ],
 "metadata": {
  "kernelspec": {
   "display_name": "Python 3 (ipykernel)",
   "language": "python",
   "name": "python3"
  },
  "language_info": {
   "codemirror_mode": {
    "name": "ipython",
    "version": 3
   },
   "file_extension": ".py",
   "mimetype": "text/x-python",
   "name": "python",
   "nbconvert_exporter": "python",
   "pygments_lexer": "ipython3",
   "version": "3.9.13"
  }
 },
 "nbformat": 4,
 "nbformat_minor": 5
}
