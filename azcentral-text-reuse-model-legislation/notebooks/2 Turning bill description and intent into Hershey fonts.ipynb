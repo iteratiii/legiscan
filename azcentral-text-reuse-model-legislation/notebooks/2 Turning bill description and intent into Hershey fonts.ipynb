{
 "cells": [
  {
   "cell_type": "markdown",
   "id": "e1e06a8b",
   "metadata": {},
   "source": [
    "# Get text from the last pickle to convert"
   ]
  },
  {
   "cell_type": "code",
   "execution_count": 1,
   "id": "0e675b92",
   "metadata": {},
   "outputs": [],
   "source": [
    "import pandas as pd"
   ]
  },
  {
   "cell_type": "code",
   "execution_count": 2,
   "id": "1b9e105b",
   "metadata": {},
   "outputs": [],
   "source": [
    "# My pickling function.\n",
    "def datePickle(df):\n",
    "    timestr = time.strftime(\"%Y%m%d-%H%M%S\")\n",
    "    df.to_pickle(f'{timestr}-df.pickle')\n",
    "    print(\"Pickled\")\n",
    "    \n",
    "# To summon pickle, use:\n",
    "# df = pd.read_pickle('my_df.pickle')    "
   ]
  },
  {
   "cell_type": "code",
   "execution_count": 9,
   "id": "17e2e14c",
   "metadata": {},
   "outputs": [
    {
     "data": {
      "text/html": [
       "<div>\n",
       "<style scoped>\n",
       "    .dataframe tbody tr th:only-of-type {\n",
       "        vertical-align: middle;\n",
       "    }\n",
       "\n",
       "    .dataframe tbody tr th {\n",
       "        vertical-align: top;\n",
       "    }\n",
       "\n",
       "    .dataframe thead th {\n",
       "        text-align: right;\n",
       "    }\n",
       "</style>\n",
       "<table border=\"1\" class=\"dataframe\">\n",
       "  <thead>\n",
       "    <tr style=\"text-align: right;\">\n",
       "      <th></th>\n",
       "      <th>State</th>\n",
       "      <th>Abbreviation</th>\n",
       "      <th>Number</th>\n",
       "      <th>Summary</th>\n",
       "      <th>Bill Type</th>\n",
       "      <th>Date</th>\n",
       "      <th>Status</th>\n",
       "      <th>Erin Reed's State Risk</th>\n",
       "      <th>URL</th>\n",
       "      <th>Sponsors</th>\n",
       "      <th>Bill Title</th>\n",
       "      <th>Bill Intent</th>\n",
       "    </tr>\n",
       "  </thead>\n",
       "  <tbody>\n",
       "    <tr>\n",
       "      <th>1</th>\n",
       "      <td>Alaska</td>\n",
       "      <td>AK</td>\n",
       "      <td>HB27</td>\n",
       "      <td>Designate Sex For School-sponsored Sports</td>\n",
       "      <td>Trans Sports Ban</td>\n",
       "      <td>1/19/2023</td>\n",
       "      <td>REFERRED TO EDUCATION</td>\n",
       "      <td>Moderate</td>\n",
       "      <td>https://legiscan.com/AK/bill/HB27/2023</td>\n",
       "      <td>Thomas McKay</td>\n",
       "      <td>An Act relating to school athletics, recreatio...</td>\n",
       "      <td>WE WILL SHUT YOU OUT OF PUBLIC LIFE</td>\n",
       "    </tr>\n",
       "    <tr>\n",
       "      <th>2</th>\n",
       "      <td>Alaska</td>\n",
       "      <td>AK</td>\n",
       "      <td>SB96</td>\n",
       "      <td>Sex/reproduction Education; Schools</td>\n",
       "      <td>Don't Say Gay/Forced Outing</td>\n",
       "      <td>3/8/2023</td>\n",
       "      <td>REFERRED TO JUDICIARY</td>\n",
       "      <td>Moderate</td>\n",
       "      <td>https://legiscan.com/AK/bill/SB96/2023</td>\n",
       "      <td>Rules</td>\n",
       "      <td>An Act relating to parental rights in a child&amp;...</td>\n",
       "      <td>WE WILL EMPOWER YOUR ENEMIES</td>\n",
       "    </tr>\n",
       "    <tr>\n",
       "      <th>3</th>\n",
       "      <td>Alaska</td>\n",
       "      <td>AK</td>\n",
       "      <td>HB105</td>\n",
       "      <td>Sex/reproduction Education; Schools</td>\n",
       "      <td>Don't Say Gay/Forced Outing</td>\n",
       "      <td>3/8/2023</td>\n",
       "      <td>REFERRED TO EDUCATION</td>\n",
       "      <td>Moderate</td>\n",
       "      <td>https://legiscan.com/AK/bill/HB105/2023</td>\n",
       "      <td>Rules</td>\n",
       "      <td>An Act relating to parental rights in a child&amp;...</td>\n",
       "      <td>WE WILL EMPOWER YOUR ENEMIES</td>\n",
       "    </tr>\n",
       "    <tr>\n",
       "      <th>4</th>\n",
       "      <td>Arizona</td>\n",
       "      <td>AZ</td>\n",
       "      <td>SB1028</td>\n",
       "      <td>Adult cabaret performances; prohibited locations</td>\n",
       "      <td>Drag Ban</td>\n",
       "      <td>3/22/2023</td>\n",
       "      <td>House read second time</td>\n",
       "      <td>Low</td>\n",
       "      <td>https://legiscan.com/AZ/bill/SB1028/2023</td>\n",
       "      <td>Anthony Kern</td>\n",
       "      <td>Adult cabaret performances; prohibited locations</td>\n",
       "      <td>YOUR PRESENCE IS A PERVERSION</td>\n",
       "    </tr>\n",
       "    <tr>\n",
       "      <th>5</th>\n",
       "      <td>Arizona</td>\n",
       "      <td>AZ</td>\n",
       "      <td>SB1030</td>\n",
       "      <td>Sexually explicit performances; regulation</td>\n",
       "      <td>Drag Ban</td>\n",
       "      <td>3/21/2023</td>\n",
       "      <td>House read second time</td>\n",
       "      <td>Low</td>\n",
       "      <td>https://legiscan.com/AZ/bill/SB1030/2023</td>\n",
       "      <td>Anthony Kern</td>\n",
       "      <td>Sexually explicit performances; regulation</td>\n",
       "      <td>YOUR PRESENCE IS A PERVERSION</td>\n",
       "    </tr>\n",
       "  </tbody>\n",
       "</table>\n",
       "</div>"
      ],
      "text/plain": [
       "0    State Abbreviation  Number  \\\n",
       "1   Alaska           AK    HB27   \n",
       "2   Alaska           AK    SB96   \n",
       "3   Alaska           AK   HB105   \n",
       "4  Arizona           AZ  SB1028   \n",
       "5  Arizona           AZ  SB1030   \n",
       "\n",
       "0                                           Summary  \\\n",
       "1         Designate Sex For School-sponsored Sports   \n",
       "2               Sex/reproduction Education; Schools   \n",
       "3               Sex/reproduction Education; Schools   \n",
       "4  Adult cabaret performances; prohibited locations   \n",
       "5        Sexually explicit performances; regulation   \n",
       "\n",
       "0                    Bill Type       Date                  Status  \\\n",
       "1             Trans Sports Ban  1/19/2023   REFERRED TO EDUCATION   \n",
       "2  Don't Say Gay/Forced Outing   3/8/2023   REFERRED TO JUDICIARY   \n",
       "3  Don't Say Gay/Forced Outing   3/8/2023   REFERRED TO EDUCATION   \n",
       "4                     Drag Ban  3/22/2023  House read second time   \n",
       "5                     Drag Ban  3/21/2023  House read second time   \n",
       "\n",
       "0 Erin Reed's State Risk                                       URL  \\\n",
       "1               Moderate    https://legiscan.com/AK/bill/HB27/2023   \n",
       "2               Moderate    https://legiscan.com/AK/bill/SB96/2023   \n",
       "3               Moderate   https://legiscan.com/AK/bill/HB105/2023   \n",
       "4                    Low  https://legiscan.com/AZ/bill/SB1028/2023   \n",
       "5                    Low  https://legiscan.com/AZ/bill/SB1030/2023   \n",
       "\n",
       "0      Sponsors                                         Bill Title  \\\n",
       "1  Thomas McKay  An Act relating to school athletics, recreatio...   \n",
       "2         Rules  An Act relating to parental rights in a child&...   \n",
       "3         Rules  An Act relating to parental rights in a child&...   \n",
       "4  Anthony Kern   Adult cabaret performances; prohibited locations   \n",
       "5  Anthony Kern         Sexually explicit performances; regulation   \n",
       "\n",
       "0                          Bill Intent  \n",
       "1  WE WILL SHUT YOU OUT OF PUBLIC LIFE  \n",
       "2         WE WILL EMPOWER YOUR ENEMIES  \n",
       "3         WE WILL EMPOWER YOUR ENEMIES  \n",
       "4        YOUR PRESENCE IS A PERVERSION  \n",
       "5        YOUR PRESENCE IS A PERVERSION  "
      ]
     },
     "execution_count": 9,
     "metadata": {},
     "output_type": "execute_result"
    }
   ],
   "source": [
    "df = pd.read_pickle('20230327-235802-df.pickle')\n",
    "df.head()"
   ]
  },
  {
   "cell_type": "code",
   "execution_count": 10,
   "id": "8c3af051",
   "metadata": {},
   "outputs": [
    {
     "data": {
      "text/plain": [
       "'An Act relating to school athletics, recreation, athletic teams, and sports.'"
      ]
     },
     "execution_count": 10,
     "metadata": {},
     "output_type": "execute_result"
    }
   ],
   "source": [
    "df.iloc[0]['Bill Title']"
   ]
  },
  {
   "cell_type": "code",
   "execution_count": 11,
   "id": "a4d7d7cc",
   "metadata": {},
   "outputs": [
    {
     "data": {
      "text/plain": [
       "'WE WILL SHUT YOU OUT OF PUBLIC LIFE'"
      ]
     },
     "execution_count": 11,
     "metadata": {},
     "output_type": "execute_result"
    }
   ],
   "source": [
    "df.iloc[0]['Bill Intent']"
   ]
  },
  {
   "cell_type": "markdown",
   "id": "f15b92db",
   "metadata": {},
   "source": [
    "# Hershey text tests\n",
    "I'm not sure where to begin. Should I create an SVG first? Should I [turn this into Hershey Text and then lay it out?](https://nelsonslog.wordpress.com/category/plotter/) Confused.\n",
    "\n",
    "To try:\n",
    "- [ ] [Hershey-Fonts](https://pypi.org/project/Hershey-Fonts/) [doc](https://github.com/apshu/HersheyFonts/blob/master/HersheyFonts/HersheyFonts.py)\n",
    "- [ ] [vpype](https://vpype.readthedocs.io/en/latest/api/vpype.html#vpype.text_block) [text](https://vpype.readthedocs.io/en/latest/reference.html#text)\n",
    "- [ ] Could I incorporate [hershey.py](https://gitlab.com/oskay/hershey-text/-/blob/Inkscape_v1/hershey-text/hershey.py) from AxiDraw?"
   ]
  },
  {
   "cell_type": "code",
   "execution_count": 13,
   "id": "78498d86",
   "metadata": {},
   "outputs": [
    {
     "name": "stdout",
     "output_type": "stream",
     "text": [
      "Collecting Hershey-Fonts\n",
      "  Using cached Hershey_Fonts-2.1.0-py2.py3-none-any.whl (63 kB)\n",
      "Installing collected packages: Hershey-Fonts\n",
      "Successfully installed Hershey-Fonts-2.1.0\n",
      "Note: you may need to restart the kernel to use updated packages.\n"
     ]
    }
   ],
   "source": [
    "pip install Hershey-Fonts"
   ]
  },
  {
   "cell_type": "code",
   "execution_count": 14,
   "id": "058bbead",
   "metadata": {},
   "outputs": [
    {
     "name": "stdout",
     "output_type": "stream",
     "text": [
      "['futural', 'astrology', 'cursive', 'cyrilc_1', 'cyrillic', 'futuram', 'gothgbt', 'gothgrt', 'gothiceng', 'gothicger', 'gothicita', 'gothitt', 'greek', 'greekc', 'greeks', 'japanese', 'markers', 'mathlow', 'mathupp', 'meteorology', 'music', 'rowmand', 'rowmans', 'rowmant', 'scriptc', 'scripts', 'symbolic', 'timesg', 'timesi', 'timesib', 'timesr', 'timesrb']\n"
     ]
    }
   ],
   "source": [
    "# List the default font options\n",
    "from HersheyFonts import HersheyFonts\n",
    "print(HersheyFonts().default_font_names)"
   ]
  },
  {
   "cell_type": "code",
   "execution_count": 35,
   "id": "5efd5072",
   "metadata": {},
   "outputs": [
    {
     "data": {
      "text/plain": [
       "'timesr'"
      ]
     },
     "execution_count": 35,
     "metadata": {},
     "output_type": "execute_result"
    }
   ],
   "source": [
    "# Load Times Roman\n",
    "hf = HersheyFonts()\n",
    "hf.load_default_font('timesr')"
   ]
  },
  {
   "cell_type": "code",
   "execution_count": 136,
   "id": "60e91540",
   "metadata": {},
   "outputs": [],
   "source": [
    "hilines = hf.strokes_for_text(\"X\")"
   ]
  },
  {
   "cell_type": "code",
   "execution_count": 137,
   "id": "964fd953",
   "metadata": {
    "scrolled": true
   },
   "outputs": [
    {
     "name": "stdout",
     "output_type": "stream",
     "text": [
      "[(3, -12), (16, 9)]\n",
      "[(4, -12), (17, 9)]\n",
      "[(17, -12), (3, 9)]\n",
      "[(1, -12), (7, -12)]\n",
      "[(13, -12), (19, -12)]\n",
      "[(1, 9), (7, 9)]\n",
      "[(13, 9), (19, 9)]\n"
     ]
    }
   ],
   "source": [
    "for line in hilines:\n",
    "    print(line)"
   ]
  },
  {
   "cell_type": "code",
   "execution_count": 127,
   "id": "8968203c",
   "metadata": {},
   "outputs": [
    {
     "data": {
      "text/plain": [
       "<generator object HersheyFonts._HersheyRenderIterator.text_strokes at 0x7f8faa4fe660>"
      ]
     },
     "execution_count": 127,
     "metadata": {},
     "output_type": "execute_result"
    }
   ],
   "source": [
    "hilines"
   ]
  },
  {
   "cell_type": "code",
   "execution_count": 134,
   "id": "dc230a52",
   "metadata": {},
   "outputs": [],
   "source": [
    "for line in hilines:\n",
    "    print(line)"
   ]
  },
  {
   "cell_type": "code",
   "execution_count": 116,
   "id": "9dbc1f43",
   "metadata": {},
   "outputs": [],
   "source": [
    "from pyaxidraw import axidraw   # import module\n",
    "ad = axidraw.AxiDraw()          # Initialize class\n",
    "ad.interactive()                # Enter interactive context\n",
    "if not ad.connect():            # Open serial port to AxiDraw;\n",
    "    quit()                      #   Exit, if no connection.\n",
    "ad.options.units = 2            # set working units to cm.\n",
    "ad.update()                     # Process changes to options     "
   ]
  },
  {
   "cell_type": "code",
   "execution_count": 119,
   "id": "b963f5ee",
   "metadata": {},
   "outputs": [],
   "source": [
    "ad.moveto(0, 0)               # Pen-up move"
   ]
  },
  {
   "cell_type": "code",
   "execution_count": 108,
   "id": "6bd4ad4b",
   "metadata": {},
   "outputs": [],
   "source": [
    "ad.moveto(3, -12)\n",
    "ad.lineto(16, 9)\n",
    "ad.moveto(4, -12)\n",
    "ad.lineto(17, 9)\n",
    "ad.moveto(17, -12)\n",
    "ad.lineto(3, 9)\n",
    "ad.moveto(1, -12)\n",
    "ad.lineto(7, -12)\n",
    "ad.moveto(13, -12)\n",
    "ad.lineto(19, -12)\n",
    "ad.moveto(1, 9)\n",
    "ad.lineto(7, 9)\n",
    "ad.moveto(13, 9)\n",
    "ad.lineto(19, 9)\n",
    "ad.disconnect()                 # Close serial port to AxiDraw"
   ]
  },
  {
   "cell_type": "code",
   "execution_count": 53,
   "id": "33fb83bd",
   "metadata": {},
   "outputs": [],
   "source": [
    "for line in hilines:\n",
    "    ad.moveto(line[0])\n",
    "    ad.lineto(line[1])\n",
    "ad.disconnect()                 # Close serial port to AxiDraw"
   ]
  },
  {
   "cell_type": "code",
   "execution_count": 140,
   "id": "f33a3803",
   "metadata": {},
   "outputs": [],
   "source": [
    "# Example from AxiDraw\n",
    "\n",
    "from pyaxidraw import axidraw   # import module\n",
    "ad = axidraw.AxiDraw()          # Initialize class\n",
    "ad.interactive()                # Enter interactive context\n",
    "if not ad.connect():            # Open serial port to AxiDraw;\n",
    "    quit()                      #   Exit, if no connection.\n",
    "                                # Absolute moves follow:\n",
    "ad.moveto(1, 1)                 # Pen-up move to (1 inch, 1 inch)\n",
    "ad.lineto(2, 2)                 # Pen-down move, to (2 inch, 1 inch)\n",
    "ad.moveto(2, 1)\n",
    "ad.lineto(1, 2)\n",
    "ad.moveto(0, 0)                 # Pen-up move, back to origin.\n",
    "ad.disconnect()                 # Close serial port to AxiDraw"
   ]
  }
 ],
 "metadata": {
  "kernelspec": {
   "display_name": "Python 3 (ipykernel)",
   "language": "python",
   "name": "python3"
  },
  "language_info": {
   "codemirror_mode": {
    "name": "ipython",
    "version": 3
   },
   "file_extension": ".py",
   "mimetype": "text/x-python",
   "name": "python",
   "nbconvert_exporter": "python",
   "pygments_lexer": "ipython3",
   "version": "3.9.13"
  }
 },
 "nbformat": 4,
 "nbformat_minor": 5
}
