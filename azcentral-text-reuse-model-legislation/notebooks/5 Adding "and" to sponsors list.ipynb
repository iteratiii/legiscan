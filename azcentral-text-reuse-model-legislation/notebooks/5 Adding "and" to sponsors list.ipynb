{
 "cells": [
  {
   "cell_type": "code",
   "execution_count": 1,
   "id": "8e7be08f",
   "metadata": {},
   "outputs": [],
   "source": [
    "import pandas as pd"
   ]
  },
  {
   "cell_type": "code",
   "execution_count": 66,
   "id": "5de6f0d9",
   "metadata": {},
   "outputs": [],
   "source": [
    "df = pd.read_csv('20230327-235802-df.csv')"
   ]
  },
  {
   "cell_type": "code",
   "execution_count": 67,
   "id": "594ce9a3",
   "metadata": {},
   "outputs": [
    {
     "data": {
      "text/html": [
       "<div>\n",
       "<style scoped>\n",
       "    .dataframe tbody tr th:only-of-type {\n",
       "        vertical-align: middle;\n",
       "    }\n",
       "\n",
       "    .dataframe tbody tr th {\n",
       "        vertical-align: top;\n",
       "    }\n",
       "\n",
       "    .dataframe thead th {\n",
       "        text-align: right;\n",
       "    }\n",
       "</style>\n",
       "<table border=\"1\" class=\"dataframe\">\n",
       "  <thead>\n",
       "    <tr style=\"text-align: right;\">\n",
       "      <th></th>\n",
       "      <th>State</th>\n",
       "      <th>Abbreviation</th>\n",
       "      <th>Number</th>\n",
       "      <th>Summary</th>\n",
       "      <th>Bill Type</th>\n",
       "      <th>Date</th>\n",
       "      <th>Status</th>\n",
       "      <th>Erin Reed's State Risk</th>\n",
       "      <th>URL</th>\n",
       "      <th>Sponsors</th>\n",
       "      <th>Bill Title</th>\n",
       "      <th>Bill Intent</th>\n",
       "    </tr>\n",
       "  </thead>\n",
       "  <tbody>\n",
       "    <tr>\n",
       "      <th>0</th>\n",
       "      <td>Alaska</td>\n",
       "      <td>AK</td>\n",
       "      <td>HB27</td>\n",
       "      <td>Designate Sex For School-sponsored Sports</td>\n",
       "      <td>Trans Sports Ban</td>\n",
       "      <td>1/19/2023</td>\n",
       "      <td>REFERRED TO EDUCATION</td>\n",
       "      <td>Moderate</td>\n",
       "      <td>https://legiscan.com/AK/bill/HB27/2023</td>\n",
       "      <td>Thomas McKay</td>\n",
       "      <td>An Act relating to school athletics, recreatio...</td>\n",
       "      <td>WE WILL SHUT YOU OUT OF PUBLIC LIFE</td>\n",
       "    </tr>\n",
       "    <tr>\n",
       "      <th>1</th>\n",
       "      <td>Alaska</td>\n",
       "      <td>AK</td>\n",
       "      <td>SB96</td>\n",
       "      <td>Sex/reproduction Education; Schools</td>\n",
       "      <td>Don't Say Gay/Forced Outing</td>\n",
       "      <td>3/8/2023</td>\n",
       "      <td>REFERRED TO JUDICIARY</td>\n",
       "      <td>Moderate</td>\n",
       "      <td>https://legiscan.com/AK/bill/SB96/2023</td>\n",
       "      <td>Rules</td>\n",
       "      <td>An Act relating to parental rights in a child'...</td>\n",
       "      <td>WE WILL EMPOWER YOUR ENEMIES</td>\n",
       "    </tr>\n",
       "    <tr>\n",
       "      <th>2</th>\n",
       "      <td>Alaska</td>\n",
       "      <td>AK</td>\n",
       "      <td>HB105</td>\n",
       "      <td>Sex/reproduction Education; Schools</td>\n",
       "      <td>Don't Say Gay/Forced Outing</td>\n",
       "      <td>3/8/2023</td>\n",
       "      <td>REFERRED TO EDUCATION</td>\n",
       "      <td>Moderate</td>\n",
       "      <td>https://legiscan.com/AK/bill/HB105/2023</td>\n",
       "      <td>Rules</td>\n",
       "      <td>An Act relating to parental rights in a child'...</td>\n",
       "      <td>WE WILL EMPOWER YOUR ENEMIES</td>\n",
       "    </tr>\n",
       "    <tr>\n",
       "      <th>3</th>\n",
       "      <td>Arizona</td>\n",
       "      <td>AZ</td>\n",
       "      <td>SB1028</td>\n",
       "      <td>Adult cabaret performances; prohibited locations</td>\n",
       "      <td>Drag Ban</td>\n",
       "      <td>3/22/2023</td>\n",
       "      <td>House read second time</td>\n",
       "      <td>Low</td>\n",
       "      <td>https://legiscan.com/AZ/bill/SB1028/2023</td>\n",
       "      <td>Anthony Kern</td>\n",
       "      <td>Adult cabaret performances; prohibited locations</td>\n",
       "      <td>YOUR PRESENCE IS A PERVERSION</td>\n",
       "    </tr>\n",
       "    <tr>\n",
       "      <th>4</th>\n",
       "      <td>Arizona</td>\n",
       "      <td>AZ</td>\n",
       "      <td>SB1030</td>\n",
       "      <td>Sexually explicit performances; regulation</td>\n",
       "      <td>Drag Ban</td>\n",
       "      <td>3/21/2023</td>\n",
       "      <td>House read second time</td>\n",
       "      <td>Low</td>\n",
       "      <td>https://legiscan.com/AZ/bill/SB1030/2023</td>\n",
       "      <td>Anthony Kern</td>\n",
       "      <td>Sexually explicit performances; regulation</td>\n",
       "      <td>YOUR PRESENCE IS A PERVERSION</td>\n",
       "    </tr>\n",
       "  </tbody>\n",
       "</table>\n",
       "</div>"
      ],
      "text/plain": [
       "     State Abbreviation  Number  \\\n",
       "0   Alaska           AK    HB27   \n",
       "1   Alaska           AK    SB96   \n",
       "2   Alaska           AK   HB105   \n",
       "3  Arizona           AZ  SB1028   \n",
       "4  Arizona           AZ  SB1030   \n",
       "\n",
       "                                            Summary  \\\n",
       "0         Designate Sex For School-sponsored Sports   \n",
       "1               Sex/reproduction Education; Schools   \n",
       "2               Sex/reproduction Education; Schools   \n",
       "3  Adult cabaret performances; prohibited locations   \n",
       "4        Sexually explicit performances; regulation   \n",
       "\n",
       "                     Bill Type       Date                  Status  \\\n",
       "0             Trans Sports Ban  1/19/2023   REFERRED TO EDUCATION   \n",
       "1  Don't Say Gay/Forced Outing   3/8/2023   REFERRED TO JUDICIARY   \n",
       "2  Don't Say Gay/Forced Outing   3/8/2023   REFERRED TO EDUCATION   \n",
       "3                     Drag Ban  3/22/2023  House read second time   \n",
       "4                     Drag Ban  3/21/2023  House read second time   \n",
       "\n",
       "  Erin Reed's State Risk                                       URL  \\\n",
       "0               Moderate    https://legiscan.com/AK/bill/HB27/2023   \n",
       "1               Moderate    https://legiscan.com/AK/bill/SB96/2023   \n",
       "2               Moderate   https://legiscan.com/AK/bill/HB105/2023   \n",
       "3                    Low  https://legiscan.com/AZ/bill/SB1028/2023   \n",
       "4                    Low  https://legiscan.com/AZ/bill/SB1030/2023   \n",
       "\n",
       "       Sponsors                                         Bill Title  \\\n",
       "0  Thomas McKay  An Act relating to school athletics, recreatio...   \n",
       "1         Rules  An Act relating to parental rights in a child'...   \n",
       "2         Rules  An Act relating to parental rights in a child'...   \n",
       "3  Anthony Kern   Adult cabaret performances; prohibited locations   \n",
       "4  Anthony Kern         Sexually explicit performances; regulation   \n",
       "\n",
       "                           Bill Intent  \n",
       "0  WE WILL SHUT YOU OUT OF PUBLIC LIFE  \n",
       "1         WE WILL EMPOWER YOUR ENEMIES  \n",
       "2         WE WILL EMPOWER YOUR ENEMIES  \n",
       "3        YOUR PRESENCE IS A PERVERSION  \n",
       "4        YOUR PRESENCE IS A PERVERSION  "
      ]
     },
     "execution_count": 67,
     "metadata": {},
     "output_type": "execute_result"
    }
   ],
   "source": [
    "df.head()"
   ]
  },
  {
   "cell_type": "code",
   "execution_count": 68,
   "id": "1d962002",
   "metadata": {},
   "outputs": [
    {
     "data": {
      "text/plain": [
       "'Sandy Salmon, Lynn Evans, Kevin Alons, Jesse Green, Cherielynn Westrich, Jeff Taylor, Dennis Guth, Rocky De Witt, Dave Rowley'"
      ]
     },
     "execution_count": 68,
     "metadata": {},
     "output_type": "execute_result"
    }
   ],
   "source": [
    "df['Sponsors'][89]"
   ]
  },
  {
   "cell_type": "code",
   "execution_count": 69,
   "id": "d9294d40",
   "metadata": {},
   "outputs": [
    {
     "data": {
      "text/plain": [
       "str"
      ]
     },
     "execution_count": 69,
     "metadata": {},
     "output_type": "execute_result"
    }
   ],
   "source": [
    "type(df['Sponsors'][89])"
   ]
  },
  {
   "cell_type": "code",
   "execution_count": 79,
   "id": "8ebe2538",
   "metadata": {},
   "outputs": [],
   "source": [
    "teststr = df['Sponsors'][89]"
   ]
  },
  {
   "cell_type": "code",
   "execution_count": 73,
   "id": "4add9149",
   "metadata": {},
   "outputs": [
    {
     "data": {
      "text/plain": [
       "['Sandy Salmon',\n",
       " 'Lynn Evans',\n",
       " 'Kevin Alons',\n",
       " 'Jesse Green',\n",
       " 'Cherielynn Westrich',\n",
       " 'Jeff Taylor',\n",
       " 'Dennis Guth',\n",
       " 'Rocky De Witt',\n",
       " 'Dave Rowley']"
      ]
     },
     "execution_count": 73,
     "metadata": {},
     "output_type": "execute_result"
    }
   ],
   "source": [
    "teststr.split(\", \")"
   ]
  },
  {
   "cell_type": "code",
   "execution_count": 92,
   "id": "b89019ac",
   "metadata": {},
   "outputs": [],
   "source": [
    "def oxford(sponsorlist):\n",
    "    try:\n",
    "        if len(sponsorlist) > 1:\n",
    "            # Turn names into list separated by comma\n",
    "            names_list = sponsorlist.split(\", \")\n",
    "            # Create empty string to hold names\n",
    "            names_string = \"\"\n",
    "            for name in names_list:\n",
    "                if(name == names_list[0]):\n",
    "                    names_string = name\n",
    "                elif(name == names_list[-1]):\n",
    "                    names_string = names_string + \", and \" + name\n",
    "                else:\n",
    "                    names_string = names_string + \", \" + name\n",
    "            return names_string\n",
    "    except:\n",
    "        print(\"error\")"
   ]
  },
  {
   "cell_type": "code",
   "execution_count": 85,
   "id": "cd0fc7c0",
   "metadata": {
    "scrolled": true
   },
   "outputs": [
    {
     "data": {
      "text/plain": [
       "'Sandy Salmon, Lynn Evans, Kevin Alons, Jesse Green, Cherielynn Westrich, Jeff Taylor, Dennis Guth, Rocky De Witt, and Dave Rowley'"
      ]
     },
     "execution_count": 85,
     "metadata": {},
     "output_type": "execute_result"
    }
   ],
   "source": [
    "oxford(teststr)"
   ]
  },
  {
   "cell_type": "code",
   "execution_count": 86,
   "id": "4e3aaad1",
   "metadata": {},
   "outputs": [],
   "source": [
    "teststr2 = df['Sponsors'][0]"
   ]
  },
  {
   "cell_type": "code",
   "execution_count": 87,
   "id": "0f95a073",
   "metadata": {},
   "outputs": [
    {
     "data": {
      "text/plain": [
       "'Thomas McKay'"
      ]
     },
     "execution_count": 87,
     "metadata": {},
     "output_type": "execute_result"
    }
   ],
   "source": [
    "teststr2"
   ]
  },
  {
   "cell_type": "code",
   "execution_count": 88,
   "id": "b5c528e3",
   "metadata": {},
   "outputs": [
    {
     "data": {
      "text/plain": [
       "'Thomas McKay'"
      ]
     },
     "execution_count": 88,
     "metadata": {},
     "output_type": "execute_result"
    }
   ],
   "source": [
    "oxford(teststr2)"
   ]
  },
  {
   "cell_type": "code",
   "execution_count": 93,
   "id": "e095d5e3",
   "metadata": {},
   "outputs": [
    {
     "name": "stdout",
     "output_type": "stream",
     "text": [
      "error\n",
      "error\n"
     ]
    }
   ],
   "source": [
    "df['Sponsors'] = df['Sponsors'].apply(lambda x: oxford(x))"
   ]
  },
  {
   "cell_type": "code",
   "execution_count": 94,
   "id": "f446ebec",
   "metadata": {},
   "outputs": [
    {
     "data": {
      "text/plain": [
       "'Billy Wesley, Shane Baker, Danny Bentley, Randy Bridges, Josh Calloway, Jennifer Henson Decker, Steven Doan, Ryan Dotson, Robert Duvall, Daniel Fister, Chris Freeland, Chris Fugate, Jim Gooch, David Hale, Richard Heath, John Hodgson, Thomas Huff, Kevin Jackson, DJ Johnson, Candy Massaroni, Bobby McCool, Shawn McPherson, Jason Petrie, Michael Pollock, Marianne Proctor, Steve Rawlings, Brandon Reed, Scott Sharp, Tom Smith, Nancy Tate, Walker Thomas, James Tipton, Timmy Truett, Russell Webber, Richard White, and Wade Williams'"
      ]
     },
     "execution_count": 94,
     "metadata": {},
     "output_type": "execute_result"
    }
   ],
   "source": [
    "df['Sponsors'][112]"
   ]
  },
  {
   "cell_type": "code",
   "execution_count": 95,
   "id": "b0268381",
   "metadata": {},
   "outputs": [],
   "source": [
    "df.to_csv(\"20230408-oxforded.csv\", index=False)"
   ]
  },
  {
   "cell_type": "code",
   "execution_count": null,
   "id": "11b08d68",
   "metadata": {},
   "outputs": [],
   "source": []
  }
 ],
 "metadata": {
  "kernelspec": {
   "display_name": "Python 3 (ipykernel)",
   "language": "python",
   "name": "python3"
  },
  "language_info": {
   "codemirror_mode": {
    "name": "ipython",
    "version": 3
   },
   "file_extension": ".py",
   "mimetype": "text/x-python",
   "name": "python",
   "nbconvert_exporter": "python",
   "pygments_lexer": "ipython3",
   "version": "3.9.13"
  }
 },
 "nbformat": 4,
 "nbformat_minor": 5
}
