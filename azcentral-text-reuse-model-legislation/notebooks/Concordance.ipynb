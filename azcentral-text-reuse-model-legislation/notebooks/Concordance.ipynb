{
 "cells": [
  {
   "cell_type": "code",
   "execution_count": null,
   "id": "e3230918",
   "metadata": {},
   "outputs": [],
   "source": [
    "f=open('allbills.txt','r')\n",
    "\n",
    "from nltk import Text\n",
    "from nltk.corpus import PlaintextCorpusReader\n",
    "\n",
    "\n",
    "CORPUS_ROOT = '/Users/benjamin/Development/corpora/gutenburg/'\n",
    "\n",
    "if __name__ == \"__main__\":\n",
    "    reader = PlaintextCorpusReader(CORPUS_ROOT, '.*')\n",
    "    text   = Text(reader.words())\n",
    "    while True:\n",
    "        word = raw_input('Enter word: ')\n",
    "        print (word);\n",
    "        text.concordance(word)"
   ]
  }
 ],
 "metadata": {
  "kernelspec": {
   "display_name": "Python 3 (ipykernel)",
   "language": "python",
   "name": "python3"
  },
  "language_info": {
   "codemirror_mode": {
    "name": "ipython",
    "version": 3
   },
   "file_extension": ".py",
   "mimetype": "text/x-python",
   "name": "python",
   "nbconvert_exporter": "python",
   "pygments_lexer": "ipython3",
   "version": "3.9.13"
  }
 },
 "nbformat": 4,
 "nbformat_minor": 5
}
