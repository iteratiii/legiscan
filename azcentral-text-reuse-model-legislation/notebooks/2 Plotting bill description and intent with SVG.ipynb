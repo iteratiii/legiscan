{
 "cells": [
  {
   "cell_type": "markdown",
   "id": "f92b5d0b",
   "metadata": {},
   "source": [
    "# Trying SVG instead of plotting directly from Hershey\n",
    "[Someone did something similar here](https://codeberg.org/hjacobs/laser-cut-templates/src/branch/main/hersheyfonts/hack.py)"
   ]
  },
  {
   "cell_type": "markdown",
   "id": "d0ebb506",
   "metadata": {},
   "source": [
    "# Get text from the last pickle to convert"
   ]
  },
  {
   "cell_type": "code",
   "execution_count": 83,
   "id": "6c57b9a4",
   "metadata": {},
   "outputs": [],
   "source": [
    "import pandas as pd\n",
    "import svgwrite\n",
    "import time"
   ]
  },
  {
   "cell_type": "code",
   "execution_count": 3,
   "id": "513587be",
   "metadata": {},
   "outputs": [],
   "source": [
    "# My pickling function.\n",
    "def datePickle(df):\n",
    "    timestr = time.strftime(\"%Y%m%d-%H%M%S\")\n",
    "    df.to_pickle(f'{timestr}-df.pickle')\n",
    "    print(\"Pickled\")\n",
    "    \n",
    "# To summon pickle, use:\n",
    "# df = pd.read_pickle('my_df.pickle')    "
   ]
  },
  {
   "cell_type": "code",
   "execution_count": 4,
   "id": "8374b378",
   "metadata": {},
   "outputs": [
    {
     "data": {
      "text/html": [
       "<div>\n",
       "<style scoped>\n",
       "    .dataframe tbody tr th:only-of-type {\n",
       "        vertical-align: middle;\n",
       "    }\n",
       "\n",
       "    .dataframe tbody tr th {\n",
       "        vertical-align: top;\n",
       "    }\n",
       "\n",
       "    .dataframe thead th {\n",
       "        text-align: right;\n",
       "    }\n",
       "</style>\n",
       "<table border=\"1\" class=\"dataframe\">\n",
       "  <thead>\n",
       "    <tr style=\"text-align: right;\">\n",
       "      <th></th>\n",
       "      <th>State</th>\n",
       "      <th>Abbreviation</th>\n",
       "      <th>Number</th>\n",
       "      <th>Summary</th>\n",
       "      <th>Bill Type</th>\n",
       "      <th>Date</th>\n",
       "      <th>Status</th>\n",
       "      <th>Erin Reed's State Risk</th>\n",
       "      <th>URL</th>\n",
       "      <th>Sponsors</th>\n",
       "      <th>Bill Title</th>\n",
       "      <th>Bill Intent</th>\n",
       "    </tr>\n",
       "  </thead>\n",
       "  <tbody>\n",
       "    <tr>\n",
       "      <th>1</th>\n",
       "      <td>Alaska</td>\n",
       "      <td>AK</td>\n",
       "      <td>HB27</td>\n",
       "      <td>Designate Sex For School-sponsored Sports</td>\n",
       "      <td>Trans Sports Ban</td>\n",
       "      <td>1/19/2023</td>\n",
       "      <td>REFERRED TO EDUCATION</td>\n",
       "      <td>Moderate</td>\n",
       "      <td>https://legiscan.com/AK/bill/HB27/2023</td>\n",
       "      <td>Thomas McKay</td>\n",
       "      <td>An Act relating to school athletics, recreatio...</td>\n",
       "      <td>WE WILL SHUT YOU OUT OF PUBLIC LIFE</td>\n",
       "    </tr>\n",
       "    <tr>\n",
       "      <th>2</th>\n",
       "      <td>Alaska</td>\n",
       "      <td>AK</td>\n",
       "      <td>SB96</td>\n",
       "      <td>Sex/reproduction Education; Schools</td>\n",
       "      <td>Don't Say Gay/Forced Outing</td>\n",
       "      <td>3/8/2023</td>\n",
       "      <td>REFERRED TO JUDICIARY</td>\n",
       "      <td>Moderate</td>\n",
       "      <td>https://legiscan.com/AK/bill/SB96/2023</td>\n",
       "      <td>Rules</td>\n",
       "      <td>An Act relating to parental rights in a child&amp;...</td>\n",
       "      <td>WE WILL EMPOWER YOUR ENEMIES</td>\n",
       "    </tr>\n",
       "    <tr>\n",
       "      <th>3</th>\n",
       "      <td>Alaska</td>\n",
       "      <td>AK</td>\n",
       "      <td>HB105</td>\n",
       "      <td>Sex/reproduction Education; Schools</td>\n",
       "      <td>Don't Say Gay/Forced Outing</td>\n",
       "      <td>3/8/2023</td>\n",
       "      <td>REFERRED TO EDUCATION</td>\n",
       "      <td>Moderate</td>\n",
       "      <td>https://legiscan.com/AK/bill/HB105/2023</td>\n",
       "      <td>Rules</td>\n",
       "      <td>An Act relating to parental rights in a child&amp;...</td>\n",
       "      <td>WE WILL EMPOWER YOUR ENEMIES</td>\n",
       "    </tr>\n",
       "    <tr>\n",
       "      <th>4</th>\n",
       "      <td>Arizona</td>\n",
       "      <td>AZ</td>\n",
       "      <td>SB1028</td>\n",
       "      <td>Adult cabaret performances; prohibited locations</td>\n",
       "      <td>Drag Ban</td>\n",
       "      <td>3/22/2023</td>\n",
       "      <td>House read second time</td>\n",
       "      <td>Low</td>\n",
       "      <td>https://legiscan.com/AZ/bill/SB1028/2023</td>\n",
       "      <td>Anthony Kern</td>\n",
       "      <td>Adult cabaret performances; prohibited locations</td>\n",
       "      <td>YOUR PRESENCE IS A PERVERSION</td>\n",
       "    </tr>\n",
       "    <tr>\n",
       "      <th>5</th>\n",
       "      <td>Arizona</td>\n",
       "      <td>AZ</td>\n",
       "      <td>SB1030</td>\n",
       "      <td>Sexually explicit performances; regulation</td>\n",
       "      <td>Drag Ban</td>\n",
       "      <td>3/21/2023</td>\n",
       "      <td>House read second time</td>\n",
       "      <td>Low</td>\n",
       "      <td>https://legiscan.com/AZ/bill/SB1030/2023</td>\n",
       "      <td>Anthony Kern</td>\n",
       "      <td>Sexually explicit performances; regulation</td>\n",
       "      <td>YOUR PRESENCE IS A PERVERSION</td>\n",
       "    </tr>\n",
       "  </tbody>\n",
       "</table>\n",
       "</div>"
      ],
      "text/plain": [
       "0    State Abbreviation  Number  \\\n",
       "1   Alaska           AK    HB27   \n",
       "2   Alaska           AK    SB96   \n",
       "3   Alaska           AK   HB105   \n",
       "4  Arizona           AZ  SB1028   \n",
       "5  Arizona           AZ  SB1030   \n",
       "\n",
       "0                                           Summary  \\\n",
       "1         Designate Sex For School-sponsored Sports   \n",
       "2               Sex/reproduction Education; Schools   \n",
       "3               Sex/reproduction Education; Schools   \n",
       "4  Adult cabaret performances; prohibited locations   \n",
       "5        Sexually explicit performances; regulation   \n",
       "\n",
       "0                    Bill Type       Date                  Status  \\\n",
       "1             Trans Sports Ban  1/19/2023   REFERRED TO EDUCATION   \n",
       "2  Don't Say Gay/Forced Outing   3/8/2023   REFERRED TO JUDICIARY   \n",
       "3  Don't Say Gay/Forced Outing   3/8/2023   REFERRED TO EDUCATION   \n",
       "4                     Drag Ban  3/22/2023  House read second time   \n",
       "5                     Drag Ban  3/21/2023  House read second time   \n",
       "\n",
       "0 Erin Reed's State Risk                                       URL  \\\n",
       "1               Moderate    https://legiscan.com/AK/bill/HB27/2023   \n",
       "2               Moderate    https://legiscan.com/AK/bill/SB96/2023   \n",
       "3               Moderate   https://legiscan.com/AK/bill/HB105/2023   \n",
       "4                    Low  https://legiscan.com/AZ/bill/SB1028/2023   \n",
       "5                    Low  https://legiscan.com/AZ/bill/SB1030/2023   \n",
       "\n",
       "0      Sponsors                                         Bill Title  \\\n",
       "1  Thomas McKay  An Act relating to school athletics, recreatio...   \n",
       "2         Rules  An Act relating to parental rights in a child&...   \n",
       "3         Rules  An Act relating to parental rights in a child&...   \n",
       "4  Anthony Kern   Adult cabaret performances; prohibited locations   \n",
       "5  Anthony Kern         Sexually explicit performances; regulation   \n",
       "\n",
       "0                          Bill Intent  \n",
       "1  WE WILL SHUT YOU OUT OF PUBLIC LIFE  \n",
       "2         WE WILL EMPOWER YOUR ENEMIES  \n",
       "3         WE WILL EMPOWER YOUR ENEMIES  \n",
       "4        YOUR PRESENCE IS A PERVERSION  \n",
       "5        YOUR PRESENCE IS A PERVERSION  "
      ]
     },
     "execution_count": 4,
     "metadata": {},
     "output_type": "execute_result"
    }
   ],
   "source": [
    "df = pd.read_pickle('20230327-235802-df.pickle')\n",
    "df.head()"
   ]
  },
  {
   "cell_type": "code",
   "execution_count": 149,
   "id": "201836ad",
   "metadata": {},
   "outputs": [],
   "source": [
    "df.to_csv('20230327-235802-df.csv')"
   ]
  },
  {
   "cell_type": "code",
   "execution_count": 77,
   "id": "d50601b6",
   "metadata": {},
   "outputs": [],
   "source": [
    "billtitle = df.iloc[1]['Bill Title']"
   ]
  },
  {
   "cell_type": "code",
   "execution_count": 78,
   "id": "576e622c",
   "metadata": {},
   "outputs": [],
   "source": [
    "billintent = df.iloc[1]['Bill Intent']"
   ]
  },
  {
   "cell_type": "code",
   "execution_count": 79,
   "id": "ba028592",
   "metadata": {},
   "outputs": [
    {
     "data": {
      "text/plain": [
       "'An Act relating to parental rights in a child&#39;s education; relating to access to school records; relating to sex education, human reproduction education, and human sexuality education; relating to school disciplinary and safety programs; and providing for an effective date.'"
      ]
     },
     "execution_count": 79,
     "metadata": {},
     "output_type": "execute_result"
    }
   ],
   "source": [
    "billtitle"
   ]
  },
  {
   "cell_type": "code",
   "execution_count": 80,
   "id": "c23c91a2",
   "metadata": {},
   "outputs": [
    {
     "data": {
      "text/plain": [
       "'WE WILL EMPOWER YOUR ENEMIES'"
      ]
     },
     "execution_count": 80,
     "metadata": {},
     "output_type": "execute_result"
    }
   ],
   "source": [
    "billintent"
   ]
  },
  {
   "cell_type": "markdown",
   "id": "86d8b1d9",
   "metadata": {},
   "source": [
    "# SVG setup\n",
    "[Understanding viewBox](https://stackoverflow.com/questions/23033796/shift-svg-objects-towards-origin)\n",
    "\n",
    "[Another viewBox explanation](https://stackoverflow.com/questions/15335926/how-to-use-the-svg-viewbox-attribute)\n",
    "\n",
    "[simpletext example from svgwrite](https://github.com/hirobert/svgwrite/blob/master/examples/simple_text.py)"
   ]
  },
  {
   "cell_type": "code",
   "execution_count": 130,
   "id": "2176b965",
   "metadata": {
    "scrolled": true
   },
   "outputs": [],
   "source": [
    "# Doesn't work \n",
    "# Gives svg with \"<svgwrite.text.TextArea object at 0x7f8d4860ac10>\"\n",
    "# See 20230329-151246-test.svg (orange)\n",
    "timestr = time.strftime(\"%Y%m%d-%H%M%S\")\n",
    "dwg = svgwrite.Drawing(f\"{timestr}-test.svg\", (816,1056), profile=\"tiny\")\n",
    "dwg.add(dwg.text(dwg.textArea(\n",
    "    f'{billtitle}',\n",
    "    insert=(72,72),\n",
    "    size=(744,984),\n",
    "    stroke='none',\n",
    "    fill='#000000',\n",
    "    font_size='12px',\n",
    "    font_family=\"Times New Roman\"))\n",
    ")\n",
    "dwg.save()"
   ]
  },
  {
   "cell_type": "code",
   "execution_count": 144,
   "id": "f31747c7",
   "metadata": {},
   "outputs": [],
   "source": [
    "# Doesn't work\n",
    "# Gives nothing on any layers\n",
    "timestr = time.strftime(\"%Y%m%d-%H%M%S\")\n",
    "dwg = svgwrite.Drawing(f\"{timestr}-test.svg\", (816,1056), profile=\"tiny\")\n",
    "\n",
    "dwg.add(dwg.textArea(\n",
    "    f'{billtitle}',\n",
    "    insert=(72,72),\n",
    "    width='800',\n",
    "    height='1000',\n",
    "    stroke='none',\n",
    "    fill='#000000',\n",
    "    font_size='12px',\n",
    "    font_family=\"Times New Roman\")\n",
    ")\n",
    "dwg.save()"
   ]
  },
  {
   "cell_type": "code",
   "execution_count": 148,
   "id": "aab0a67f",
   "metadata": {},
   "outputs": [],
   "source": [
    "# Works but doesn't wrap\n",
    "timestr = time.strftime(\"%Y%m%d-%H%M%S\")\n",
    "dwg = svgwrite.Drawing(\n",
    "    f\"{timestr}-test.svg\", \n",
    "    (816,1056), \n",
    "    profile=\"tiny\", \n",
    "    debug=True,\n",
    "    viewBox=('0', '0', '816', '1056')\n",
    ")\n",
    "dwg.add(dwg.text(\n",
    "    f'{billtitle}',\n",
    "    insert=('72','72'),\n",
    "    stroke='none',\n",
    "    fill='#000000',\n",
    "    font_size='12px',\n",
    "    font_family=\"Times New Roman\"\n",
    "))\n",
    "dwg.save()"
   ]
  },
  {
   "cell_type": "code",
   "execution_count": null,
   "id": "ca8daf1e",
   "metadata": {},
   "outputs": [],
   "source": []
  },
  {
   "cell_type": "code",
   "execution_count": null,
   "id": "532db635",
   "metadata": {},
   "outputs": [],
   "source": []
  },
  {
   "cell_type": "code",
   "execution_count": null,
   "id": "77c8f8c7",
   "metadata": {},
   "outputs": [],
   "source": []
  },
  {
   "cell_type": "code",
   "execution_count": null,
   "id": "2bd1bf22",
   "metadata": {},
   "outputs": [],
   "source": []
  },
  {
   "cell_type": "code",
   "execution_count": null,
   "id": "489f6d02",
   "metadata": {},
   "outputs": [],
   "source": []
  },
  {
   "cell_type": "code",
   "execution_count": 15,
   "id": "cbfd76a5",
   "metadata": {},
   "outputs": [
    {
     "name": "stdout",
     "output_type": "stream",
     "text": [
      "['futural', 'astrology', 'cursive', 'cyrilc_1', 'cyrillic', 'futuram', 'gothgbt', 'gothgrt', 'gothiceng', 'gothicger', 'gothicita', 'gothitt', 'greek', 'greekc', 'greeks', 'japanese', 'markers', 'mathlow', 'mathupp', 'meteorology', 'music', 'rowmand', 'rowmans', 'rowmant', 'scriptc', 'scripts', 'symbolic', 'timesg', 'timesi', 'timesib', 'timesr', 'timesrb']\n"
     ]
    }
   ],
   "source": [
    "# List the default font options\n",
    "from HersheyFonts import HersheyFonts\n",
    "print(HersheyFonts().default_font_names)"
   ]
  },
  {
   "cell_type": "code",
   "execution_count": 16,
   "id": "8386bfa6",
   "metadata": {
    "scrolled": true
   },
   "outputs": [],
   "source": [
    "# Load Times Roman\n",
    "hf = HersheyFonts()\n",
    "hf.load_default_font('timesr')"
   ]
  },
  {
   "cell_type": "code",
   "execution_count": 17,
   "id": "9f91619e",
   "metadata": {},
   "outputs": [],
   "source": [
    "all_glyphs_text = ''.join(sorted(hf.all_glyphs.keys()))\n",
    "for stroke in hf.strokes_for_text(f\"{all_glyphs_text}\"):\n",
    "    for j, point in enumerate(stroke):\n",
    "        stroke[j] = (point[0], -point[1])\n",
    "\n",
    "    pl = dwg.polyline(stroke, stroke=\"green\", stroke_width=0.2, fill=\"none\")\n",
    "    dwg.add(pl)\n",
    "\n",
    "dwg.save()"
   ]
  },
  {
   "cell_type": "code",
   "execution_count": null,
   "id": "703568b1",
   "metadata": {},
   "outputs": [],
   "source": []
  },
  {
   "cell_type": "code",
   "execution_count": null,
   "id": "3dd0a276",
   "metadata": {},
   "outputs": [],
   "source": []
  },
  {
   "cell_type": "markdown",
   "id": "f5be1f04",
   "metadata": {},
   "source": [
    "# Hershey text tests\n",
    "I'm not sure where to begin. Should I create an SVG first? Should I [turn this into Hershey Text and then lay it out?](https://nelsonslog.wordpress.com/category/plotter/) Confused.\n",
    "\n",
    "To try:\n",
    "- [ ] [Hershey-Fonts](https://pypi.org/project/Hershey-Fonts/) [doc](https://github.com/apshu/HersheyFonts/blob/master/HersheyFonts/HersheyFonts.py)\n",
    "- [ ] [vpype](https://vpype.readthedocs.io/en/latest/api/vpype.html#vpype.text_block) [text](https://vpype.readthedocs.io/en/latest/reference.html#text)\n",
    "- [ ] Could I incorporate [hershey.py](https://gitlab.com/oskay/hershey-text/-/blob/Inkscape_v1/hershey-text/hershey.py) from AxiDraw?"
   ]
  },
  {
   "cell_type": "code",
   "execution_count": 215,
   "id": "ba877cb3",
   "metadata": {},
   "outputs": [],
   "source": []
  },
  {
   "cell_type": "code",
   "execution_count": 203,
   "id": "20bc3c76",
   "metadata": {},
   "outputs": [],
   "source": [
    "from pyaxidraw import axidraw   # import module\n",
    "ad = axidraw.AxiDraw()          # Initialize class"
   ]
  },
  {
   "cell_type": "code",
   "execution_count": 213,
   "id": "8c22d1a2",
   "metadata": {},
   "outputs": [],
   "source": [
    "ad.interactive()                # Enter interactive context\n",
    "if not ad.connect():            # Open serial port to AxiDraw;\n",
    "    quit()                      #   Exit, if no connection.\n",
    "ad.options.units = 2            # set working units to cm.\n",
    "ad.update()                     # Process changes to options\n",
    "ad.moveto(0, 0)               # Pen-up move"
   ]
  },
  {
   "cell_type": "code",
   "execution_count": null,
   "id": "c5096f34",
   "metadata": {},
   "outputs": [],
   "source": [
    "# No longer prints just bottom half of the word; have to begin away from 0,0\n",
    "for (x1, y1), (x2, y2) in hf.lines_for_text(\"backwards\"):\n",
    "    ad.moveto(x1+20,y1+20)\n",
    "    ad.lineto(x2+20,y2+20)    \n",
    "# Return home and disconnect\n",
    "ad.moveto(0, 0)               # Pen-up move\n",
    "ad.disconnect()                 # Close serial port to AxiDraw"
   ]
  },
  {
   "cell_type": "code",
   "execution_count": 216,
   "id": "32f7fb70",
   "metadata": {},
   "outputs": [],
   "source": [
    "# So, this works, but looks hideous / uses way too many little segments at small sizes.\n",
    "# Read reference again to see where I can scale down?"
   ]
  },
  {
   "cell_type": "markdown",
   "id": "d63558f7",
   "metadata": {},
   "source": [
    "# Example from AxiDraw API reference"
   ]
  },
  {
   "cell_type": "code",
   "execution_count": 167,
   "id": "2f29242e",
   "metadata": {},
   "outputs": [],
   "source": [
    "# Example from AxiDraw\n",
    "# Draws an X on the paper\n",
    "\n",
    "from pyaxidraw import axidraw   # import module\n",
    "ad = axidraw.AxiDraw()          # Initialize class\n",
    "ad.interactive()                # Enter interactive context\n",
    "if not ad.connect():            # Open serial port to AxiDraw;\n",
    "    quit()                      #   Exit, if no connection.\n",
    "                                # Absolute moves follow:\n",
    "ad.moveto(1, 1)                 # Pen-up move to (1 inch, 1 inch)\n",
    "ad.lineto(2, 2)                 # Pen-down move, to (2 inch, 1 inch)\n",
    "ad.moveto(2, 1)\n",
    "ad.lineto(1, 2)\n",
    "ad.moveto(0, 0)                 # Pen-up move, back to origin.\n",
    "ad.disconnect()                 # Close serial port to AxiDraw"
   ]
  }
 ],
 "metadata": {
  "kernelspec": {
   "display_name": "Python 3 (ipykernel)",
   "language": "python",
   "name": "python3"
  },
  "language_info": {
   "codemirror_mode": {
    "name": "ipython",
    "version": 3
   },
   "file_extension": ".py",
   "mimetype": "text/x-python",
   "name": "python",
   "nbconvert_exporter": "python",
   "pygments_lexer": "ipython3",
   "version": "3.9.13"
  }
 },
 "nbformat": 4,
 "nbformat_minor": 5
}
