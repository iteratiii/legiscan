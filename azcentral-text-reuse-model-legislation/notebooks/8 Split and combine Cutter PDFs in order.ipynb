{
 "cells": [
  {
   "cell_type": "code",
   "execution_count": null,
   "id": "cfb3fc6a",
   "metadata": {},
   "outputs": [],
   "source": [
    "# https://www.blog.pythonlibrary.org/2018/04/11/splitting-and-merging-pdfs-with-python/\n",
    "# pdf_splitter.py\n",
    "\n",
    "import os\n",
    "from PyPDF2 import PdfFileReader, PdfFileWriter\n",
    "\n",
    "\n",
    "def pdf_splitter(path):\n",
    "    fname = os.path.splitext(os.path.basename(path))[0]\n",
    "\n",
    "    pdf = PdfFileReader(path)\n",
    "    for page in range(pdf.getNumPages()):\n",
    "        pdf_writer = PdfFileWriter()\n",
    "        pdf_writer.addPage(pdf.getPage(page))\n",
    "\n",
    "        output_filename = '{}_page_{}.pdf'.format(\n",
    "            fname, page+1)\n",
    "\n",
    "        with open(output_filename, 'wb') as out:\n",
    "            pdf_writer.write(out)\n",
    "\n",
    "        print('Created: {}'.format(output_filename))\n",
    "\n",
    "if __name__ == '__main__':\n",
    "    path = 'w9.pdf'\n",
    "    pdf_splitter(path)"
   ]
  }
 ],
 "metadata": {
  "kernelspec": {
   "display_name": "Python 3 (ipykernel)",
   "language": "python",
   "name": "python3"
  },
  "language_info": {
   "codemirror_mode": {
    "name": "ipython",
    "version": 3
   },
   "file_extension": ".py",
   "mimetype": "text/x-python",
   "name": "python",
   "nbconvert_exporter": "python",
   "pygments_lexer": "ipython3",
   "version": "3.9.13"
  }
 },
 "nbformat": 4,
 "nbformat_minor": 5
}
