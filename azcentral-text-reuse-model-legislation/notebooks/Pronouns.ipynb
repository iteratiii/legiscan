{
 "cells": [
  {
   "cell_type": "code",
   "execution_count": 2,
   "id": "a77834b4",
   "metadata": {},
   "outputs": [],
   "source": [
    "import json"
   ]
  },
  {
   "cell_type": "code",
   "execution_count": 12,
   "id": "416d7d10",
   "metadata": {},
   "outputs": [],
   "source": [
    "pronouns = [\n",
    "  'I',\n",
    "  'you',\n",
    "  'my',\n",
    "  'mine',\n",
    "  'myself'\n",
    "  'we',\n",
    "  'us',\n",
    "  'our',\n",
    "  'ours',\n",
    "  'ourselves'\n",
    "  'you',\n",
    "  'you',\n",
    "  'your',\n",
    "  'yours',\n",
    "  'yourself'\n",
    "  'you',\n",
    "  'you',\n",
    "  'your',\n",
    "  'your',\n",
    "  'yourselves'\n",
    "  'he',\n",
    "  'him',\n",
    "  'his',\n",
    "  'his',\n",
    "  'himself'\n",
    "  'she',\n",
    "  'her',\n",
    "  'her',\n",
    "  'her',\n",
    "  'herself'\n",
    "  'it',\n",
    "  'it',\n",
    "  'its',\n",
    "  'itself'\n",
    "  'they',\n",
    "  'them',\n",
    "  'their',\n",
    "  'theirs',\n",
    "  'themself'\n",
    "  'they',\n",
    "  'them',\n",
    "  'their',\n",
    "  'theirs',\n",
    "  'themselves'\n",
    "]"
   ]
  },
  {
   "cell_type": "code",
   "execution_count": 13,
   "id": "d6084595",
   "metadata": {},
   "outputs": [],
   "source": [
    "with open('allbillsregex2.txt', 'r') as f:\n",
    "    text_corpus = f.read()"
   ]
  },
  {
   "cell_type": "code",
   "execution_count": 14,
   "id": "ce875eeb",
   "metadata": {},
   "outputs": [],
   "source": [
    "def replace_word_with_spaces(word):\n",
    "    return ' ' * len(word)\n",
    "\n",
    "filtered_words = filter(lambda word: word in pronouns, text_corpus.split())\n",
    "no_pronouns = ' '.join([replace_word_with_spaces(word) if word in pronouns else word for word in text_corpus.split()])"
   ]
  },
  {
   "cell_type": "code",
   "execution_count": 15,
   "id": "52df8fe4",
   "metadata": {},
   "outputs": [],
   "source": [
    "with open('allbillsnopronouns.txt', 'w') as f:\n",
    "    f.write(no_pronouns)\n",
    "    f.close"
   ]
  },
  {
   "cell_type": "code",
   "execution_count": null,
   "id": "f7fd3d49",
   "metadata": {},
   "outputs": [],
   "source": [
    "# worked, but there aren't enough pronouns in the corpus to make it really interesting."
   ]
  }
 ],
 "metadata": {
  "kernelspec": {
   "display_name": "Python 3 (ipykernel)",
   "language": "python",
   "name": "python3"
  },
  "language_info": {
   "codemirror_mode": {
    "name": "ipython",
    "version": 3
   },
   "file_extension": ".py",
   "mimetype": "text/x-python",
   "name": "python",
   "nbconvert_exporter": "python",
   "pygments_lexer": "ipython3",
   "version": "3.9.13"
  }
 },
 "nbformat": 4,
 "nbformat_minor": 5
}
