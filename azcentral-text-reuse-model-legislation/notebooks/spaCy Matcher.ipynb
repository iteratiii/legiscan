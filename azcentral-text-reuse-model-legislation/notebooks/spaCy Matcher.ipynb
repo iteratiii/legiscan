{
 "cells": [
  {
   "cell_type": "code",
   "execution_count": null,
   "id": "0572f507",
   "metadata": {},
   "outputs": [],
   "source": [
    "import spacy\n",
    "from spacy.matcher import Matcher\n",
    "\n",
    "nlp = spacy.load('en_core_web_sm')\n",
    "doc = nlp(\"I went to the store and bought some apples.\")\n",
    "\n",
    "matcher = Matcher(nlp.vocab)\n",
    "\n",
    "pattern = [{\"LOWER\": \"went\"}, {\"LOWER\": \"to\"}, {\"LOWER\": \"the\"}, {\"LOWER\": \"store\"}]\n",
    "matcher.add(\"StorePattern\", None, pattern)\n",
    "\n",
    "matches = matcher(doc)\n",
    "\n",
    "if matches:\n",
    "    match_id, start, end = matches[0]\n",
    "    next_word = doc[end]\n",
    "    print(next_word)"
   ]
  }
 ],
 "metadata": {
  "kernelspec": {
   "display_name": "Python 3 (ipykernel)",
   "language": "python",
   "name": "python3"
  },
  "language_info": {
   "codemirror_mode": {
    "name": "ipython",
    "version": 3
   },
   "file_extension": ".py",
   "mimetype": "text/x-python",
   "name": "python",
   "nbconvert_exporter": "python",
   "pygments_lexer": "ipython3",
   "version": "3.9.13"
  }
 },
 "nbformat": 4,
 "nbformat_minor": 5
}
