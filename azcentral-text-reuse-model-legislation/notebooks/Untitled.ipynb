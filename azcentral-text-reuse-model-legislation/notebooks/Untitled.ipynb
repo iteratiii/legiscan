{
 "cells": [
  {
   "cell_type": "code",
   "execution_count": 4,
   "id": "cdf25ed5",
   "metadata": {},
   "outputs": [],
   "source": [
    "import ast\n",
    "import random\n",
    "\n",
    "def get_act():\n",
    "    with open('acts.txt','r') as f:\n",
    "        acts = f.readlines()\n",
    "\n",
    "    acttext = random.choice(acts)\n",
    "\n",
    "    return acttext"
   ]
  },
  {
   "cell_type": "code",
   "execution_count": 10,
   "id": "64950346",
   "metadata": {},
   "outputs": [
    {
     "data": {
      "text/plain": [
       "'AN ACT REQUIRING THE LAW TO ACT\\n'"
      ]
     },
     "execution_count": 10,
     "metadata": {},
     "output_type": "execute_result"
    }
   ],
   "source": [
    "get_act()"
   ]
  }
 ],
 "metadata": {
  "kernelspec": {
   "display_name": "Python 3 (ipykernel)",
   "language": "python",
   "name": "python3"
  },
  "language_info": {
   "codemirror_mode": {
    "name": "ipython",
    "version": 3
   },
   "file_extension": ".py",
   "mimetype": "text/x-python",
   "name": "python",
   "nbconvert_exporter": "python",
   "pygments_lexer": "ipython3",
   "version": "3.9.13"
  }
 },
 "nbformat": 4,
 "nbformat_minor": 5
}
