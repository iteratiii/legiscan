{
 "cells": [
  {
   "cell_type": "code",
   "execution_count": 4,
   "id": "369b6200",
   "metadata": {},
   "outputs": [],
   "source": [
    "import nltk\n",
    "from nltk.corpus import stopwords"
   ]
  },
  {
   "cell_type": "code",
   "execution_count": 23,
   "id": "416d7d10",
   "metadata": {},
   "outputs": [],
   "source": [
    "f=open('allbillsregex2.txt','r')\n",
    "readit=f.read()\n",
    "f.close()"
   ]
  },
  {
   "cell_type": "code",
   "execution_count": 27,
   "id": "0e7b4583",
   "metadata": {},
   "outputs": [],
   "source": [
    "stop_words = set(stopwords.words(\"english\"))"
   ]
  },
  {
   "cell_type": "code",
   "execution_count": 28,
   "id": "8608ee59",
   "metadata": {},
   "outputs": [],
   "source": [
    "def remove_stopwords(text):\n",
    "    words = text.split()\n",
    "    filtered_words = [word for word in words if word.lower() not in stop_words]\n",
    "    return ' '.join(filtered_words)\n",
    "\n",
    "with open('allbillsregex2.txt', 'r') as f:\n",
    "    text_corpus = f.read()\n",
    "\n",
    "processed_corpus = remove_stopwords(text_corpus)"
   ]
  },
  {
   "cell_type": "code",
   "execution_count": 31,
   "id": "f461b1e9",
   "metadata": {},
   "outputs": [],
   "source": [
    "with open('allbillsnostopwords.txt', 'w') as f:\n",
    "    f.write(processed_corpus)\n",
    "    f.close"
   ]
  },
  {
   "cell_type": "code",
   "execution_count": 32,
   "id": "563116a5",
   "metadata": {},
   "outputs": [],
   "source": [
    "text = nltk.Text(nltk.word_tokenize(processed_corpus))"
   ]
  },
  {
   "cell_type": "code",
   "execution_count": 43,
   "id": "aaafbae6",
   "metadata": {
    "scrolled": true
   },
   "outputs": [
    {
     "name": "stdout",
     "output_type": "stream",
     "text": [
      "Displaying 25 of 1342 matches:\n",
      "ily contact . b . `` Sex '' means biological state female male , based individ\n",
      "nt manner inconsistent student 's biological sex birth . Requires employee sta\n",
      "29 manner inconsistent student 's biological 30 sex birth . 31 ( b ) later fiv\n",
      "raising child consistent child 's biological sex ; ( 2 ) declining consent chi\n",
      " sex manner inconsistent child 's biological sex ; ( C ) counseling mental hea\n",
      " perception inconsistent child 's biological sex . Effective : July 1 , 2023 .\n",
      "ising child consistent 9 child 's biological sex ; 10 ( 2 ) declining consent \n",
      "d 15 manner inconsistent child 's biological sex ; 16 ( ii ) affirm child 's p\n",
      " 1232—LS 7337/DI 119 2 1 child 's biological sex ; 2 ( 3 ) declining consent c\n",
      " perception inconsistent child 's biological sex . 6 SECTION 2 . IC 31-34-2-1 \n",
      "sing child consistent 13 child 's biological sex ; 14 ( 2 ) declining consent \n",
      "d 19 manner inconsistent child 's biological sex ; 20 ( ii ) affirm child 's p\n",
      "rception inconsistent 22 child 's biological sex ; 23 ( 3 ) declining consent \n",
      " perception inconsistent child 's biological sex . 27 SECTION 3 . IC 31-34-2-3\n",
      "ising child consistent 5 child 's biological sex ; 6 ( 2 ) declining consent c\n",
      "d 11 manner inconsistent child 's biological sex ; 12 ( ii ) affirm child 's p\n",
      "rception inconsistent 14 child 's biological sex ; 15 ( 3 ) declining consent \n",
      " perception inconsistent child 's biological sex . 19 ( c ) ( d ) person takes\n",
      ") pronoun corresponds student ’ s biological sex without written consent stude\n",
      "uardian . purposes subsection , “ biological sex ” means physical condition ma\n",
      "sed Sections 1 3 Act : 5 ( 1 ) `` Biological sex '' means physical condition m\n",
      "s undress , wish members opposite biological sex present circumstances ; 19 ( \n",
      "rooms reserved students different biological sex : 21 ( a ) create significant\n",
      "s states undress members opposite biological 27 UNOFFICIAL COPY 23 RS BR 384 P\n",
      "clothed presence members opposite biological sex . 5 SECTION 3 . NEW SECTION K\n"
     ]
    }
   ],
   "source": [
    "# only works for individual words\n",
    "text.concordance('biological')"
   ]
  }
 ],
 "metadata": {
  "kernelspec": {
   "display_name": "Python 3 (ipykernel)",
   "language": "python",
   "name": "python3"
  },
  "language_info": {
   "codemirror_mode": {
    "name": "ipython",
    "version": 3
   },
   "file_extension": ".py",
   "mimetype": "text/x-python",
   "name": "python",
   "nbconvert_exporter": "python",
   "pygments_lexer": "ipython3",
   "version": "3.9.13"
  }
 },
 "nbformat": 4,
 "nbformat_minor": 5
}
