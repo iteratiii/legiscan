{
 "cells": [
  {
   "cell_type": "code",
   "execution_count": 3,
   "id": "c0c7be51",
   "metadata": {},
   "outputs": [],
   "source": [
    "import os\n",
    "filedir = f\"/Users/gabriel/Documents/GitHub/legiscan/azcentral-text-reuse-model-legislation/notebooks/20230302 Bill HTMLs/\"\n",
    "with open(\"htmlbills.txt\", \"wb\") as outfile:\n",
    "    for file in os.listdir(filedir):\n",
    "        if file.endswith('.txt'):\n",
    "            with open(f\"{filedir}{file}\", \"rb\") as infile:\n",
    "                outfile.write(infile.read())\n",
    "        else:\n",
    "            continue"
   ]
  },
  {
   "cell_type": "code",
   "execution_count": 4,
   "id": "f355b657",
   "metadata": {},
   "outputs": [],
   "source": [
    "filedir = f\"/Users/gabriel/Documents/GitHub/legiscan/azcentral-text-reuse-model-legislation/notebooks/20230302 Bill PDFs/\"\n",
    "with open(\"pdfbills.txt\", \"wb\") as outfile:\n",
    "    for file in os.listdir(filedir):\n",
    "        if file.endswith('.txt'):\n",
    "            with open(f\"{filedir}{file}\", \"rb\") as infile:\n",
    "                outfile.write(infile.read())\n",
    "        else:\n",
    "            continue"
   ]
  },
  {
   "cell_type": "code",
   "execution_count": 5,
   "id": "5af4af8d",
   "metadata": {},
   "outputs": [],
   "source": [
    "newfiledir = f\"/Users/gabriel/Documents/GitHub/legiscan/azcentral-text-reuse-model-legislation/notebooks/\"\n",
    "with open(\"allbills.txt\", \"wb\") as outfile:\n",
    "    for file in os.listdir(newfiledir):\n",
    "        if file.endswith('.txt'):\n",
    "            with open(f\"{newfiledir}{file}\", \"rb\") as infile:\n",
    "                outfile.write(infile.read())\n",
    "        else:\n",
    "            continue"
   ]
  }
 ],
 "metadata": {
  "kernelspec": {
   "display_name": "Python 3 (ipykernel)",
   "language": "python",
   "name": "python3"
  },
  "language_info": {
   "codemirror_mode": {
    "name": "ipython",
    "version": 3
   },
   "file_extension": ".py",
   "mimetype": "text/x-python",
   "name": "python",
   "nbconvert_exporter": "python",
   "pygments_lexer": "ipython3",
   "version": "3.9.13"
  }
 },
 "nbformat": 4,
 "nbformat_minor": 5
}
